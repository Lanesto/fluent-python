{
 "metadata": {
  "language_info": {
   "codemirror_mode": {
    "name": "ipython",
    "version": 3
   },
   "file_extension": ".py",
   "mimetype": "text/x-python",
   "name": "python",
   "nbconvert_exporter": "python",
   "pygments_lexer": "ipython3",
   "version": "3.9.1-final"
  },
  "orig_nbformat": 2,
  "kernelspec": {
   "name": "python3",
   "display_name": "Python 3",
   "language": "python"
  }
 },
 "nbformat": 4,
 "nbformat_minor": 2,
 "cells": [
  {
   "cell_type": "code",
   "execution_count": 1,
   "metadata": {},
   "outputs": [],
   "source": [
    "%load_ext pycodestyle_magic\n",
    "%pycodestyle_on"
   ]
  },
  {
   "cell_type": "code",
   "execution_count": 2,
   "metadata": {},
   "outputs": [],
   "source": [
    "import doctest"
   ]
  },
  {
   "cell_type": "code",
   "execution_count": 3,
   "metadata": {},
   "outputs": [
    {
     "output_type": "stream",
     "name": "stdout",
     "text": [
      "ping: <__main__.D object at 0x7f48f0471ca0>\npost-ping: <__main__.D object at 0x7f48f0471ca0>\nping: <__main__.D object at 0x7f48f0471ca0>\npong: <__main__.D object at 0x7f48f0471ca0>\npong: <__main__.D object at 0x7f48f0471ca0>\nPONG: <__main__.D object at 0x7f48f0471ca0>\n"
     ]
    }
   ],
   "source": [
    "class A:\n",
    "    def ping(self):\n",
    "        print('ping:', self)\n",
    "\n",
    "\n",
    "class B(A):\n",
    "    def pong(self):\n",
    "        print('pong:', self)\n",
    "\n",
    "\n",
    "class C(A):\n",
    "    def pong(self):\n",
    "        print('PONG:', self)\n",
    "\n",
    "\n",
    "class D(B, C):\n",
    "    def ping(self):\n",
    "        super().ping()\n",
    "        print('post-ping:', self)\n",
    "\n",
    "    def pingpong(self):\n",
    "        self.ping()\n",
    "        super().ping()\n",
    "        self.pong()\n",
    "        super().pong()\n",
    "        C.pong(self)\n",
    "\n",
    "\n",
    "d = D()\n",
    "d.pingpong()"
   ]
  },
  {
   "cell_type": "code",
   "execution_count": 4,
   "metadata": {},
   "outputs": [
    {
     "output_type": "stream",
     "name": "stdout",
     "text": [
      "bool -> int -> object\nIntegral -> Rational -> Real -> Complex -> Number -> object\nTextIOWrapper -> _TextIOBase -> _IOBase -> object\n"
     ]
    }
   ],
   "source": [
    "import numbers\n",
    "import io\n",
    "\n",
    "\n",
    "def print_mro(cls):\n",
    "    print(' -> '.join(c.__name__ for c in cls.__mro__))\n",
    "\n",
    "\n",
    "print_mro(bool)\n",
    "print_mro(numbers.Integral)\n",
    "print_mro(io.TextIOWrapper)"
   ]
  }
 ]
}