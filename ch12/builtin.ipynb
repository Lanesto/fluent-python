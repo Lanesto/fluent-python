{
 "metadata": {
  "orig_nbformat": 2,
  "kernelspec": {
   "name": "python3",
   "display_name": "Python 3",
   "language": "python"
  }
 },
 "nbformat": 4,
 "nbformat_minor": 2,
 "cells": [
  {
   "cell_type": "code",
   "execution_count": 1,
   "metadata": {},
   "outputs": [],
   "source": [
    "%load_ext pycodestyle_magic\n",
    "%pycodestyle_on"
   ]
  },
  {
   "cell_type": "code",
   "execution_count": 2,
   "metadata": {},
   "outputs": [],
   "source": [
    "import doctest"
   ]
  },
  {
   "cell_type": "code",
   "execution_count": 3,
   "metadata": {},
   "outputs": [
    {
     "output_type": "execute_result",
     "data": {
      "text/plain": [
       "TestResults(failed=0, attempted=13)"
      ]
     },
     "metadata": {},
     "execution_count": 3
    }
   ],
   "source": [
    "from collections import UserDict\n",
    "\n",
    "\n",
    "class DoppelDict2(UserDict):\n",
    "\n",
    "    def __setitem__(self, key, value):\n",
    "        super().__setitem__(key, [value] * 2)\n",
    "\n",
    "\n",
    "\"\"\"\n",
    "\n",
    ">>> class DoppelDict(dict):\n",
    "...     def __setitem__(self, key, value):\n",
    "...         super().__setitem__(key, [value] * 2)\n",
    ">>> dd = DoppelDict(one=1)\n",
    ">>> dd\n",
    "{'one': 1}\n",
    ">>> dd['two'] = 2\n",
    ">>> dd\n",
    "{'one': 1, 'two': [2, 2]}\n",
    ">>> dd.update(three=3)\n",
    ">>> dd\n",
    "{'one': 1, 'two': [2, 2], 'three': 3}\n",
    ">>> dd = DoppelDict2(one=1)\n",
    ">>> dd\n",
    "{'one': [1, 1]}\n",
    ">>> dd['two'] = 2\n",
    ">>> dd\n",
    "{'one': [1, 1], 'two': [2, 2]}\n",
    ">>> dd.update(three=3)\n",
    ">>> dd\n",
    "{'one': [1, 1], 'two': [2, 2], 'three': [3, 3]}\n",
    "\"\"\"\n",
    "\n",
    "doctest.testmod()"
   ]
  },
  {
   "cell_type": "code",
   "execution_count": 4,
   "metadata": {},
   "outputs": [
    {
     "output_type": "execute_result",
     "data": {
      "text/plain": [
       "TestResults(failed=0, attempted=6)"
      ]
     },
     "metadata": {},
     "execution_count": 4
    }
   ],
   "source": [
    "\"\"\"\n",
    "\n",
    ">>> class AnswerDict(dict):\n",
    "...     def __getitem__(self, key):\n",
    "...         return 42\n",
    ">>> ad = AnswerDict(a='foo')\n",
    ">>> ad['a']\n",
    "42\n",
    ">>> d = {}\n",
    ">>> d.update(ad)\n",
    ">>> d['a']\n",
    "'foo'\n",
    "\"\"\"\n",
    "\n",
    "doctest.testmod()"
   ]
  }
 ]
}