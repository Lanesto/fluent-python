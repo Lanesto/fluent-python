{
 "metadata": {
  "language_info": {
   "codemirror_mode": {
    "name": "ipython",
    "version": 3
   },
   "file_extension": ".py",
   "mimetype": "text/x-python",
   "name": "python",
   "nbconvert_exporter": "python",
   "pygments_lexer": "ipython3",
   "version": "3.9.1-final"
  },
  "orig_nbformat": 2,
  "kernelspec": {
   "name": "python3",
   "display_name": "Python 3",
   "language": "python"
  }
 },
 "nbformat": 4,
 "nbformat_minor": 2,
 "cells": [
  {
   "cell_type": "code",
   "execution_count": 1,
   "metadata": {},
   "outputs": [],
   "source": [
    "%load_ext pycodestyle_magic\n",
    "%pycodestyle_on"
   ]
  },
  {
   "cell_type": "code",
   "execution_count": 2,
   "metadata": {},
   "outputs": [],
   "source": [
    "import doctest"
   ]
  },
  {
   "cell_type": "code",
   "execution_count": 3,
   "metadata": {},
   "outputs": [
    {
     "output_type": "stream",
     "name": "stdout",
     "text": [
      "**********************************************************************\nFile \"__main__\", line 6, in __main__\nFailed example:\n    y = Gizmo() * 10  # doctest: +ELLIPSIS\nException raised:\n    Traceback (most recent call last):\n      File \"/usr/local/lib/python3.9/doctest.py\", line 1336, in __run\n        exec(compile(example.source, filename, \"single\",\n      File \"<doctest __main__[1]>\", line 1, in <module>\n        y = Gizmo() * 10  # doctest: +ELLIPSIS\n    TypeError: unsupported operand type(s) for *: 'Gizmo' and 'int'\n**********************************************************************\n1 items had failures:\n   1 of   2 in __main__\n***Test Failed*** 1 failures.\n"
     ]
    },
    {
     "output_type": "execute_result",
     "data": {
      "text/plain": [
       "TestResults(failed=1, attempted=2)"
      ]
     },
     "metadata": {},
     "execution_count": 3
    }
   ],
   "source": [
    "class Gizmo:\n",
    "\n",
    "    def __init__(self):\n",
    "        print(f'Gizmo id: {id(self)}')\n",
    "\n",
    "\n",
    "\"\"\"\n",
    "\n",
    ">>> x = Gizmo()  # doctest: +ELLIPSIS\n",
    "Gizmo id: ...\n",
    ">>> y = Gizmo() * 10  # doctest: +ELLIPSIS\n",
    "Gizmo id: ...\n",
    "Traceback (most recent call last):\n",
    "    ...\n",
    "TypeError: unsupported operand type(s) for *: 'Gizmo' and 'int'\n",
    "\"\"\"\n",
    "\n",
    "doctest.testmod()"
   ]
  },
  {
   "cell_type": "code",
   "execution_count": 4,
   "metadata": {},
   "outputs": [
    {
     "output_type": "execute_result",
     "data": {
      "text/plain": [
       "TestResults(failed=0, attempted=9)"
      ]
     },
     "metadata": {},
     "execution_count": 4
    }
   ],
   "source": [
    "\"\"\"\n",
    "\n",
    ">>> charles = {'name': 'Charles L. Dodgson', 'born': 1832}\n",
    ">>> lewis = charles\n",
    ">>> lewis is charles\n",
    "True\n",
    ">>> id(charles) == id(lewis)  # doctest: +ELLIPSIS\n",
    "True\n",
    ">>> lewis['balance'] = 950\n",
    ">>> charles\n",
    "{'name': 'Charles L. Dodgson', 'born': 1832, 'balance': 950}\n",
    ">>> alex = {'name': 'Charles L. Dodgson', 'born': 1832, 'balance': 950}\n",
    ">>> alex == charles\n",
    "True\n",
    ">>> alex is charles\n",
    "False\n",
    "\"\"\"\n",
    "\n",
    "doctest.testmod()"
   ]
  },
  {
   "cell_type": "code",
   "execution_count": 5,
   "metadata": {},
   "outputs": [
    {
     "output_type": "execute_result",
     "data": {
      "text/plain": [
       "TestResults(failed=0, attempted=9)"
      ]
     },
     "metadata": {},
     "execution_count": 5
    }
   ],
   "source": [
    "\"\"\"\n",
    "\n",
    ">>> t1 = (1, 2, [30, 40])\n",
    ">>> t2 = (1, 2, [30, 40])\n",
    ">>> t1 == t2\n",
    "True\n",
    ">>> i1 = id(t1)\n",
    ">>> t1[-1].append(99)\n",
    ">>> t1\n",
    "(1, 2, [30, 40, 99])\n",
    ">>> i2 = id(t1)\n",
    ">>> i1 == i2\n",
    "True\n",
    ">>> t1 == t2\n",
    "False\n",
    "\"\"\"\n",
    "\n",
    "doctest.testmod()"
   ]
  },
  {
   "cell_type": "code",
   "execution_count": null,
   "metadata": {},
   "outputs": [],
   "source": []
  }
 ]
}