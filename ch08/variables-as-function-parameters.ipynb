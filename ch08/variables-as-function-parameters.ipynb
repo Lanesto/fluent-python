{
 "metadata": {
  "language_info": {
   "codemirror_mode": {
    "name": "ipython",
    "version": 3
   },
   "file_extension": ".py",
   "mimetype": "text/x-python",
   "name": "python",
   "nbconvert_exporter": "python",
   "pygments_lexer": "ipython3",
   "version": "3.9.1-final"
  },
  "orig_nbformat": 2,
  "kernelspec": {
   "name": "python3",
   "display_name": "Python 3",
   "language": "python"
  }
 },
 "nbformat": 4,
 "nbformat_minor": 2,
 "cells": [
  {
   "cell_type": "code",
   "execution_count": 1,
   "metadata": {},
   "outputs": [],
   "source": [
    "%load_ext pycodestyle_magic\n",
    "%pycodestyle_on"
   ]
  },
  {
   "cell_type": "code",
   "execution_count": 2,
   "metadata": {},
   "outputs": [],
   "source": [
    "import doctest"
   ]
  },
  {
   "cell_type": "code",
   "execution_count": 3,
   "metadata": {},
   "outputs": [
    {
     "output_type": "execute_result",
     "data": {
      "text/plain": [
       "TestResults(failed=0, attempted=13)"
      ]
     },
     "metadata": {},
     "execution_count": 3
    }
   ],
   "source": [
    "\"\"\"\n",
    "\n",
    ">>> def f(a, b):\n",
    "...     a += b\n",
    "...     return a\n",
    ">>> x = 1\n",
    ">>> y = 2\n",
    ">>> f(x, y)\n",
    "3\n",
    ">>> x, y\n",
    "(1, 2)\n",
    ">>> a = [1, 2]\n",
    ">>> b = [3, 4]\n",
    ">>> f(a, b)\n",
    "[1, 2, 3, 4]\n",
    ">>> a, b\n",
    "([1, 2, 3, 4], [3, 4])\n",
    ">>> t = (10, 20)\n",
    ">>> u = (30, 40)\n",
    ">>> f(t, u)\n",
    "(10, 20, 30, 40)\n",
    ">>> t, u\n",
    "((10, 20), (30, 40))\n",
    "\"\"\"\n",
    "\n",
    "doctest.testmod()"
   ]
  },
  {
   "cell_type": "code",
   "execution_count": 4,
   "metadata": {},
   "outputs": [
    {
     "output_type": "execute_result",
     "data": {
      "text/plain": [
       "TestResults(failed=0, attempted=16)"
      ]
     },
     "metadata": {},
     "execution_count": 4
    }
   ],
   "source": [
    "class HauntedBus:\n",
    "\n",
    "    def __init__(self, passengers=[]):\n",
    "        self.passengers = passengers\n",
    "\n",
    "    def pick(self, name):\n",
    "        self.passengers.append(name)\n",
    "\n",
    "    def drop(self, name):\n",
    "        self.passengers.remove(name)\n",
    "\n",
    "\n",
    "\"\"\"\n",
    "\n",
    ">>> HauntedBus.__init__.__defaults__\n",
    "([],)\n",
    ">>> bus1 = HauntedBus(['Alice', 'Bill'])\n",
    ">>> bus1.passengers\n",
    "['Alice', 'Bill']\n",
    ">>> bus1.pick('Charlie')\n",
    ">>> bus1.drop('Alice')\n",
    ">>> bus1.passengers\n",
    "['Bill', 'Charlie']\n",
    ">>> bus2 = HauntedBus()\n",
    ">>> bus2.pick('Carrie')\n",
    ">>> bus2.passengers\n",
    "['Carrie']\n",
    ">>> bus3 = HauntedBus()\n",
    ">>> bus3.passengers\n",
    "['Carrie']\n",
    ">>> bus3.pick('Dave')\n",
    ">>> bus2.passengers\n",
    "['Carrie', 'Dave']\n",
    ">>> bus2.passengers is bus3.passengers\n",
    "True\n",
    ">>> bus1.passengers\n",
    "['Bill', 'Charlie']\n",
    ">>> HauntedBus.__init__.__defaults__\n",
    "(['Carrie', 'Dave'],)\n",
    "\"\"\"\n",
    "\n",
    "doctest.testmod()"
   ]
  },
  {
   "cell_type": "code",
   "execution_count": null,
   "metadata": {},
   "outputs": [],
   "source": []
  }
 ]
}