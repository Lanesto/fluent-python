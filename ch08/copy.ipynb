{
 "metadata": {
  "language_info": {
   "codemirror_mode": {
    "name": "ipython",
    "version": 3
   },
   "file_extension": ".py",
   "mimetype": "text/x-python",
   "name": "python",
   "nbconvert_exporter": "python",
   "pygments_lexer": "ipython3",
   "version": "3.9.1-final"
  },
  "orig_nbformat": 2,
  "kernelspec": {
   "name": "python3",
   "display_name": "Python 3",
   "language": "python"
  }
 },
 "nbformat": 4,
 "nbformat_minor": 2,
 "cells": [
  {
   "cell_type": "code",
   "execution_count": 1,
   "metadata": {},
   "outputs": [],
   "source": [
    "%load_ext pycodestyle_magic\n",
    "%pycodestyle_on"
   ]
  },
  {
   "cell_type": "code",
   "execution_count": 2,
   "metadata": {},
   "outputs": [],
   "source": [
    "import doctest"
   ]
  },
  {
   "cell_type": "code",
   "execution_count": 3,
   "metadata": {},
   "outputs": [
    {
     "output_type": "execute_result",
     "data": {
      "text/plain": [
       "TestResults(failed=0, attempted=10)"
      ]
     },
     "metadata": {},
     "execution_count": 3
    }
   ],
   "source": [
    "\"\"\"\n",
    "\n",
    ">>> l1 = [3, [55, 44], (7, 8, 9)]\n",
    ">>> l2 = list(l1)\n",
    ">>> l2\n",
    "[3, [55, 44], (7, 8, 9)]\n",
    ">>> l1 == l2\n",
    "True\n",
    ">>> l1 is l2\n",
    "False\n",
    ">>> l1.append(100)\n",
    ">>> l1[1].remove(55)\n",
    ">>> l2[2] += (10, 11)\n",
    ">>> l1\n",
    "[3, [44], (7, 8, 9), 100]\n",
    ">>> l2\n",
    "[3, [44], (7, 8, 9, 10, 11)]\n",
    "\"\"\"\n",
    "\n",
    "doctest.testmod()"
   ]
  },
  {
   "cell_type": "code",
   "execution_count": 4,
   "metadata": {},
   "outputs": [
    {
     "output_type": "execute_result",
     "data": {
      "text/plain": [
       "TestResults(failed=0, attempted=8)"
      ]
     },
     "metadata": {},
     "execution_count": 4
    }
   ],
   "source": [
    "import copy\n",
    "\n",
    "\n",
    "class Bus:\n",
    "\n",
    "    def __init__(self, passengers=None):\n",
    "        if passengers is None:\n",
    "            self.passengers = []\n",
    "        else:\n",
    "            self.passengers = list(passengers)\n",
    "\n",
    "    def pick(self, name):\n",
    "        self.passengers.append(name)\n",
    "\n",
    "    def drop(self, name):\n",
    "        self.passengers.remove(name)\n",
    "\n",
    "\n",
    "\"\"\"\n",
    "\n",
    ">>> bus1 = Bus(['Alice', 'Bill', 'Claire', 'David'])\n",
    ">>> bus2 = copy.copy(bus1)\n",
    ">>> bus3 = copy.deepcopy(bus1)\n",
    ">>> bus1.drop('Bill')\n",
    ">>> bus2.passengers\n",
    "['Alice', 'Claire', 'David']\n",
    ">>> bus1.passengers is bus2.passengers\n",
    "True\n",
    ">>> bus3.passengers\n",
    "['Alice', 'Bill', 'Claire', 'David']\n",
    ">>> bus1.passengers is not bus3.passengers\n",
    "True\n",
    "\"\"\"\n",
    "\n",
    "doctest.testmod()"
   ]
  },
  {
   "cell_type": "code",
   "execution_count": 5,
   "metadata": {},
   "outputs": [
    {
     "output_type": "execute_result",
     "data": {
      "text/plain": [
       "TestResults(failed=0, attempted=6)"
      ]
     },
     "metadata": {},
     "execution_count": 5
    }
   ],
   "source": [
    "from copy import deepcopy\n",
    "\n",
    "\"\"\"\n",
    "\n",
    ">>> a = [10, 20]\n",
    ">>> b = [a, 30]\n",
    ">>> a.append(b)\n",
    ">>> a\n",
    "[10, 20, [[...], 30]]\n",
    ">>> c = deepcopy(a)\n",
    ">>> c\n",
    "[10, 20, [[...], 30]]\n",
    "\"\"\"\n",
    "\n",
    "doctest.testmod()"
   ]
  },
  {
   "cell_type": "code",
   "execution_count": null,
   "metadata": {},
   "outputs": [],
   "source": []
  }
 ]
}