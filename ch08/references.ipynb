{
 "metadata": {
  "language_info": {
   "codemirror_mode": {
    "name": "ipython",
    "version": 3
   },
   "file_extension": ".py",
   "mimetype": "text/x-python",
   "name": "python",
   "nbconvert_exporter": "python",
   "pygments_lexer": "ipython3",
   "version": "3.9.1-final"
  },
  "orig_nbformat": 2,
  "kernelspec": {
   "name": "python3",
   "display_name": "Python 3",
   "language": "python"
  }
 },
 "nbformat": 4,
 "nbformat_minor": 2,
 "cells": [
  {
   "cell_type": "code",
   "execution_count": 1,
   "metadata": {},
   "outputs": [],
   "source": [
    "%load_ext pycodestyle_magic\n",
    "%pycodestyle_on"
   ]
  },
  {
   "cell_type": "code",
   "execution_count": 2,
   "metadata": {},
   "outputs": [],
   "source": [
    "import doctest"
   ]
  },
  {
   "cell_type": "code",
   "execution_count": 3,
   "metadata": {},
   "outputs": [
    {
     "output_type": "execute_result",
     "data": {
      "text/plain": [
       "TestResults(failed=0, attempted=9)"
      ]
     },
     "metadata": {},
     "execution_count": 3
    }
   ],
   "source": [
    "import weakref\n",
    "\n",
    "\"\"\"\n",
    "\n",
    ">>> s1 = {1, 2, 3}\n",
    ">>> s2 = s1\n",
    ">>> def bye():\n",
    "...     print('Gone with the wind...')\n",
    ">>> ender = weakref.finalize(s1, bye)\n",
    ">>> ender.alive\n",
    "True\n",
    ">>> del s1\n",
    ">>> ender.alive\n",
    "True\n",
    ">>> s2 = 'spam'\n",
    "Gone with the wind...\n",
    ">>> ender.alive\n",
    "False\n",
    "\"\"\"\n",
    "\n",
    "doctest.testmod()"
   ]
  },
  {
   "cell_type": "code",
   "execution_count": 4,
   "metadata": {},
   "outputs": [
    {
     "output_type": "execute_result",
     "data": {
      "text/plain": [
       "TestResults(failed=0, attempted=8)"
      ]
     },
     "metadata": {},
     "execution_count": 4
    }
   ],
   "source": [
    "import weakref\n",
    "\n",
    "\"\"\"\n",
    "\n",
    ">>> a_set = {0, 1}\n",
    ">>> wref = weakref.ref(a_set)\n",
    ">>> wref  # doctest: +ELLIPSIS\n",
    "<weakref at ...; to 'set' at ...>\n",
    ">>> wref()\n",
    "{0, 1}\n",
    ">>> a_set = {2, 3, 4}\n",
    ">>> wref()\n",
    "{0, 1}\n",
    ">>> wref() is None\n",
    "False\n",
    ">>> wref() is None\n",
    "True\n",
    "\"\"\"\n",
    "\n",
    "doctest.testmod()"
   ]
  },
  {
   "cell_type": "code",
   "execution_count": 5,
   "metadata": {},
   "outputs": [
    {
     "output_type": "execute_result",
     "data": {
      "text/plain": [
       "TestResults(failed=0, attempted=9)"
      ]
     },
     "metadata": {},
     "execution_count": 5
    }
   ],
   "source": [
    "import weakref\n",
    "\n",
    "\n",
    "class Cheese:\n",
    "\n",
    "    def __init__(self, kind):\n",
    "        self.kind = kind\n",
    "\n",
    "    def __repr__(self):\n",
    "        return 'Cheese({!r})'.format(self.kind)\n",
    "\n",
    "\n",
    "\"\"\"\n",
    "\n",
    ">>> stock = weakref.WeakValueDictionary()\n",
    ">>> catalog = list(map(Cheese, ['Red Leicester', 'Tilsit', 'Brie', 'Parmesan']))\n",
    ">>> for cheese in catalog:\n",
    "...     stock[cheese.kind] = cheese\n",
    ">>> sorted(stock.keys())\n",
    "['Brie', 'Parmesan', 'Red Leicester', 'Tilsit']\n",
    ">>> del catalog\n",
    ">>> sorted(stock.keys())\n",
    "['Parmesan']\n",
    ">>> cheese is not None\n",
    "True\n",
    ">>> del cheese\n",
    ">>> sorted(stock.keys())\n",
    "[]\n",
    "\"\"\"  # noqa: E501\n",
    "\n",
    "doctest.testmod()"
   ]
  },
  {
   "cell_type": "code",
   "execution_count": 6,
   "metadata": {},
   "outputs": [
    {
     "output_type": "execute_result",
     "data": {
      "text/plain": [
       "TestResults(failed=0, attempted=7)"
      ]
     },
     "metadata": {},
     "execution_count": 6
    }
   ],
   "source": [
    "from weakref import WeakSet\n",
    "\n",
    "\n",
    "class History:\n",
    "    past = WeakSet()\n",
    "\n",
    "    def __init__(self, log):\n",
    "        History.past.add(self)\n",
    "\n",
    "\n",
    "\"\"\"\n",
    "\n",
    ">>> h1 = History('a log')\n",
    ">>> h2 = History('b log')\n",
    ">>> History.past  # doctest: +ELLIPSIS\n",
    "{<weakref at ...; to 'History' at ...>, ...}\n",
    ">>> del h1\n",
    ">>> History.past  # doctest: +ELLIPSIS\n",
    "{<weakref at ...; to 'History' at ...>}\n",
    ">>> del h2\n",
    ">>> History.past\n",
    "set()\n",
    "\"\"\"\n",
    "\n",
    "doctest.testmod()"
   ]
  },
  {
   "cell_type": "code",
   "execution_count": 7,
   "metadata": {},
   "outputs": [
    {
     "output_type": "execute_result",
     "data": {
      "text/plain": [
       "TestResults(failed=0, attempted=8)"
      ]
     },
     "metadata": {},
     "execution_count": 7
    }
   ],
   "source": [
    "\"\"\"\n",
    "\n",
    ">>> t1 = (1, 2, 3)\n",
    ">>> t2 = tuple(t1)\n",
    ">>> t1 is t2\n",
    "True\n",
    ">>> t3 = t1[:]\n",
    ">>> t3 is t1\n",
    "True\n",
    ">>> s1 = 'ABC'\n",
    ">>> s2 = 'ABC'\n",
    ">>> s1 is s2\n",
    "True\n",
    "\"\"\"\n",
    "\n",
    "doctest.testmod()"
   ]
  },
  {
   "cell_type": "code",
   "execution_count": null,
   "metadata": {},
   "outputs": [],
   "source": []
  }
 ]
}