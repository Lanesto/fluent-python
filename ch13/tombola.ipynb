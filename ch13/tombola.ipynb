{
 "metadata": {
  "language_info": {
   "codemirror_mode": {
    "name": "ipython",
    "version": 3
   },
   "file_extension": ".py",
   "mimetype": "text/x-python",
   "name": "python",
   "nbconvert_exporter": "python",
   "pygments_lexer": "ipython3",
   "version": "3.9.1-final"
  },
  "orig_nbformat": 2,
  "kernelspec": {
   "name": "python3",
   "display_name": "Python 3",
   "language": "python"
  }
 },
 "nbformat": 4,
 "nbformat_minor": 2,
 "cells": [
  {
   "cell_type": "code",
   "execution_count": 1,
   "metadata": {},
   "outputs": [],
   "source": [
    "%load_ext pycodestyle_magic\n",
    "%pycodestyle_on"
   ]
  },
  {
   "cell_type": "code",
   "execution_count": 2,
   "metadata": {},
   "outputs": [],
   "source": [
    "import doctest"
   ]
  },
  {
   "cell_type": "code",
   "execution_count": 3,
   "metadata": {},
   "outputs": [],
   "source": [
    "import abc\n",
    "import random\n",
    "\n",
    "\n",
    "class Tombola(abc.ABC):\n",
    "\n",
    "    @abc.abstractmethod\n",
    "    def load(self, iterable):\n",
    "        pass\n",
    "\n",
    "    @abc.abstractmethod\n",
    "    def pick(self):\n",
    "        pass\n",
    "\n",
    "    def loaded(self):\n",
    "        return bool(self.inspect())\n",
    "\n",
    "    def inspect(self):\n",
    "        items = []\n",
    "        while True:\n",
    "            try:\n",
    "                items.append(self.pick())\n",
    "            except LookupError:\n",
    "                break\n",
    "\n",
    "        self.load(items)\n",
    "        return tuple(sorted(items))\n",
    "\n",
    "\n",
    "class BingoCage(Tombola):\n",
    "\n",
    "    def __init__(self, items):\n",
    "        self._randomizer = random.SystemRandom()\n",
    "        self._items = []\n",
    "        self.load(items)\n",
    "\n",
    "    def load(self, items):\n",
    "        self._items.extend(items)\n",
    "        self._randomizer.shuffle(self._items)\n",
    "\n",
    "    def pick(self):\n",
    "        cls = type(self)\n",
    "        try:\n",
    "            return self._items.pop()\n",
    "        except IndexError:\n",
    "            raise LookupError(f'pick from empty {cls.__name__}')\n",
    "\n",
    "    def __call__(self):\n",
    "        return self.pick()"
   ]
  },
  {
   "cell_type": "code",
   "execution_count": 4,
   "metadata": {},
   "outputs": [
    {
     "output_type": "execute_result",
     "data": {
      "text/plain": [
       "TestResults(failed=0, attempted=5)"
      ]
     },
     "metadata": {},
     "execution_count": 4
    }
   ],
   "source": [
    "class AddableBingoCage(BingoCage):\n",
    "\n",
    "    def __add__(self, other):\n",
    "        cls = type(self)\n",
    "        if isinstance(other, Tombola):\n",
    "            return cls(self.inspect() + other.inspect())\n",
    "\n",
    "        return NotImplemented\n",
    "\n",
    "    def __iadd__(self, other):\n",
    "        if isinstance(other, Tombola):\n",
    "            other_iterable = other.inspect()\n",
    "        else:\n",
    "            try:\n",
    "                other_iterable = iter(other)\n",
    "            except TypeError:\n",
    "                msg = 'right operand in += must be {!r} or an iterable'\n",
    "                raise TypeError(msg.format(cls.__name__))\n",
    "\n",
    "        self.load(other_iterable)\n",
    "        return self\n",
    "\n",
    "\n",
    "\"\"\"\n",
    "\n",
    ">>> bc = AddableBingoCage([1, 2, 3])\n",
    ">>> bc2 = AddableBingoCage([4, 5, 6])\n",
    ">>> (bc + bc2).inspect()\n",
    "(1, 2, 3, 4, 5, 6)\n",
    ">>> bc += bc2\n",
    ">>> bc.inspect()\n",
    "(1, 2, 3, 4, 5, 6)\n",
    "\"\"\"\n",
    "\n",
    "doctest.testmod()"
   ]
  }
 ]
}