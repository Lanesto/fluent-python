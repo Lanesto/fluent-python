{
 "metadata": {
  "language_info": {
   "codemirror_mode": {
    "name": "ipython",
    "version": 3
   },
   "file_extension": ".py",
   "mimetype": "text/x-python",
   "name": "python",
   "nbconvert_exporter": "python",
   "pygments_lexer": "ipython3",
   "version": "3.9.1-final"
  },
  "orig_nbformat": 2,
  "kernelspec": {
   "name": "python3",
   "display_name": "Python 3",
   "language": "python"
  }
 },
 "nbformat": 4,
 "nbformat_minor": 2,
 "cells": [
  {
   "cell_type": "code",
   "execution_count": 1,
   "metadata": {},
   "outputs": [],
   "source": [
    "%load_ext pycodestyle_magic\n",
    "%pycodestyle_on"
   ]
  },
  {
   "cell_type": "code",
   "execution_count": 2,
   "metadata": {},
   "outputs": [],
   "source": [
    "import doctest"
   ]
  },
  {
   "cell_type": "code",
   "execution_count": 3,
   "metadata": {},
   "outputs": [
    {
     "output_type": "execute_result",
     "data": {
      "text/plain": [
       "TestResults(failed=0, attempted=8)"
      ]
     },
     "metadata": {},
     "execution_count": 3
    }
   ],
   "source": [
    "import decimal\n",
    "\n",
    "\n",
    "\"\"\"\n",
    "\n",
    ">>> ctx = decimal.getcontext()\n",
    ">>> ctx.prec = 40\n",
    ">>> one_third = decimal.Decimal('1') / decimal.Decimal('3')\n",
    ">>> one_third\n",
    "Decimal('0.3333333333333333333333333333333333333333')\n",
    ">>> one_third == +one_third\n",
    "True\n",
    ">>> ctx.prec = 28\n",
    ">>> one_third == +one_third\n",
    "False\n",
    ">>> +one_third\n",
    "Decimal('0.3333333333333333333333333333')\n",
    "\"\"\"\n",
    "\n",
    "doctest.testmod()"
   ]
  },
  {
   "cell_type": "code",
   "execution_count": 4,
   "metadata": {},
   "outputs": [
    {
     "output_type": "execute_result",
     "data": {
      "text/plain": [
       "TestResults(failed=0, attempted=6)"
      ]
     },
     "metadata": {},
     "execution_count": 4
    }
   ],
   "source": [
    "from collections import Counter\n",
    "\n",
    "\n",
    "\"\"\"\n",
    "\n",
    ">>> ct = Counter('abracadabra')\n",
    ">>> ct\n",
    "Counter({'a': 5, 'b': 2, 'r': 2, 'c': 1, 'd': 1})\n",
    ">>> ct['r'] = -3\n",
    ">>> ct['d'] = 0\n",
    ">>> ct\n",
    "Counter({'a': 5, 'b': 2, 'c': 1, 'd': 0, 'r': -3})\n",
    ">>> +ct\n",
    "Counter({'a': 5, 'b': 2, 'c': 1})\n",
    "\"\"\"\n",
    "\n",
    "doctest.testmod()"
   ]
  }
 ]
}