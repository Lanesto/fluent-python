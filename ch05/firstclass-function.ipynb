{
 "metadata": {
  "language_info": {
   "codemirror_mode": {
    "name": "ipython",
    "version": 3
   },
   "file_extension": ".py",
   "mimetype": "text/x-python",
   "name": "python",
   "nbconvert_exporter": "python",
   "pygments_lexer": "ipython3",
   "version": "3.9.1-final"
  },
  "orig_nbformat": 2,
  "kernelspec": {
   "name": "python3",
   "display_name": "Python 3",
   "language": "python"
  }
 },
 "nbformat": 4,
 "nbformat_minor": 2,
 "cells": [
  {
   "cell_type": "code",
   "execution_count": 1,
   "metadata": {},
   "outputs": [],
   "source": [
    "%load_ext pycodestyle_magic\n",
    "%pycodestyle_on"
   ]
  },
  {
   "cell_type": "code",
   "execution_count": 2,
   "metadata": {},
   "outputs": [],
   "source": [
    "import doctest"
   ]
  },
  {
   "cell_type": "code",
   "execution_count": 3,
   "metadata": {},
   "outputs": [
    {
     "output_type": "execute_result",
     "data": {
      "text/plain": [
       "TestResults(failed=0, attempted=10)"
      ]
     },
     "metadata": {},
     "execution_count": 3
    }
   ],
   "source": [
    "def factorial(n):\n",
    "    return 1 if n < 2 else n * factorial(n - 1)\n",
    "\n",
    "\n",
    "\"\"\"\n",
    "\n",
    ">>> factorial(42)\n",
    "1405006117752879898543142606244511569936384000000000\n",
    ">>> type(factorial)\n",
    "<class 'function'>\n",
    ">>> f = factorial\n",
    ">>> f  # doctest: +ELLIPSIS\n",
    "<function factorial at 0x...>\n",
    ">>> f(5)\n",
    "120\n",
    ">>> map(f, range(11))  # doctest: +ELLIPSIS\n",
    "<map object at 0x...>\n",
    ">>> list(map(f, range(11)))\n",
    "[1, 1, 2, 6, 24, 120, 720, 5040, 40320, 362880, 3628800]\n",
    ">>> [f(n) for n in range(6)]\n",
    "[1, 1, 2, 6, 24, 120]\n",
    ">>> list(map(f, filter(lambda n: n % 2, range(6))))\n",
    "[1, 6, 120]\n",
    ">>> [f(n) for n in range(6) if n % 2]\n",
    "[1, 6, 120]\n",
    "\"\"\"\n",
    "\n",
    "doctest.testmod()"
   ]
  },
  {
   "cell_type": "code",
   "execution_count": 4,
   "metadata": {},
   "outputs": [
    {
     "output_type": "execute_result",
     "data": {
      "text/plain": [
       "TestResults(failed=0, attempted=2)"
      ]
     },
     "metadata": {},
     "execution_count": 4
    }
   ],
   "source": [
    "from functools import reduce\n",
    "from operator import add\n",
    "\n",
    "\"\"\"\n",
    "\n",
    ">>> reduce(add, range(100))\n",
    "4950\n",
    ">>> sum(range(100))\n",
    "4950\n",
    "\"\"\"\n",
    "\n",
    "doctest.testmod()"
   ]
  },
  {
   "cell_type": "code",
   "execution_count": 5,
   "metadata": {},
   "outputs": [
    {
     "output_type": "stream",
     "name": "stdout",
     "text": [
      "\nwith function: 4.006690500013065\nlambda: 12.338655599975027\n\n"
     ]
    }
   ],
   "source": [
    "from timeit import timeit\n",
    "from functools import reduce\n",
    "from operator import add\n",
    "\n",
    "\n",
    "print(f'''\n",
    "with function: {timeit('reduce(add, range(100))', globals=globals())}\n",
    "lambda: {timeit('reduce(lambda x, y: x + y, range(100))', globals=globals())}\n",
    "''')"
   ]
  },
  {
   "cell_type": "code",
   "execution_count": null,
   "metadata": {},
   "outputs": [],
   "source": []
  }
 ]
}