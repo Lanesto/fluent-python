{
 "metadata": {
  "language_info": {
   "codemirror_mode": {
    "name": "ipython",
    "version": 3
   },
   "file_extension": ".py",
   "mimetype": "text/x-python",
   "name": "python",
   "nbconvert_exporter": "python",
   "pygments_lexer": "ipython3",
   "version": "3.9.1-final"
  },
  "orig_nbformat": 2,
  "kernelspec": {
   "name": "python3",
   "display_name": "Python 3",
   "language": "python"
  }
 },
 "nbformat": 4,
 "nbformat_minor": 2,
 "cells": [
  {
   "cell_type": "code",
   "execution_count": 1,
   "metadata": {},
   "outputs": [],
   "source": [
    "%load_ext pycodestyle_magic\n",
    "%pycodestyle_on"
   ]
  },
  {
   "cell_type": "code",
   "execution_count": 2,
   "metadata": {},
   "outputs": [],
   "source": [
    "import doctest"
   ]
  },
  {
   "cell_type": "code",
   "execution_count": 3,
   "metadata": {},
   "outputs": [
    {
     "output_type": "execute_result",
     "data": {
      "text/plain": [
       "['__annotations__',\n",
       " '__call__',\n",
       " '__class__',\n",
       " '__closure__',\n",
       " '__code__',\n",
       " '__defaults__',\n",
       " '__delattr__',\n",
       " '__dict__',\n",
       " '__dir__',\n",
       " '__doc__',\n",
       " '__eq__',\n",
       " '__format__',\n",
       " '__ge__',\n",
       " '__get__',\n",
       " '__getattribute__',\n",
       " '__globals__',\n",
       " '__gt__',\n",
       " '__hash__',\n",
       " '__init__',\n",
       " '__init_subclass__',\n",
       " '__kwdefaults__',\n",
       " '__le__',\n",
       " '__lt__',\n",
       " '__module__',\n",
       " '__name__',\n",
       " '__ne__',\n",
       " '__new__',\n",
       " '__qualname__',\n",
       " '__reduce__',\n",
       " '__reduce_ex__',\n",
       " '__repr__',\n",
       " '__setattr__',\n",
       " '__sizeof__',\n",
       " '__str__',\n",
       " '__subclasshook__',\n",
       " 'short_description']"
      ]
     },
     "metadata": {},
     "execution_count": 3
    }
   ],
   "source": [
    "def upper_case_name(obj):\n",
    "    return '%s %s'.format(obj.first_name, obj.last_name).upper()\n",
    "\n",
    "\n",
    "upper_case_name.short_description = 'Customer name'\n",
    "dir(upper_case_name)"
   ]
  },
  {
   "cell_type": "code",
   "execution_count": 4,
   "metadata": {},
   "outputs": [
    {
     "output_type": "execute_result",
     "data": {
      "text/plain": [
       "TestResults(failed=0, attempted=4)"
      ]
     },
     "metadata": {},
     "execution_count": 4
    }
   ],
   "source": [
    "\"\"\"\n",
    "\n",
    ">>> class C: pass\n",
    ">>> obj = C()\n",
    ">>> def func(): pass\n",
    ">>> sorted(set(dir(func)) - set(dir(obj)))\n",
    "['__annotations__', '__call__', '__closure__', '__code__', '__defaults__', '__get__', '__globals__', '__kwdefaults__', '__name__', '__qualname__']\n",
    "\"\"\"  # noqa: E501\n",
    "\n",
    "doctest.testmod()"
   ]
  },
  {
   "cell_type": "code",
   "execution_count": 5,
   "metadata": {},
   "outputs": [
    {
     "output_type": "execute_result",
     "data": {
      "text/plain": [
       "TestResults(failed=0, attempted=8)"
      ]
     },
     "metadata": {},
     "execution_count": 5
    }
   ],
   "source": [
    "def tag(name, *content, cls=None, **attrs):\n",
    "    if cls is not None:\n",
    "        attrs['class'] = cls\n",
    "\n",
    "    if attrs:\n",
    "        attr_str = ' '.join(f'{attr}=\"{value}\"'\n",
    "                            for attr, value in sorted(attrs.items()))\n",
    "        attr_str = attr_str.strip()\n",
    "    else:\n",
    "        attr_str = ''\n",
    "\n",
    "    attributes = f'{name} {attr_str}'.strip()\n",
    "    if content:\n",
    "        return '\\n'.join(f'<{attributes}>{c}</{name}>' for c in content)\n",
    "    else:\n",
    "        return f'<{attributes} />'.strip()\n",
    "\n",
    "\n",
    "\"\"\"\n",
    "\n",
    ">>> tag('br')\n",
    "'<br />'\n",
    ">>> tag('p', 'hello')\n",
    "'<p>hello</p>'\n",
    ">>> print(tag('p', 'hello', 'world'))\n",
    "<p>hello</p>\n",
    "<p>world</p>\n",
    ">>> tag('p', 'hello', id=33)\n",
    "'<p id=\"33\">hello</p>'\n",
    ">>> print(tag('p', 'hello', 'world', cls='sidebar'))\n",
    "<p class=\"sidebar\">hello</p>\n",
    "<p class=\"sidebar\">world</p>\n",
    ">>> tag(content=\"testing\", name=\"img\")\n",
    "'<img content=\"testing\" />'\n",
    ">>> my_tag = {'name': 'img', 'title': 'Sunset Boulevard', 'src': 'sunset.jpg', 'cls': 'framed'}\n",
    ">>> tag(**my_tag)\n",
    "'<img class=\"framed\" src=\"sunset.jpg\" title=\"Sunset Boulevard\" />'\n",
    "\"\"\"  # noqa: E501\n",
    "\n",
    "doctest.testmod()"
   ]
  },
  {
   "cell_type": "code",
   "execution_count": 6,
   "metadata": {},
   "outputs": [
    {
     "output_type": "execute_result",
     "data": {
      "text/plain": [
       "TestResults(failed=0, attempted=2)"
      ]
     },
     "metadata": {},
     "execution_count": 6
    }
   ],
   "source": [
    "def f(a, *, b):\n",
    "    return a, b\n",
    "\n",
    "\n",
    "\"\"\"\n",
    "\n",
    ">>> f(1, b=2)\n",
    "(1, 2)\n",
    ">>> f(1, 2)\n",
    "Traceback (most recent call last):\n",
    "    ...\n",
    "TypeError: f() takes 1 positional argument but 2 were given\n",
    "\"\"\"\n",
    "\n",
    "doctest.testmod()"
   ]
  },
  {
   "cell_type": "code",
   "execution_count": 7,
   "metadata": {},
   "outputs": [
    {
     "output_type": "execute_result",
     "data": {
      "text/plain": [
       "TestResults(failed=0, attempted=8)"
      ]
     },
     "metadata": {},
     "execution_count": 7
    }
   ],
   "source": [
    "from inspect import signature\n",
    "\n",
    "\n",
    "def clip(text, max_len=80):\n",
    "    end = None\n",
    "    if len(text) > max_len:\n",
    "        space_before = text.rfind(' ', 0, max_len)\n",
    "        if space_before >= 0:\n",
    "            end = space_before\n",
    "        else:\n",
    "            space_after = text.rfind(' ', max_len)\n",
    "            if space_after >= 0:\n",
    "                end = space_after\n",
    "\n",
    "    if end is None:\n",
    "        end = len(text)\n",
    "\n",
    "    return text[:end].rstrip()\n",
    "\n",
    "\n",
    "\"\"\"\n",
    "\n",
    ">>> clip.__defaults__\n",
    "(80,)\n",
    ">>> clip.__code__  # doctest: +ELLIPSIS\n",
    "<code object clip at 0x...>\n",
    ">>> clip.__code__.co_varnames\n",
    "('text', 'max_len', 'end', 'space_before', 'space_after')\n",
    ">>> clip.__code__.co_argcount\n",
    "2\n",
    ">>> sig = signature(clip)\n",
    ">>> sig\n",
    "<Signature (text, max_len=80)>\n",
    ">>> str(sig)\n",
    "'(text, max_len=80)'\n",
    ">>> for name, param in sig.parameters.items():\n",
    "...     print(param.kind, ':', name, '=', param.default)\n",
    "POSITIONAL_OR_KEYWORD : text = <class 'inspect._empty'>\n",
    "POSITIONAL_OR_KEYWORD : max_len = 80\n",
    "\"\"\"\n",
    "\n",
    "doctest.testmod()"
   ]
  },
  {
   "cell_type": "code",
   "execution_count": 8,
   "metadata": {},
   "outputs": [
    {
     "output_type": "execute_result",
     "data": {
      "text/plain": [
       "TestResults(failed=0, attempted=7)"
      ]
     },
     "metadata": {},
     "execution_count": 8
    }
   ],
   "source": [
    "import inspect\n",
    "\n",
    "\n",
    "def tag(name, *content, cls=None, **attrs):\n",
    "    if cls is not None:\n",
    "        attrs['class'] = cls\n",
    "\n",
    "    if attrs:\n",
    "        attr_str = ' '.join(f'{attr}=\"{value}\"'\n",
    "                            for attr, value in sorted(attrs.items()))\n",
    "        attr_str = attr_str.strip()\n",
    "    else:\n",
    "        attr_str = ''\n",
    "\n",
    "    attributes = f'{name} {attr_str}'.strip()\n",
    "    if content:\n",
    "        return '\\n'.join(f'<{attributes}>{c}</{name}>' for c in content)\n",
    "    else:\n",
    "        return f'<{attributes} />'.strip()\n",
    "\n",
    "\n",
    "\"\"\"\n",
    "\n",
    ">>> sig = inspect.signature(tag)\n",
    ">>> my_tag = {'name': 'img', 'title': 'Sunset Boulevard', 'src': 'sunset.jpg', 'cls': 'framed'}\n",
    ">>> bound_args = sig.bind(**my_tag)\n",
    ">>> bound_args  # doctest: +ELLIPSIS\n",
    "<BoundArguments (name='img', cls='framed', attrs={'title': 'Sunset Boulevard', 'src': 'sunset.jpg'})>\n",
    ">>> for name, value in bound_args.arguments.items():\n",
    "...     print(name, '=', value)\n",
    "name = img\n",
    "cls = framed\n",
    "attrs = {'title': 'Sunset Boulevard', 'src': 'sunset.jpg'}\n",
    ">>> del my_tag['name']\n",
    ">>> bound_args = sig.bind(**my_tag)\n",
    "Traceback (most recent call last):\n",
    "    ...\n",
    "TypeError: missing a required argument: 'name'\n",
    "\"\"\"  # noqa: E501\n",
    "\n",
    "doctest.testmod()"
   ]
  },
  {
   "cell_type": "code",
   "execution_count": 9,
   "metadata": {},
   "outputs": [
    {
     "output_type": "execute_result",
     "data": {
      "text/plain": [
       "TestResults(failed=0, attempted=4)"
      ]
     },
     "metadata": {},
     "execution_count": 9
    }
   ],
   "source": [
    "from inspect import signature\n",
    "\n",
    "\n",
    "def clip(text: str, max_len: 'int > 0' = 80) -> str:\n",
    "    end = None\n",
    "    if len(text) > max_len:\n",
    "        space_before = text.rfind(' ', 0, max_len)\n",
    "        if space_before >= 0:\n",
    "            end = space_before\n",
    "        else:\n",
    "            space_after = text.rfind(' ', max_len)\n",
    "            if space_after >= 0:\n",
    "                end = space_after\n",
    "\n",
    "    if end is None:\n",
    "        end = len(text)\n",
    "\n",
    "    return text[:end].rstrip()\n",
    "\n",
    "\n",
    "\"\"\"\n",
    "\n",
    ">>> clip.__annotations__\n",
    "{'text': <class 'str'>, 'max_len': 'int > 0', 'return': <class 'str'>}\n",
    ">>> sig = signature(clip)\n",
    ">>> sig.return_annotation\n",
    "<class 'str'>\n",
    ">>> for param in sig.parameters.values():\n",
    "...     note = repr(param.annotation).ljust(13)\n",
    "...     print(note, ':', param.name, '=', param.default)\n",
    "<class 'str'> : text = <class 'inspect._empty'>\n",
    "'int > 0'     : max_len = 80\n",
    "\"\"\"\n",
    "\n",
    "doctest.testmod()"
   ]
  },
  {
   "cell_type": "code",
   "execution_count": null,
   "metadata": {},
   "outputs": [],
   "source": []
  }
 ]
}