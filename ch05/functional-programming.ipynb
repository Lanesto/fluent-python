{
 "metadata": {
  "language_info": {
   "codemirror_mode": {
    "name": "ipython",
    "version": 3
   },
   "file_extension": ".py",
   "mimetype": "text/x-python",
   "name": "python",
   "nbconvert_exporter": "python",
   "pygments_lexer": "ipython3",
   "version": "3.9.1-final"
  },
  "orig_nbformat": 2,
  "kernelspec": {
   "name": "python3",
   "display_name": "Python 3",
   "language": "python"
  }
 },
 "nbformat": 4,
 "nbformat_minor": 2,
 "cells": [
  {
   "cell_type": "code",
   "execution_count": 1,
   "metadata": {},
   "outputs": [],
   "source": [
    "%load_ext pycodestyle_magic\n",
    "%pycodestyle_on"
   ]
  },
  {
   "cell_type": "code",
   "execution_count": 2,
   "metadata": {},
   "outputs": [],
   "source": [
    "import doctest"
   ]
  },
  {
   "cell_type": "code",
   "execution_count": 3,
   "metadata": {},
   "outputs": [
    {
     "output_type": "execute_result",
     "data": {
      "text/plain": [
       "TestResults(failed=0, attempted=9)"
      ]
     },
     "metadata": {},
     "execution_count": 3
    }
   ],
   "source": [
    "from operator import itemgetter, attrgetter\n",
    "from collections import namedtuple\n",
    "\n",
    "Coordinate = namedtuple('Coordinate', ['latitude', 'longitude'])\n",
    "Metropolis = namedtuple('Metropolis', ['name', 'cc', 'pop', 'coord'])\n",
    "\n",
    "\"\"\"\n",
    "\n",
    ">>> metro_data = [\n",
    "...     ('Tokyo', 'JP', 36.933, (35.689722, 139.691667)),\n",
    "...     ('Delhi NCR', 'IN', 21.935, (28.613889, 77.208889)),\n",
    "...     ('Mexico City', 'MX', 20.142, (19.433333, -99.133333)),\n",
    "...     ('New York-Newark', 'US', 20.104, (40.808611, -74.020386)),\n",
    "...     ('Sao Paulo', 'BR', 19.649, (-23.547778, -46.635833)),\n",
    "... ]\n",
    ">>> for city in sorted(metro_data, key=itemgetter(1)):\n",
    "...     print(city)\n",
    "('Sao Paulo', 'BR', 19.649, (-23.547778, -46.635833))\n",
    "('Delhi NCR', 'IN', 21.935, (28.613889, 77.208889))\n",
    "('Tokyo', 'JP', 36.933, (35.689722, 139.691667))\n",
    "('Mexico City', 'MX', 20.142, (19.433333, -99.133333))\n",
    "('New York-Newark', 'US', 20.104, (40.808611, -74.020386))\n",
    ">>> cc_name = itemgetter(1, 0)\n",
    ">>> for city in metro_data:\n",
    "...     print(cc_name(city))\n",
    "('JP', 'Tokyo')\n",
    "('IN', 'Delhi NCR')\n",
    "('MX', 'Mexico City')\n",
    "('US', 'New York-Newark')\n",
    "('BR', 'Sao Paulo')\n",
    ">>> metro_areas = [Metropolis(name, cc, pop, Coordinate(lat, long)) for\n",
    "...                name, cc, pop, (lat, long) in metro_data]\n",
    ">>> metro_areas[0]\n",
    "Metropolis(name='Tokyo', cc='JP', pop=36.933, coord=Coordinate(latitude=35.689722, longitude=139.691667))\n",
    ">>> metro_areas[0].coord.latitude\n",
    "35.689722\n",
    ">>> name_lat = attrgetter('name', 'coord.latitude')\n",
    ">>> for city in sorted(metro_areas, key=attrgetter('coord.latitude')):\n",
    "...     print(name_lat(city))\n",
    "('Sao Paulo', -23.547778)\n",
    "('Mexico City', 19.433333)\n",
    "('Delhi NCR', 28.613889)\n",
    "('Tokyo', 35.689722)\n",
    "('New York-Newark', 40.808611)\n",
    "\"\"\"  # noqa: E501\n",
    "\n",
    "doctest.testmod()"
   ]
  },
  {
   "cell_type": "code",
   "execution_count": 4,
   "metadata": {},
   "outputs": [
    {
     "output_type": "execute_result",
     "data": {
      "text/plain": [
       "TestResults(failed=0, attempted=6)"
      ]
     },
     "metadata": {},
     "execution_count": 4
    }
   ],
   "source": [
    "import operator\n",
    "\n",
    "\"\"\"\n",
    "\n",
    ">>> [name for name in dir(operator) if not name.startswith('_')]  # doctest: +ELLIPSIS\n",
    "['abs', 'add', 'and_', ..., 'truediv', 'truth', 'xor']\n",
    ">>> s = 'This time has come' \n",
    ">>> upcase = operator.methodcaller('upper')\n",
    ">>> upcase(s)\n",
    "'THIS TIME HAS COME'\n",
    ">>> hiphenate = operator.methodcaller('replace', ' ', '-')\n",
    ">>> hiphenate(s)\n",
    "'This-time-has-come'\n",
    "\"\"\"  # noqa: E501\n",
    "\n",
    "doctest.testmod()"
   ]
  },
  {
   "cell_type": "code",
   "execution_count": 5,
   "metadata": {},
   "outputs": [
    {
     "output_type": "execute_result",
     "data": {
      "text/plain": [
       "TestResults(failed=0, attempted=9)"
      ]
     },
     "metadata": {},
     "execution_count": 5
    }
   ],
   "source": [
    "from operator import mul\n",
    "from functools import partial\n",
    "from unicodedata import normalize\n",
    "\n",
    "\"\"\"\n",
    "\n",
    ">>> triple = partial(mul, 3)\n",
    ">>> triple(7)\n",
    "21\n",
    ">>> list(map(triple, range(1, 10)))\n",
    "[3, 6, 9, 12, 15, 18, 21, 24, 27]\n",
    ">>> nfc = partial(normalize, 'NFC')\n",
    ">>> s1 = 'café'\n",
    ">>> s2 = 'cafe\\\\u0301'\n",
    ">>> s1, s2\n",
    "('café', 'café')\n",
    ">>> s1 == s2\n",
    "False\n",
    ">>> nfc(s1) == nfc(s2)\n",
    "True\n",
    "\"\"\"\n",
    "\n",
    "doctest.testmod()"
   ]
  },
  {
   "cell_type": "code",
   "execution_count": null,
   "metadata": {},
   "outputs": [],
   "source": []
  }
 ]
}