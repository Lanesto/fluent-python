{
 "metadata": {
  "language_info": {
   "codemirror_mode": {
    "name": "ipython",
    "version": 3
   },
   "file_extension": ".py",
   "mimetype": "text/x-python",
   "name": "python",
   "nbconvert_exporter": "python",
   "pygments_lexer": "ipython3",
   "version": "3.9.1-final"
  },
  "orig_nbformat": 2,
  "kernelspec": {
   "name": "python3",
   "display_name": "Python 3",
   "language": "python"
  }
 },
 "nbformat": 4,
 "nbformat_minor": 2,
 "cells": [
  {
   "cell_type": "code",
   "execution_count": 1,
   "metadata": {},
   "outputs": [],
   "source": [
    "%load_ext pycodestyle_magic\n",
    "%pycodestyle_on"
   ]
  },
  {
   "cell_type": "code",
   "execution_count": 2,
   "metadata": {},
   "outputs": [],
   "source": [
    "import doctest"
   ]
  },
  {
   "cell_type": "code",
   "execution_count": 3,
   "metadata": {},
   "outputs": [],
   "source": [
    "for fruit in ['apple', 'mango', 'pineapple', 'banana']:\n",
    "    if fruit == 'banana':\n",
    "        break\n",
    "else:\n",
    "    raise ValueError('no banana in list')"
   ]
  },
  {
   "cell_type": "code",
   "execution_count": 4,
   "metadata": {},
   "outputs": [
    {
     "output_type": "stream",
     "name": "stdout",
     "text": [
      "just a call\n"
     ]
    }
   ],
   "source": [
    "def dangerous_call():\n",
    "    # raise OSError('an os error')\n",
    "    pass\n",
    "\n",
    "\n",
    "def some_call():\n",
    "    print('just a call')\n",
    "\n",
    "\n",
    "try:\n",
    "    dangerous_call()\n",
    "except OSError as err:\n",
    "    print('got os error:', err)\n",
    "else:\n",
    "    some_call()"
   ]
  }
 ]
}