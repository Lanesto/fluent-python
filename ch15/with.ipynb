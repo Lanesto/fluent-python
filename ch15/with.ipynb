{
 "metadata": {
  "language_info": {
   "codemirror_mode": {
    "name": "ipython",
    "version": 3
   },
   "file_extension": ".py",
   "mimetype": "text/x-python",
   "name": "python",
   "nbconvert_exporter": "python",
   "pygments_lexer": "ipython3",
   "version": "3.9.1-final"
  },
  "orig_nbformat": 2,
  "kernelspec": {
   "name": "python3",
   "display_name": "Python 3",
   "language": "python"
  }
 },
 "nbformat": 4,
 "nbformat_minor": 2,
 "cells": [
  {
   "cell_type": "code",
   "execution_count": 1,
   "metadata": {},
   "outputs": [],
   "source": [
    "%load_ext pycodestyle_magic\n",
    "%pycodestyle_on"
   ]
  },
  {
   "cell_type": "code",
   "execution_count": 2,
   "metadata": {},
   "outputs": [],
   "source": [
    "import doctest"
   ]
  },
  {
   "cell_type": "code",
   "execution_count": 3,
   "metadata": {},
   "outputs": [
    {
     "output_type": "execute_result",
     "data": {
      "text/plain": [
       "TestResults(failed=0, attempted=9)"
      ]
     },
     "metadata": {},
     "execution_count": 3
    }
   ],
   "source": [
    "import sys\n",
    "\n",
    "\n",
    "class LookingGlass:\n",
    "\n",
    "    def __enter__(self):\n",
    "        self.original_write = sys.stdout.write\n",
    "        sys.stdout.write = self.reverse_write\n",
    "        return 'JABBERWOCKY'\n",
    "\n",
    "    def reverse_write(self, text):\n",
    "        self.original_write(text[::-1])\n",
    "\n",
    "    def __exit__(self, exc_type, exc_value, exc_tb):\n",
    "        sys.stdout.write = self.original_write\n",
    "        if exc_type is ZeroDivisionError:\n",
    "            print('do not divide by zero')\n",
    "            return True\n",
    "\n",
    "\n",
    "\"\"\"\n",
    "\n",
    ">>> with LookingGlass() as what:\n",
    "...     print('Alice, Kitty and Snowdrop')\n",
    "...     print(what)\n",
    "pordwonS dna yttiK ,ecilA\n",
    "YKCOWREBBAJ\n",
    ">>> what\n",
    "'JABBERWOCKY'\n",
    ">>> print('back to normal')\n",
    "back to normal\n",
    "\n",
    ">>> ctxman = LookingGlass()\n",
    ">>> what = ctxman.__enter__()\n",
    ">>> print('Alice, Kitty and Snowdrop')\n",
    "pordwonS dna yttiK ,ecilA\n",
    ">>> print(what)\n",
    "YKCOWREBBAJ\n",
    ">>> ctxman.__exit__(None, None, None)\n",
    ">>> print('back to normal')\n",
    "back to normal\n",
    "\"\"\"\n",
    "\n",
    "doctest.testmod()"
   ]
  }
 ]
}