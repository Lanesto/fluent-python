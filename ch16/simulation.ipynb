{
 "metadata": {
  "language_info": {
   "codemirror_mode": {
    "name": "ipython",
    "version": 3
   },
   "file_extension": ".py",
   "mimetype": "text/x-python",
   "name": "python",
   "nbconvert_exporter": "python",
   "pygments_lexer": "ipython3",
   "version": "3.9.1-final"
  },
  "orig_nbformat": 2,
  "kernelspec": {
   "name": "python3",
   "display_name": "Python 3",
   "language": "python"
  }
 },
 "nbformat": 4,
 "nbformat_minor": 2,
 "cells": [
  {
   "cell_type": "code",
   "execution_count": 1,
   "metadata": {},
   "outputs": [],
   "source": [
    "%load_ext pycodestyle_magic\n",
    "%pycodestyle_on"
   ]
  },
  {
   "cell_type": "code",
   "execution_count": 2,
   "metadata": {},
   "outputs": [],
   "source": [
    "import doctest"
   ]
  },
  {
   "cell_type": "code",
   "execution_count": 3,
   "metadata": {},
   "outputs": [
    {
     "output_type": "stream",
     "name": "stdout",
     "text": [
      "taxi: 0  Event(time=0, proc=0, action='leave garage')\ntaxi: 1      Event(time=5, proc=1, action='leave garage')\ntaxi: 0  Event(time=6, proc=0, action='pick up passenger')\ntaxi: 1      Event(time=6, proc=1, action='pick up passenger')\ntaxi: 2          Event(time=10, proc=2, action='leave garage')\ntaxi: 1      Event(time=12, proc=1, action='drop off passenger')\ntaxi: 0  Event(time=16, proc=0, action='drop off passenger')\ntaxi: 2          Event(time=16, proc=2, action='pick up passenger')\ntaxi: 2          Event(time=17, proc=2, action='drop off passenger')\ntaxi: 1      Event(time=19, proc=1, action='pick up passenger')\ntaxi: 2          Event(time=20, proc=2, action='pick up passenger')\ntaxi: 0  Event(time=22, proc=0, action='pick up passenger')\ntaxi: 2          Event(time=22, proc=2, action='drop off passenger')\ntaxi: 1      Event(time=23, proc=1, action='drop off passenger')\ntaxi: 0  Event(time=28, proc=0, action='drop off passenger')\ntaxi: 1      Event(time=31, proc=1, action='pick up passenger')\ntaxi: 2          Event(time=31, proc=2, action='pick up passenger')\ntaxi: 0  Event(time=35, proc=0, action='going home')\ntaxi: 2          Event(time=40, proc=2, action='drop off passenger')\ntaxi: 1      Event(time=41, proc=1, action='drop off passenger')\ntaxi: 1      Event(time=48, proc=1, action='pick up passenger')\ntaxi: 2          Event(time=50, proc=2, action='pick up passenger')\ntaxi: 1      Event(time=54, proc=1, action='drop off passenger')\ntaxi: 2          Event(time=57, proc=2, action='drop off passenger')\ntaxi: 1      Event(time=64, proc=1, action='going home')\ntaxi: 2          Event(time=66, proc=2, action='pick up passenger')\ntaxi: 2          Event(time=70, proc=2, action='drop off passenger')\ntaxi: 2          Event(time=73, proc=2, action='pick up passenger')\ntaxi: 2          Event(time=83, proc=2, action='drop off passenger')\ntaxi: 2          Event(time=91, proc=2, action='going home')\n*** end of events ***\n"
     ]
    }
   ],
   "source": [
    "import queue\n",
    "from collections import namedtuple\n",
    "from random import randint\n",
    "\n",
    "\n",
    "Event = namedtuple('Event', 'time proc action')\n",
    "\n",
    "NUM_TAXIS = 3\n",
    "DEPARTURE_INTERVAL = 5\n",
    "\n",
    "\n",
    "class Simulator:\n",
    "\n",
    "    def __init__(self, procs_map):\n",
    "        self.events = queue.PriorityQueue()\n",
    "        self.procs = dict(procs_map)\n",
    "\n",
    "    def run(self, end_time):\n",
    "        for _, proc in sorted(self.procs.items()):\n",
    "            first_event = next(proc)\n",
    "            self.events.put(first_event)\n",
    "\n",
    "        sim_time = 0\n",
    "        while sim_time < end_time:\n",
    "            if self.events.empty():\n",
    "                print('*** end of events ***')\n",
    "                break\n",
    "\n",
    "            current_event = self.events.get()\n",
    "            sim_time, proc_id, prev_action = current_event\n",
    "            print('taxi:', proc_id, proc_id * '    ', current_event)\n",
    "            active_proc = self.procs[proc_id]\n",
    "            next_time = sim_time + compute_duration(prev_action)\n",
    "            try:\n",
    "                next_event = active_proc.send(next_time)\n",
    "            except StopIteration:\n",
    "                del self.procs[proc_id]\n",
    "            else:\n",
    "                self.events.put(next_event)\n",
    "        else:\n",
    "            msg = '*** end of simulation time: {} events pending ***'\n",
    "            print(msg.format(self.events.qsize()))\n",
    "\n",
    "\n",
    "def taxi_process(ident, trips, start_time=0):\n",
    "    time = yield Event(start_time, ident, 'leave garage')\n",
    "    for i in range(trips):\n",
    "        time = yield Event(time, ident, 'pick up passenger')\n",
    "        time = yield Event(time, ident, 'drop off passenger')\n",
    "\n",
    "    yield Event(time, ident, 'going home')\n",
    "\n",
    "\n",
    "def compute_duration(action):\n",
    "    return randint(1, 10)\n",
    "\n",
    "\n",
    "taxis = {\n",
    "    i: taxi_process(i, (i + 1) * 2, i * DEPARTURE_INTERVAL)\n",
    "    for i in range(NUM_TAXIS)\n",
    "}\n",
    "sim = Simulator(taxis)\n",
    "sim.run(180)"
   ]
  }
 ]
}