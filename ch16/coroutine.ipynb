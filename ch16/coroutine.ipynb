{
 "metadata": {
  "language_info": {
   "codemirror_mode": {
    "name": "ipython",
    "version": 3
   },
   "file_extension": ".py",
   "mimetype": "text/x-python",
   "name": "python",
   "nbconvert_exporter": "python",
   "pygments_lexer": "ipython3",
   "version": "3.9.1-final"
  },
  "orig_nbformat": 2,
  "kernelspec": {
   "name": "python3",
   "display_name": "Python 3",
   "language": "python"
  }
 },
 "nbformat": 4,
 "nbformat_minor": 2,
 "cells": [
  {
   "cell_type": "code",
   "execution_count": 1,
   "metadata": {},
   "outputs": [],
   "source": [
    "%load_ext pycodestyle_magic\n",
    "%pycodestyle_on"
   ]
  },
  {
   "cell_type": "code",
   "execution_count": 2,
   "metadata": {},
   "outputs": [],
   "source": [
    "import doctest"
   ]
  },
  {
   "cell_type": "code",
   "execution_count": 3,
   "metadata": {},
   "outputs": [
    {
     "output_type": "execute_result",
     "data": {
      "text/plain": [
       "TestResults(failed=0, attempted=7)"
      ]
     },
     "metadata": {},
     "execution_count": 3
    }
   ],
   "source": [
    "import inspect\n",
    "\n",
    "\n",
    "def simple_coroutine():\n",
    "    print('-> coroutine started')\n",
    "    x = yield -1\n",
    "    print('-> coroutine received:', x)\n",
    "\n",
    "\n",
    "\"\"\"\n",
    "\n",
    ">>> coro = simple_coroutine()\n",
    ">>> coro  # doctest: +ELLIPSIS\n",
    "<generator object simple_coroutine at ...>\n",
    ">>> inspect.getgeneratorstate(coro)\n",
    "'GEN_CREATED'\n",
    ">>> next(coro)\n",
    "-> coroutine started\n",
    "-1\n",
    ">>> inspect.getgeneratorstate(coro)\n",
    "'GEN_SUSPENDED'\n",
    ">>> try:\n",
    "...     coro.send(42)\n",
    "... except StopIteration:\n",
    "...     pass\n",
    "-> coroutine received: 42\n",
    ">>> inspect.getgeneratorstate(coro)\n",
    "'GEN_CLOSED'\n",
    "\"\"\"\n",
    "\n",
    "doctest.testmod()"
   ]
  },
  {
   "cell_type": "code",
   "execution_count": 4,
   "metadata": {},
   "outputs": [
    {
     "output_type": "execute_result",
     "data": {
      "text/plain": [
       "TestResults(failed=0, attempted=8)"
      ]
     },
     "metadata": {},
     "execution_count": 4
    }
   ],
   "source": [
    "from inspect import getgeneratorstate\n",
    "\n",
    "\n",
    "def simple_coro2(a):\n",
    "    print('-> started: a =', a)\n",
    "    b = yield a\n",
    "    print('-> received b =', b)\n",
    "    c = yield a + b\n",
    "    print('-> received c =', c)\n",
    "\n",
    "\n",
    "\"\"\"\n",
    "\n",
    ">>> coro = simple_coro2(14)\n",
    ">>> getgeneratorstate(coro)\n",
    "'GEN_CREATED'\n",
    ">>> next(coro)\n",
    "-> started: a = 14\n",
    "14\n",
    ">>> getgeneratorstate(coro)\n",
    "'GEN_SUSPENDED'\n",
    ">>> coro.send(28)\n",
    "-> received b = 28\n",
    "42\n",
    ">>> getgeneratorstate(coro)\n",
    "'GEN_SUSPENDED'\n",
    ">>> try:\n",
    "...    d = coro.send(99)\n",
    "... except StopIteration:\n",
    "...     pass\n",
    "-> received c = 99\n",
    ">>> getgeneratorstate(coro)\n",
    "'GEN_CLOSED'\n",
    "\"\"\"\n",
    "\n",
    "doctest.testmod()"
   ]
  },
  {
   "cell_type": "code",
   "execution_count": 5,
   "metadata": {},
   "outputs": [
    {
     "output_type": "execute_result",
     "data": {
      "text/plain": [
       "TestResults(failed=0, attempted=6)"
      ]
     },
     "metadata": {},
     "execution_count": 5
    }
   ],
   "source": [
    "from functools import wraps\n",
    "\n",
    "\n",
    "def coroutine(func):\n",
    "    @wraps(func)\n",
    "    def wrapper(*args, **kwargs):\n",
    "        gen = func(*args, **kwargs)\n",
    "        next(gen)\n",
    "        return gen\n",
    "\n",
    "    return wrapper\n",
    "\n",
    "\n",
    "@coroutine\n",
    "def averager():\n",
    "    total = 0.0\n",
    "    count = 0\n",
    "    average = None\n",
    "    while True:\n",
    "        value = yield average\n",
    "        total += value\n",
    "        count += 1\n",
    "        average = total / count\n",
    "\n",
    "\n",
    "\"\"\"\n",
    "\n",
    ">>> avg = averager()\n",
    ">>> avg.send(5)\n",
    "5.0\n",
    ">>> avg.send(10)\n",
    "7.5\n",
    ">>> avg.send(15)\n",
    "10.0\n",
    ">>> avg.send('spam')\n",
    "Traceback (most recent call last):\n",
    "    ...\n",
    "TypeError: unsupported operand type(s) for +=: 'float' and 'str'\n",
    ">>> avg.send(60)\n",
    "Traceback (most recent call last):\n",
    "    ...\n",
    "StopIteration\n",
    "\"\"\"\n",
    "\n",
    "doctest.testmod()"
   ]
  },
  {
   "cell_type": "code",
   "execution_count": 6,
   "metadata": {},
   "outputs": [
    {
     "output_type": "execute_result",
     "data": {
      "text/plain": [
       "TestResults(failed=0, attempted=7)"
      ]
     },
     "metadata": {},
     "execution_count": 6
    }
   ],
   "source": [
    "class DemoException(Exception):\n",
    "    pass\n",
    "\n",
    "\n",
    "def demo_exc_handling():\n",
    "    print('-> coroutine started')\n",
    "    while True:\n",
    "        try:\n",
    "            x = yield\n",
    "        except DemoException:\n",
    "            print('*** demo exception')\n",
    "        else:\n",
    "            print(f'-> coroutine received: {x!r}')\n",
    "\n",
    "    raise RuntimeError('this line should never run')\n",
    "\n",
    "\n",
    "\"\"\"\n",
    "\n",
    ">>> exc_coro = demo_exc_handling()\n",
    ">>> next(exc_coro)\n",
    "-> coroutine started\n",
    ">>> exc_coro.send(1)\n",
    "-> coroutine received: 1\n",
    ">>> exc_coro.send('hi')\n",
    "-> coroutine received: 'hi'\n",
    ">>> exc_coro.throw(DemoException)\n",
    "*** demo exception\n",
    ">>> exc_coro.close()\n",
    ">>> exc_coro.send(1)\n",
    "Traceback (most recent call last):\n",
    "    ...\n",
    "StopIteration\n",
    "\"\"\"\n",
    "\n",
    "doctest.testmod()"
   ]
  },
  {
   "cell_type": "code",
   "execution_count": 7,
   "metadata": {},
   "outputs": [
    {
     "output_type": "execute_result",
     "data": {
      "text/plain": [
       "TestResults(failed=0, attempted=6)"
      ]
     },
     "metadata": {},
     "execution_count": 7
    }
   ],
   "source": [
    "from collections import namedtuple\n",
    "\n",
    "Result = namedtuple('Result', 'count average')\n",
    "\n",
    "symbol_exit = object()\n",
    "\n",
    "\n",
    "def averager():\n",
    "    total = 0.0\n",
    "    count = 0\n",
    "    average = None\n",
    "    while True:\n",
    "        x = yield\n",
    "        if x is symbol_exit:\n",
    "            break\n",
    "\n",
    "        total += x\n",
    "        count += 1\n",
    "        average = total / count\n",
    "\n",
    "    return Result(count, average)\n",
    "\n",
    "\n",
    "\"\"\"\n",
    "\n",
    ">>> coro = averager()\n",
    ">>> next(coro)\n",
    ">>> coro.send(10)\n",
    ">>> coro.send(30)\n",
    ">>> coro.send(6.5)\n",
    ">>> coro.send(symbol_exit)\n",
    "Traceback (most recent call last):\n",
    "    ...\n",
    "StopIteration: Result(count=3, average=15.5)\n",
    "\"\"\"\n",
    "\n",
    "doctest.testmod()"
   ]
  }
 ]
}