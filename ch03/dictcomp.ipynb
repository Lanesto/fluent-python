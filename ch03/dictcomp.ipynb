{
 "metadata": {
  "language_info": {
   "codemirror_mode": {
    "name": "ipython",
    "version": 3
   },
   "file_extension": ".py",
   "mimetype": "text/x-python",
   "name": "python",
   "nbconvert_exporter": "python",
   "pygments_lexer": "ipython3",
   "version": "3.9.1-final"
  },
  "orig_nbformat": 2,
  "kernelspec": {
   "name": "python3",
   "display_name": "Python 3",
   "language": "python"
  }
 },
 "nbformat": 4,
 "nbformat_minor": 2,
 "cells": [
  {
   "cell_type": "code",
   "execution_count": 1,
   "metadata": {},
   "outputs": [],
   "source": [
    "%load_ext pycodestyle_magic\n",
    "%pycodestyle_on"
   ]
  },
  {
   "cell_type": "code",
   "execution_count": 2,
   "metadata": {},
   "outputs": [],
   "source": [
    "import doctest"
   ]
  },
  {
   "cell_type": "code",
   "execution_count": 3,
   "metadata": {},
   "outputs": [
    {
     "output_type": "execute_result",
     "data": {
      "text/plain": [
       "TestResults(failed=0, attempted=6)"
      ]
     },
     "metadata": {},
     "execution_count": 3
    }
   ],
   "source": [
    "\"\"\"\n",
    "\n",
    ">>> a = dict(one=1, two=2, three=3)\n",
    ">>> b = {'one': 1, 'two': 2, 'three': 3}\n",
    ">>> c = dict(zip(['one', 'two', 'three'], [1, 2, 3]))\n",
    ">>> d = dict([('two', 2), ('one', 1), ('three', 3)])\n",
    ">>> e = dict({'three': 3, 'one': 1, 'two': 2})\n",
    ">>> a == b == c == d == e\n",
    "True\n",
    "\"\"\"\n",
    "\n",
    "doctest.testmod()"
   ]
  },
  {
   "cell_type": "code",
   "execution_count": 4,
   "metadata": {},
   "outputs": [
    {
     "output_type": "execute_result",
     "data": {
      "text/plain": [
       "TestResults(failed=0, attempted=4)"
      ]
     },
     "metadata": {},
     "execution_count": 4
    }
   ],
   "source": [
    "\"\"\"\n",
    "\n",
    ">>> DIAL_CODES = [\n",
    "...     (86, 'China'),\n",
    "...     (91, 'India'),\n",
    "...     (1, 'United States'),\n",
    "...     (62, 'Indonesia'),\n",
    "...     (55, 'Brazil'),\n",
    "...     (92, 'Pakistan'),\n",
    "...     (880, 'Banglaedsh'),\n",
    "...     (234, 'Nigeria'),\n",
    "...     (7, 'Russia'),\n",
    "...     (81, 'Japan'),\n",
    "... ]\n",
    ">>> country_codes = {country: code for code, country in DIAL_CODES}\n",
    ">>> country_codes\n",
    "{'China': 86, 'India': 91, 'United States': 1, 'Indonesia': 62, 'Brazil': 55, 'Pakistan': 92, 'Banglaedsh': 880, 'Nigeria': 234, 'Russia': 7, 'Japan': 81}\n",
    ">>> {code: country.upper() for country, code in country_codes.items() if code < 66}\n",
    "{1: 'UNITED STATES', 62: 'INDONESIA', 55: 'BRAZIL', 7: 'RUSSIA'}\n",
    "\"\"\"  # noqa: E501\n",
    "\n",
    "doctest.testmod()"
   ]
  },
  {
   "cell_type": "code",
   "execution_count": null,
   "metadata": {},
   "outputs": [],
   "source": []
  }
 ]
}