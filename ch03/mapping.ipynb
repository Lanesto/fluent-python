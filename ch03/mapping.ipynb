{
 "metadata": {
  "language_info": {
   "codemirror_mode": {
    "name": "ipython",
    "version": 3
   },
   "file_extension": ".py",
   "mimetype": "text/x-python",
   "name": "python",
   "nbconvert_exporter": "python",
   "pygments_lexer": "ipython3",
   "version": "3.9.1-final"
  },
  "orig_nbformat": 2,
  "kernelspec": {
   "name": "python3",
   "display_name": "Python 3",
   "language": "python"
  }
 },
 "nbformat": 4,
 "nbformat_minor": 2,
 "cells": [
  {
   "cell_type": "code",
   "execution_count": 1,
   "metadata": {},
   "outputs": [],
   "source": [
    "%load_ext pycodestyle_magic\n",
    "%pycodestyle_on"
   ]
  },
  {
   "cell_type": "code",
   "execution_count": 2,
   "metadata": {},
   "outputs": [],
   "source": [
    "import doctest"
   ]
  },
  {
   "cell_type": "code",
   "execution_count": 3,
   "metadata": {},
   "outputs": [
    {
     "output_type": "execute_result",
     "data": {
      "text/plain": [
       "TestResults(failed=0, attempted=2)"
      ]
     },
     "metadata": {},
     "execution_count": 3
    }
   ],
   "source": [
    "import collections\n",
    "\n",
    "\"\"\"\n",
    "\n",
    ">>> my_dict = {}\n",
    ">>> isinstance(my_dict, collections.abc.Mapping)\n",
    "True\n",
    "\"\"\"\n",
    "\n",
    "doctest.testmod()"
   ]
  },
  {
   "cell_type": "code",
   "execution_count": 4,
   "metadata": {},
   "outputs": [
    {
     "output_type": "stream",
     "name": "stdout",
     "text": [
      "**********************************************************************\nFile \"__main__\", line 5, in __main__\nFailed example:\n    hash(tt)\nExpected nothing\nGot:\n    -3907003130834322577\n**********************************************************************\nFile \"__main__\", line 13, in __main__\nFailed example:\n    hash(tf)\nExpected nothing\nGot:\n    5149391500123939311\n**********************************************************************\n1 items had failures:\n   2 of   6 in __main__\n***Test Failed*** 2 failures.\n"
     ]
    },
    {
     "output_type": "execute_result",
     "data": {
      "text/plain": [
       "TestResults(failed=2, attempted=6)"
      ]
     },
     "metadata": {},
     "execution_count": 4
    }
   ],
   "source": [
    "\"\"\"\n",
    "\n",
    ">>> tt = (1, 2, (30, 40))\n",
    ">>> hash(tt)\n",
    "...\n",
    ">>> tl = (1, 2, [30, 40])\n",
    ">>> hash(tl)\n",
    "Traceback (most recent call last):\n",
    "    ...\n",
    "TypeError: unhashable type: 'list'\n",
    ">>> tf = (1, 2, frozenset([30, 40]))\n",
    ">>> hash(tf)\n",
    "...\n",
    "\"\"\"\n",
    "\n",
    "doctest.testmod()"
   ]
  },
  {
   "cell_type": "code",
   "execution_count": null,
   "metadata": {},
   "outputs": [],
   "source": []
  }
 ]
}