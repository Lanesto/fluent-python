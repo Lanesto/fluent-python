{
 "metadata": {
  "language_info": {
   "codemirror_mode": {
    "name": "ipython",
    "version": 3
   },
   "file_extension": ".py",
   "mimetype": "text/x-python",
   "name": "python",
   "nbconvert_exporter": "python",
   "pygments_lexer": "ipython3",
   "version": "3.9.1-final"
  },
  "orig_nbformat": 2,
  "kernelspec": {
   "name": "python3",
   "display_name": "Python 3.9.1 64-bit",
   "metadata": {
    "interpreter": {
     "hash": "4cd7ab41f5fca4b9b44701077e38c5ffd31fe66a6cab21e0214b68d958d0e462"
    }
   }
  }
 },
 "nbformat": 4,
 "nbformat_minor": 2,
 "cells": [
  {
   "cell_type": "code",
   "execution_count": 1,
   "metadata": {},
   "outputs": [],
   "source": [
    "%load_ext pycodestyle_magic\n",
    "%pycodestyle_on"
   ]
  },
  {
   "cell_type": "code",
   "execution_count": 2,
   "metadata": {},
   "outputs": [],
   "source": [
    "import doctest"
   ]
  },
  {
   "cell_type": "code",
   "execution_count": 3,
   "metadata": {},
   "outputs": [
    {
     "output_type": "execute_result",
     "data": {
      "text/plain": [
       "TestResults(failed=0, attempted=3)"
      ]
     },
     "metadata": {},
     "execution_count": 3
    }
   ],
   "source": [
    "\"\"\"\n",
    "\n",
    ">>> l = ['spam', 'spam', 'eggs', 'spam']\n",
    ">>> set(l)\n",
    "{'spam', 'eggs'}\n",
    ">>> list(set(l))\n",
    "['spam', 'eggs']\n",
    "\"\"\"\n",
    "\n",
    "doctest.testmod()"
   ]
  },
  {
   "cell_type": "code",
   "execution_count": 4,
   "metadata": {},
   "outputs": [
    {
     "output_type": "execute_result",
     "data": {
      "text/plain": [
       "TestResults(failed=0, attempted=5)"
      ]
     },
     "metadata": {},
     "execution_count": 4
    }
   ],
   "source": [
    "\"\"\"\n",
    "\n",
    ">>> s = {1}\n",
    ">>> type(s)\n",
    "<class 'set'>\n",
    ">>> s\n",
    "{1}\n",
    ">>> s.pop()\n",
    "1\n",
    ">>> s\n",
    "set()\n",
    "\"\"\"\n",
    "\n",
    "doctest.testmod()"
   ]
  },
  {
   "cell_type": "code",
   "execution_count": 5,
   "metadata": {},
   "outputs": [
    {
     "output_type": "stream",
     "name": "stdout",
     "text": [
      "  1           0 LOAD_CONST               0 (1)\n              2 BUILD_SET                1\n              4 RETURN_VALUE\n\n  1           0 LOAD_NAME                0 (set)\n              2 LOAD_CONST               0 (1)\n              4 BUILD_LIST               1\n              6 CALL_FUNCTION            1\n              8 RETURN_VALUE\n"
     ]
    }
   ],
   "source": [
    "from dis import dis\n",
    "\n",
    "dis('{1}')\n",
    "print()\n",
    "dis('set([1])')"
   ]
  },
  {
   "cell_type": "code",
   "execution_count": 6,
   "metadata": {},
   "outputs": [
    {
     "output_type": "execute_result",
     "data": {
      "text/plain": [
       "TestResults(failed=0, attempted=2)"
      ]
     },
     "metadata": {},
     "execution_count": 6
    }
   ],
   "source": [
    "\"\"\"\n",
    "\n",
    ">>> fs = frozenset(range(10))\n",
    ">>> fs\n",
    "frozenset({0, 1, 2, 3, 4, 5, 6, 7, 8, 9})\n",
    "\"\"\"\n",
    "\n",
    "doctest.testmod()"
   ]
  },
  {
   "cell_type": "code",
   "execution_count": 7,
   "metadata": {},
   "outputs": [
    {
     "output_type": "stream",
     "name": "stdout",
     "text": [
      "**********************************************************************\nFile \"__main__\", line 4, in __main__\nFailed example:\n    {chr(i) for i in range(32, 256) if 'SIGN' in name(chr(i), '')}\nExpected:\n    {'§', '®', '°', '¤', '$', 'µ', '#', '±', '%', '¶', '>', '¥', '¬', '©', '¢', '×', '<', '÷', '+', '£', '='}\nGot:\n    {'¬', '>', '÷', '©', '#', '%', '¶', '®', '×', '$', '¤', '+', 'µ', '¢', '¥', '=', '±', '°', '§', '<', '£'}\n**********************************************************************\n1 items had failures:\n   1 of   1 in __main__\n***Test Failed*** 1 failures.\n"
     ]
    },
    {
     "output_type": "execute_result",
     "data": {
      "text/plain": [
       "TestResults(failed=1, attempted=1)"
      ]
     },
     "metadata": {},
     "execution_count": 7
    }
   ],
   "source": [
    "from unicodedata import name\n",
    "\n",
    "\"\"\"\n",
    "\n",
    ">>> {chr(i) for i in range(32, 256) if 'SIGN' in name(chr(i), '')}\n",
    "{'§', '®', '°', '¤', '$', 'µ', '#', '±', '%', '¶', '>', '¥', '¬', '©', '¢', '×', '<', '÷', '+', '£', '='}\n",
    "\"\"\"  # noqa: E501\n",
    "\n",
    "doctest.testmod()"
   ]
  },
  {
   "cell_type": "code",
   "execution_count": null,
   "metadata": {},
   "outputs": [],
   "source": []
  }
 ]
}