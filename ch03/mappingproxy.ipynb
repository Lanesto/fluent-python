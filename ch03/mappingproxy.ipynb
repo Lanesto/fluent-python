{
 "metadata": {
  "language_info": {
   "codemirror_mode": {
    "name": "ipython",
    "version": 3
   },
   "file_extension": ".py",
   "mimetype": "text/x-python",
   "name": "python",
   "nbconvert_exporter": "python",
   "pygments_lexer": "ipython3",
   "version": "3.9.1-final"
  },
  "orig_nbformat": 2,
  "kernelspec": {
   "name": "python3",
   "display_name": "Python 3",
   "language": "python"
  }
 },
 "nbformat": 4,
 "nbformat_minor": 2,
 "cells": [
  {
   "cell_type": "code",
   "execution_count": 1,
   "metadata": {},
   "outputs": [],
   "source": [
    "%load_ext pycodestyle_magic\n",
    "%pycodestyle_on"
   ]
  },
  {
   "cell_type": "code",
   "execution_count": 2,
   "metadata": {},
   "outputs": [],
   "source": [
    "import doctest"
   ]
  },
  {
   "cell_type": "code",
   "execution_count": 3,
   "metadata": {},
   "outputs": [
    {
     "output_type": "execute_result",
     "data": {
      "text/plain": [
       "TestResults(failed=0, attempted=4)"
      ]
     },
     "metadata": {},
     "execution_count": 3
    }
   ],
   "source": [
    "import collections\n",
    "\n",
    "\n",
    "class StrKeyDict(collections.UserDict):\n",
    "\n",
    "    def __missing__(self, key):\n",
    "        if isinstance(key, str):\n",
    "            raise KeyError(key)\n",
    "\n",
    "        return self[str(key)]\n",
    "\n",
    "    def __contains__(self, key):\n",
    "        return str(key) in self.data\n",
    "\n",
    "    def __setitem__(self, key, item):\n",
    "        self.data[str(key)] = item\n",
    "\n",
    "\n",
    "\"\"\"\n",
    "\n",
    ">>> d = StrKeyDict([('2', 'two'), ('4', 'four')])\n",
    ">>> d['2']\n",
    "'two'\n",
    ">>> d[4]\n",
    "'four'\n",
    ">>> d[1]\n",
    "Traceback (most recent call last):\n",
    "    ...\n",
    "KeyError: '1'\n",
    "\"\"\"\n",
    "\n",
    "doctest.testmod()"
   ]
  },
  {
   "cell_type": "code",
   "execution_count": 4,
   "metadata": {},
   "outputs": [
    {
     "output_type": "execute_result",
     "data": {
      "text/plain": [
       "TestResults(failed=0, attempted=8)"
      ]
     },
     "metadata": {},
     "execution_count": 4
    }
   ],
   "source": [
    "from types import MappingProxyType\n",
    "\n",
    "\"\"\"\n",
    ">>> d = {1: 'A'}\n",
    ">>> d_proxy = MappingProxyType(d)\n",
    ">>> d_proxy\n",
    "mappingproxy({1: 'A'})\n",
    ">>> d_proxy[1]\n",
    "'A'\n",
    ">>> d_proxy[2] = 'x'\n",
    "Traceback (most recent call last):\n",
    "    ...\n",
    "TypeError: 'mappingproxy' object does not support item assignment\n",
    ">>> d[2] = 'B'\n",
    ">>> d_proxy\n",
    "mappingproxy({1: 'A', 2: 'B'})\n",
    ">>> d_proxy[2]\n",
    "'B'\n",
    "\"\"\"\n",
    "\n",
    "doctest.testmod()"
   ]
  },
  {
   "cell_type": "code",
   "execution_count": null,
   "metadata": {},
   "outputs": [],
   "source": []
  }
 ]
}