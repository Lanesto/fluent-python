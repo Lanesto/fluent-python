{
 "metadata": {
  "language_info": {
   "codemirror_mode": {
    "name": "ipython",
    "version": 3
   },
   "file_extension": ".py",
   "mimetype": "text/x-python",
   "name": "python",
   "nbconvert_exporter": "python",
   "pygments_lexer": "ipython3",
   "version": "3.9.1-final"
  },
  "orig_nbformat": 2,
  "kernelspec": {
   "name": "python3",
   "display_name": "Python 3",
   "language": "python"
  }
 },
 "nbformat": 4,
 "nbformat_minor": 2,
 "cells": [
  {
   "cell_type": "code",
   "execution_count": 1,
   "metadata": {},
   "outputs": [],
   "source": [
    "%load_ext pycodestyle_magic\n",
    "%pycodestyle_on"
   ]
  },
  {
   "cell_type": "code",
   "execution_count": 2,
   "metadata": {},
   "outputs": [],
   "source": [
    "import doctest"
   ]
  },
  {
   "cell_type": "code",
   "execution_count": 3,
   "metadata": {},
   "outputs": [
    {
     "output_type": "execute_result",
     "data": {
      "text/plain": [
       "TestResults(failed=0, attempted=4)"
      ]
     },
     "metadata": {},
     "execution_count": 3
    }
   ],
   "source": [
    "class Averager():\n",
    "\n",
    "    def __init__(self):\n",
    "        self.series = []\n",
    "\n",
    "    def __call__(self, new_value):\n",
    "        self.series.append(new_value)\n",
    "        total = sum(self.series)\n",
    "        return total / len(self.series)\n",
    "\n",
    "\n",
    "\"\"\"\n",
    "\n",
    ">>> avg = Averager()\n",
    ">>> avg(10)\n",
    "10.0\n",
    ">>> avg(11)\n",
    "10.5\n",
    ">>> avg(12)\n",
    "11.0\n",
    "\"\"\"\n",
    "\n",
    "doctest.testmod()"
   ]
  },
  {
   "cell_type": "code",
   "execution_count": 4,
   "metadata": {},
   "outputs": [
    {
     "output_type": "execute_result",
     "data": {
      "text/plain": [
       "TestResults(failed=0, attempted=7)"
      ]
     },
     "metadata": {},
     "execution_count": 4
    }
   ],
   "source": [
    "def make_averager():\n",
    "    psum = 0\n",
    "    n = 0\n",
    "\n",
    "    def averager(new_value):\n",
    "        nonlocal psum, n\n",
    "        psum += new_value\n",
    "        n += 1\n",
    "        return psum / n\n",
    "\n",
    "    return averager\n",
    "\n",
    "\n",
    "\"\"\"\n",
    "\n",
    ">>> avg = make_averager()\n",
    ">>> avg(10)\n",
    "10.0\n",
    ">>> avg(11)\n",
    "10.5\n",
    ">>> avg(12)\n",
    "11.0\n",
    ">>> avg.__code__.co_varnames\n",
    "('new_value',)\n",
    ">>> avg.__code__.co_freevars\n",
    "('n', 'psum')\n",
    ">>> avg.__closure__[0].cell_contents\n",
    "3\n",
    "\"\"\"\n",
    "\n",
    "doctest.testmod()"
   ]
  }
 ]
}