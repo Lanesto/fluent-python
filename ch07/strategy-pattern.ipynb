{
 "metadata": {
  "language_info": {
   "codemirror_mode": {
    "name": "ipython",
    "version": 3
   },
   "file_extension": ".py",
   "mimetype": "text/x-python",
   "name": "python",
   "nbconvert_exporter": "python",
   "pygments_lexer": "ipython3",
   "version": "3.9.1-final"
  },
  "orig_nbformat": 2,
  "kernelspec": {
   "name": "python3",
   "display_name": "Python 3",
   "language": "python"
  }
 },
 "nbformat": 4,
 "nbformat_minor": 2,
 "cells": [
  {
   "cell_type": "code",
   "execution_count": 1,
   "metadata": {},
   "outputs": [],
   "source": [
    "%load_ext pycodestyle_magic\n",
    "%pycodestyle_on"
   ]
  },
  {
   "cell_type": "code",
   "execution_count": 2,
   "metadata": {},
   "outputs": [],
   "source": [
    "import doctest"
   ]
  },
  {
   "cell_type": "code",
   "execution_count": 3,
   "metadata": {},
   "outputs": [
    {
     "output_type": "execute_result",
     "data": {
      "text/plain": [
       "TestResults(failed=0, attempted=11)"
      ]
     },
     "metadata": {},
     "execution_count": 3
    }
   ],
   "source": [
    "from collections import namedtuple\n",
    "\n",
    "Customer = namedtuple('Customer', 'name fidelity')\n",
    "\n",
    "\n",
    "class LineItem:\n",
    "\n",
    "    def __init__(self, product, quantity, price):\n",
    "        self.product = product\n",
    "        self.quantity = quantity\n",
    "        self.price = price\n",
    "\n",
    "    def total(self):\n",
    "        return self.price * self.quantity\n",
    "\n",
    "\n",
    "class Order:\n",
    "\n",
    "    def __init__(self, customer, cart, promotion=None):\n",
    "        self.customer = customer\n",
    "        self.cart = cart\n",
    "        self.promotion = promotion\n",
    "\n",
    "    def total(self):\n",
    "        if not hasattr(self, '__total'):\n",
    "            self.__total = sum(item.total() for item in self.cart)\n",
    "\n",
    "        return self.__total\n",
    "\n",
    "    def due(self):\n",
    "        if self.promotion is None:\n",
    "            discount = 0\n",
    "        else:\n",
    "            discount = self.promotion(self)\n",
    "\n",
    "        return self.total() - discount\n",
    "\n",
    "    def __repr__(self):\n",
    "        fmt = '<Order total: {:.2f} due: {:.2f}>'\n",
    "        return fmt.format(self.total(), self.due())\n",
    "\n",
    "\n",
    "promotions = []\n",
    "\n",
    "\n",
    "def promotion(func):\n",
    "    promotions.append(func)\n",
    "    return func\n",
    "\n",
    "\n",
    "@promotion\n",
    "def fidelity(order):\n",
    "    return order.total() * .05 if order.customer.fidelity > 1000 else 0\n",
    "\n",
    "\n",
    "@promotion\n",
    "def bulk_item(order):\n",
    "    discount = 0\n",
    "    for item in order.cart:\n",
    "        if item.quantity >= 20:\n",
    "            discount += item.total() * .1\n",
    "\n",
    "    return discount\n",
    "\n",
    "\n",
    "@promotion\n",
    "def large_order(order):\n",
    "    distinct_items = {item.product for item in order.cart}\n",
    "    if len(distinct_items) >= 10:\n",
    "        return order.total() * .07\n",
    "\n",
    "    return 0\n",
    "\n",
    "\n",
    "def best_promotion(order):\n",
    "    return max(promo(order) for promo in promotions)\n",
    "\n",
    "\n",
    "\"\"\"\n",
    "\n",
    ">>> joe = Customer('John Doe', 0)\n",
    ">>> ann = Customer('Ann Smith', 1100)\n",
    ">>> cart = [LineItem('banana', 4, .5),\n",
    "...         LineItem('apple', 10, 1.5),\n",
    "...         LineItem('watermellon', 5, 5.0)]\n",
    ">>> Order(joe, cart, fidelity)\n",
    "<Order total: 42.00 due: 42.00>\n",
    ">>> Order(ann, cart, fidelity)\n",
    "<Order total: 42.00 due: 39.90>\n",
    ">>> banana_cart = [LineItem('banana', 30, 0.5),\n",
    "...                LineItem('apple', 10, 1.5)]\n",
    ">>> Order(joe, banana_cart, bulk_item)\n",
    "<Order total: 30.00 due: 28.50>\n",
    ">>> long_order = [LineItem(str(item_code), 1, 1.0) for item_code in range(10)]\n",
    ">>> Order(joe, long_order, large_order)\n",
    "<Order total: 10.00 due: 9.30>\n",
    ">>> Order(joe, cart, large_order)\n",
    "<Order total: 42.00 due: 42.00>\n",
    ">>> Order(ann, banana_cart, best_promotion)\n",
    "<Order total: 30.00 due: 28.50>\n",
    "\"\"\"\n",
    "\n",
    "doctest.testmod()"
   ]
  },
  {
   "cell_type": "code",
   "execution_count": null,
   "metadata": {},
   "outputs": [],
   "source": []
  }
 ]
}