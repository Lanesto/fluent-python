{
 "metadata": {
  "language_info": {
   "codemirror_mode": {
    "name": "ipython",
    "version": 3
   },
   "file_extension": ".py",
   "mimetype": "text/x-python",
   "name": "python",
   "nbconvert_exporter": "python",
   "pygments_lexer": "ipython3",
   "version": "3.9.1-final"
  },
  "orig_nbformat": 2,
  "kernelspec": {
   "name": "python3",
   "display_name": "Python 3",
   "language": "python"
  }
 },
 "nbformat": 4,
 "nbformat_minor": 2,
 "cells": [
  {
   "cell_type": "code",
   "execution_count": 1,
   "metadata": {},
   "outputs": [],
   "source": [
    "%load_ext pycodestyle_magic\n",
    "%pycodestyle_on"
   ]
  },
  {
   "cell_type": "code",
   "execution_count": 2,
   "metadata": {},
   "outputs": [],
   "source": [
    "import doctest"
   ]
  },
  {
   "cell_type": "code",
   "execution_count": 3,
   "metadata": {},
   "outputs": [
    {
     "output_type": "execute_result",
     "data": {
      "text/plain": [
       "TestResults(failed=0, attempted=4)"
      ]
     },
     "metadata": {},
     "execution_count": 3
    }
   ],
   "source": [
    "import html\n",
    "import numbers\n",
    "from functools import singledispatch\n",
    "from collections import abc\n",
    "\n",
    "\n",
    "@singledispatch\n",
    "def htmlize(obj):\n",
    "    content = html.escape(repr(obj))\n",
    "    return f'<pre>{content}</pre>'\n",
    "\n",
    "\n",
    "@htmlize.register(str)\n",
    "def _(text):\n",
    "    content = html.escape(text).replace('\\n', '<br>\\n')\n",
    "    return f'<p>{content}</p>'\n",
    "\n",
    "\n",
    "@htmlize.register(numbers.Integral)\n",
    "def _(n):\n",
    "    return f'<pre>{n} (0x{n:x})</pre>'\n",
    "\n",
    "\n",
    "@htmlize.register(tuple)\n",
    "@htmlize.register(abc.MutableSequence)\n",
    "def _(seq):\n",
    "    inner = '</li>\\n<li>'.join(htmlize(item) for item in seq)\n",
    "    return f'<ul>\\n<li>{inner}</li>\\n</ul>'\n",
    "\n",
    "\n",
    "\"\"\"\n",
    "\n",
    ">>> htmlize(abs)\n",
    "'<pre>&lt;built-in function abs&gt;</pre>'\n",
    ">>> htmlize('Heimlich & Co.\\\\n- a game')\n",
    "'<p>Heimlich &amp; Co.<br>\\\\n- a game</p>'\n",
    ">>> htmlize(42)\n",
    "'<pre>42 (0x2a)</pre>'\n",
    ">>> print(htmlize(['alpha', 66, {3, 2, 1}]))\n",
    "<ul>\n",
    "<li><p>alpha</p></li>\n",
    "<li><pre>66 (0x42)</pre></li>\n",
    "<li><pre>{1, 2, 3}</pre></li>\n",
    "</ul>\n",
    "\"\"\"\n",
    "\n",
    "doctest.testmod()"
   ]
  },
  {
   "cell_type": "code",
   "execution_count": null,
   "metadata": {},
   "outputs": [],
   "source": []
  }
 ]
}