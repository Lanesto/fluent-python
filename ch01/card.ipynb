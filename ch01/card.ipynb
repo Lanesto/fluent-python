{
 "metadata": {
  "language_info": {
   "codemirror_mode": {
    "name": "ipython",
    "version": 3
   },
   "file_extension": ".py",
   "mimetype": "text/x-python",
   "name": "python",
   "nbconvert_exporter": "python",
   "pygments_lexer": "ipython3",
   "version": "3.9.1-final"
  },
  "orig_nbformat": 2,
  "kernelspec": {
   "name": "python3",
   "display_name": "Python 3.9.1 64-bit",
   "metadata": {
    "interpreter": {
     "hash": "4cd7ab41f5fca4b9b44701077e38c5ffd31fe66a6cab21e0214b68d958d0e462"
    }
   }
  }
 },
 "nbformat": 4,
 "nbformat_minor": 2,
 "cells": [
  {
   "cell_type": "code",
   "execution_count": 1,
   "metadata": {},
   "outputs": [],
   "source": [
    "%load_ext pycodestyle_magic\n",
    "%pycodestyle_on"
   ]
  },
  {
   "cell_type": "code",
   "execution_count": 2,
   "metadata": {},
   "outputs": [],
   "source": [
    "import doctest"
   ]
  },
  {
   "cell_type": "code",
   "execution_count": 3,
   "metadata": {},
   "outputs": [],
   "source": [
    "from collections import namedtuple\n",
    "\n",
    "Card = namedtuple('Card', ['rank', 'suit'])\n",
    "\n",
    "\n",
    "class FrenchDeck:\n",
    "    ranks = tuple(str(i) for i in range(2, 11)) + tuple('JQKA')\n",
    "    suits = ('spades', 'diamonds', 'clubs', 'hearts')\n",
    "\n",
    "    def __init__(self):\n",
    "        self._cards = [Card(rank, suit) for suit in self.suits\n",
    "                                        for rank in self.ranks]  # noqa: E127\n",
    "\n",
    "    def __len__(self):\n",
    "        return len(self._cards)\n",
    "\n",
    "    def __getitem__(self, position):\n",
    "        return self._cards[position]"
   ]
  },
  {
   "cell_type": "code",
   "execution_count": 4,
   "metadata": {},
   "outputs": [
    {
     "output_type": "execute_result",
     "data": {
      "text/plain": [
       "TestResults(failed=0, attempted=2)"
      ]
     },
     "metadata": {},
     "execution_count": 4
    }
   ],
   "source": [
    "\"\"\"\n",
    "\n",
    ">>> beer_card = Card('7', 'diamonds')\n",
    ">>> beer_card\n",
    "Card(rank='7', suit='diamonds')\n",
    "\"\"\"\n",
    "\n",
    "doctest.testmod()"
   ]
  },
  {
   "cell_type": "code",
   "execution_count": 5,
   "metadata": {},
   "outputs": [
    {
     "output_type": "execute_result",
     "data": {
      "text/plain": [
       "TestResults(failed=0, attempted=13)"
      ]
     },
     "metadata": {},
     "execution_count": 5
    }
   ],
   "source": [
    "import random\n",
    "\n",
    "random.seed(0)\n",
    "\n",
    "\"\"\"\n",
    "\n",
    ">>> deck = FrenchDeck()\n",
    ">>> len(deck)\n",
    "52\n",
    ">>> deck[0]\n",
    "Card(rank='2', suit='spades')\n",
    ">>> deck[-1]\n",
    "Card(rank='A', suit='hearts')\n",
    ">>> random.choice(deck)\n",
    "Card(rank='K', suit='diamonds')\n",
    ">>> random.choice(deck)\n",
    "Card(rank='J', suit='hearts')\n",
    ">>> random.choice(deck)\n",
    "Card(rank='2', suit='clubs')\n",
    ">>> deck[:3]\n",
    "[Card(rank='2', suit='spades'), Card(rank='3', suit='spades'), Card(rank='4', suit='spades')]\n",
    ">>> deck[12::13]\n",
    "[Card(rank='A', suit='spades'), Card(rank='A', suit='diamonds'), Card(rank='A', suit='clubs'), Card(rank='A', suit='hearts')]\n",
    ">>> for card in deck:  # doctest: +ELLIPSIS\n",
    "...     print(card)\n",
    "Card(rank='2', suit='spades')\n",
    "Card(rank='3', suit='spades')\n",
    "Card(rank='4', suit='spades')\n",
    "...\n",
    ">>> for card in reversed(deck):  # doctest: +ELLIPSIS\n",
    "...     print(card)\n",
    "Card(rank='A', suit='hearts')\n",
    "Card(rank='K', suit='hearts')\n",
    "Card(rank='Q', suit='hearts')\n",
    "...\n",
    ">>> Card('Q', 'hearts') in deck\n",
    "True\n",
    ">>> Card('7', 'beasts') in deck\n",
    "False\n",
    "\"\"\"  # noqa: E501\n",
    "\n",
    "doctest.testmod()"
   ]
  },
  {
   "cell_type": "code",
   "execution_count": 6,
   "metadata": {},
   "outputs": [
    {
     "output_type": "execute_result",
     "data": {
      "text/plain": [
       "TestResults(failed=0, attempted=1)"
      ]
     },
     "metadata": {},
     "execution_count": 6
    }
   ],
   "source": [
    "deck = FrenchDeck()\n",
    "suit_values_mapping = dict(spades=3, hearts=2, diamonds=1, clubs=0)\n",
    "\n",
    "\n",
    "def spades_high(card):\n",
    "    rank_value = FrenchDeck.ranks.index(card.rank)\n",
    "    return rank_value * len(suit_values_mapping) + suit_values_mapping[card.suit]  # noqa: E501\n",
    "\n",
    "\n",
    "\"\"\"\n",
    "\n",
    ">>> for card in sorted(deck, key=spades_high):\n",
    "...    print(card)  # doctest: +ELLIPSIS\n",
    "Card(rank='2', suit='clubs')\n",
    "Card(rank='2', suit='diamonds')\n",
    "Card(rank='2', suit='hearts')\n",
    "...\n",
    "Card(rank='A', suit='diamonds')\n",
    "Card(rank='A', suit='hearts')\n",
    "Card(rank='A', suit='spades')\n",
    "\"\"\"\n",
    "\n",
    "doctest.testmod()"
   ]
  },
  {
   "cell_type": "code",
   "execution_count": null,
   "metadata": {},
   "outputs": [],
   "source": []
  }
 ]
}