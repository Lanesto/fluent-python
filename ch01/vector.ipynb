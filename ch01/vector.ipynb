{
 "metadata": {
  "language_info": {
   "codemirror_mode": {
    "name": "ipython",
    "version": 3
   },
   "file_extension": ".py",
   "mimetype": "text/x-python",
   "name": "python",
   "nbconvert_exporter": "python",
   "pygments_lexer": "ipython3",
   "version": "3.9.1-final"
  },
  "orig_nbformat": 2,
  "kernelspec": {
   "name": "python3",
   "display_name": "Python 3.9.1 64-bit",
   "metadata": {
    "interpreter": {
     "hash": "4cd7ab41f5fca4b9b44701077e38c5ffd31fe66a6cab21e0214b68d958d0e462"
    }
   }
  }
 },
 "nbformat": 4,
 "nbformat_minor": 2,
 "cells": [
  {
   "cell_type": "code",
   "execution_count": 2,
   "metadata": {},
   "outputs": [],
   "source": [
    "%load_ext pycodestyle_magic\n",
    "%pycodestyle_on"
   ]
  },
  {
   "cell_type": "code",
   "execution_count": 1,
   "metadata": {},
   "outputs": [
    {
     "output_type": "stream",
     "name": "stdout",
     "text": [
      "Trying:\n    v1 = Vector(2, 4)\nExpecting nothing\nok\nTrying:\n    v2 = Vector(2, 1)\nExpecting nothing\nok\nTrying:\n    v1 + v2 * 2\nExpecting:\n    Vector(6, 6)\nok\nTrying:\n    abs(Vector(3, 4))\nExpecting:\n    5.0\nok\nTrying:\n    v1 = Vector(2, 4)\nExpecting nothing\nok\nTrying:\n    v2 = Vector(2, 1)\nExpecting nothing\nok\nTrying:\n    v1 + v2\nExpecting:\n    Vector(4, 5)\nok\nTrying:\n    bool(Vector(3, 4))\nExpecting:\n    True\nok\nTrying:\n    bool(Vector(0, 0))\nExpecting:\n    False\nok\nTrying:\n    v1 = Vector(3, 4)\nExpecting nothing\nok\nTrying:\n    v1.x, v1.y\nExpecting:\n    (3, 4)\nok\nTrying:\n    Vector(3, 4) * 3\nExpecting:\n    Vector(9, 12)\nok\nTrying:\n    repr(Vector(3, 4))\nExpecting:\n    'Vector(3, 4)'\nok\n1 items had no tests:\n    __main__\n7 items passed all tests:\n   3 tests in __main__.Vector\n   1 tests in __main__.Vector.__abs__\n   3 tests in __main__.Vector.__add__\n   2 tests in __main__.Vector.__bool__\n   2 tests in __main__.Vector.__init__\n   1 tests in __main__.Vector.__mul__\n   1 tests in __main__.Vector.__repr__\n13 tests in 8 items.\n13 passed and 0 failed.\nTest passed.\n"
     ]
    }
   ],
   "source": [
    "from math import hypot\n",
    "\n",
    "\n",
    "class Vector:\n",
    "    \"\"\" Simple 2D vector class\n",
    "\n",
    "    >>> v1 = Vector(2, 4)\n",
    "    >>> v2 = Vector(2, 1)\n",
    "    >>> v1 + v2 * 2\n",
    "    Vector(6, 6)\n",
    "    \"\"\"\n",
    "\n",
    "    def __init__(self, x=0, y=0):\n",
    "        \"\"\"\n",
    "\n",
    "        >>> v1 = Vector(3, 4)\n",
    "        >>> v1.x, v1.y\n",
    "        (3, 4)\n",
    "        \"\"\"\n",
    "        self.x = x\n",
    "        self.y = y\n",
    "\n",
    "    def __repr__(self):\n",
    "        \"\"\"\n",
    "\n",
    "        >>> repr(Vector(3, 4))\n",
    "        'Vector(3, 4)'\n",
    "        \"\"\"\n",
    "        return 'Vector({!r}, {!r})'.format(self.x, self.y)\n",
    "\n",
    "    def __abs__(self):\n",
    "        \"\"\"\n",
    "\n",
    "        >>> abs(Vector(3, 4))\n",
    "        5.0\n",
    "        \"\"\"\n",
    "        return hypot(self.x, self.y)\n",
    "\n",
    "    def __bool__(self):\n",
    "        \"\"\"\n",
    "\n",
    "        >>> bool(Vector(3, 4))\n",
    "        True\n",
    "\n",
    "        >>> bool(Vector(0, 0))\n",
    "        False\n",
    "        \"\"\"\n",
    "        return bool(abs(self))\n",
    "\n",
    "    def __add__(self, other):\n",
    "        \"\"\"\n",
    "\n",
    "        >>> v1 = Vector(2, 4)\n",
    "        >>> v2 = Vector(2, 1)\n",
    "        >>> v1 + v2\n",
    "        Vector(4, 5)\n",
    "        \"\"\"\n",
    "        x = self.x + other.x\n",
    "        y = self.y + other.y\n",
    "        return Vector(x, y)\n",
    "\n",
    "    def __mul__(self, scalar):\n",
    "        \"\"\"\n",
    "\n",
    "        >>> Vector(3, 4) * 3\n",
    "        Vector(9, 12)\n",
    "        \"\"\"\n",
    "        return Vector(self.x * scalar, self.y * scalar)\n",
    "\n",
    "\n",
    "import doctest  # noqa: E402\n",
    "_ = doctest.testmod(verbose=True)"
   ]
  },
  {
   "cell_type": "code",
   "execution_count": null,
   "metadata": {},
   "outputs": [],
   "source": []
  }
 ]
}