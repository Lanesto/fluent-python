{
 "metadata": {
  "language_info": {
   "codemirror_mode": {
    "name": "ipython",
    "version": 3
   },
   "file_extension": ".py",
   "mimetype": "text/x-python",
   "name": "python",
   "nbconvert_exporter": "python",
   "pygments_lexer": "ipython3",
   "version": "3.9.1-final"
  },
  "orig_nbformat": 2,
  "kernelspec": {
   "name": "python3",
   "display_name": "Python 3",
   "language": "python"
  }
 },
 "nbformat": 4,
 "nbformat_minor": 2,
 "cells": [
  {
   "cell_type": "code",
   "execution_count": 1,
   "metadata": {},
   "outputs": [],
   "source": [
    "%load_ext pycodestyle_magic\n",
    "%pycodestyle_on"
   ]
  },
  {
   "cell_type": "code",
   "execution_count": 2,
   "metadata": {},
   "outputs": [],
   "source": [
    "import doctest"
   ]
  },
  {
   "cell_type": "code",
   "execution_count": 3,
   "metadata": {},
   "outputs": [
    {
     "output_type": "execute_result",
     "data": {
      "text/plain": [
       "TestResults(failed=0, attempted=8)"
      ]
     },
     "metadata": {},
     "execution_count": 3
    }
   ],
   "source": [
    "from datetime import datetime\n",
    "\n",
    "\"\"\"\n",
    "\n",
    ">>> brl = 1 / 2.43\n",
    ">>> brl\n",
    "0.4115226337448559\n",
    ">>> format(brl, '0.4f')\n",
    "'0.4115'\n",
    ">>> '1 BRL = {rate:0.2f} USD'.format(rate=brl)\n",
    "'1 BRL = 0.41 USD'\n",
    ">>> format(42, 'b')\n",
    "'101010'\n",
    ">>> format(2/3, '.2%')\n",
    "'66.67%'\n",
    ">>> now = datetime(2020, 1, 12, 14, 21, 3)\n",
    ">>> format(now, '%H:%M:%S')\n",
    "'14:21:03'\n",
    "\"\"\"\n",
    "\n",
    "doctest.testmod()"
   ]
  },
  {
   "cell_type": "code",
   "execution_count": null,
   "metadata": {},
   "outputs": [],
   "source": []
  }
 ]
}