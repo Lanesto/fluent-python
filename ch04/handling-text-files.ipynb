{
 "metadata": {
  "language_info": {
   "codemirror_mode": {
    "name": "ipython",
    "version": 3
   },
   "file_extension": ".py",
   "mimetype": "text/x-python",
   "name": "python",
   "nbconvert_exporter": "python",
   "pygments_lexer": "ipython3",
   "version": "3.9.1-final"
  },
  "orig_nbformat": 2,
  "kernelspec": {
   "name": "python3",
   "display_name": "Python 3",
   "language": "python"
  }
 },
 "nbformat": 4,
 "nbformat_minor": 2,
 "cells": [
  {
   "cell_type": "code",
   "execution_count": 1,
   "metadata": {},
   "outputs": [],
   "source": [
    "%load_ext pycodestyle_magic\n",
    "%pycodestyle_on"
   ]
  },
  {
   "cell_type": "code",
   "execution_count": 2,
   "metadata": {},
   "outputs": [],
   "source": [
    "import doctest"
   ]
  },
  {
   "cell_type": "code",
   "execution_count": 3,
   "metadata": {},
   "outputs": [
    {
     "output_type": "execute_result",
     "data": {
      "text/plain": [
       "TestResults(failed=0, attempted=3)"
      ]
     },
     "metadata": {},
     "execution_count": 3
    }
   ],
   "source": [
    "import os\n",
    "\n",
    "\"\"\"\n",
    "\n",
    ">>> open('cafe.txt', 'w', encoding='utf_8').write('café')\n",
    "4\n",
    ">>> open('cafe.txt', encoding='cp1252').read()\n",
    "'cafÃ©'\n",
    "\n",
    ">>> os.remove('cafe.txt')\n",
    "\"\"\"\n",
    "\n",
    "doctest.testmod()"
   ]
  },
  {
   "cell_type": "code",
   "execution_count": 4,
   "metadata": {},
   "outputs": [
    {
     "output_type": "execute_result",
     "data": {
      "text/plain": [
       "TestResults(failed=0, attempted=15)"
      ]
     },
     "metadata": {},
     "execution_count": 4
    }
   ],
   "source": [
    "import os\n",
    "\n",
    "\"\"\"\n",
    "\n",
    ">>> fp = open('cafe.txt', 'w', encoding='utf-8')\n",
    ">>> fp\n",
    "<_io.TextIOWrapper name='cafe.txt' mode='w' encoding='utf-8'>\n",
    ">>> fp.write('café')\n",
    "4\n",
    ">>> fp.close()\n",
    ">>> os.stat('cafe.txt').st_size\n",
    "5\n",
    ">>> fp2 = open('cafe.txt', encoding='cp1252')\n",
    ">>> fp2\n",
    "<_io.TextIOWrapper name='cafe.txt' mode='r' encoding='cp1252'>\n",
    ">>> fp2.encoding\n",
    "'cp1252'\n",
    ">>> fp2.read()\n",
    "'cafÃ©'\n",
    ">>> fp3 = open('cafe.txt', encoding='utf-8')\n",
    ">>> fp3\n",
    "<_io.TextIOWrapper name='cafe.txt' mode='r' encoding='utf-8'>\n",
    ">>> fp4 = open('cafe.txt', 'rb')\n",
    ">>> fp4\n",
    "<_io.BufferedReader name='cafe.txt'>\n",
    ">>> fp4.read()\n",
    "b'caf\\\\xc3\\\\xa9'\n",
    "\n",
    ">>> os.remove('cafe.txt')\n",
    "\"\"\"\n",
    "\n",
    "doctest.testmod()"
   ]
  },
  {
   "cell_type": "code",
   "execution_count": 5,
   "metadata": {},
   "outputs": [
    {
     "output_type": "stream",
     "name": "stdout",
     "text": [
      " locale.getpreferredencoding() -> 'UTF-8'\n                 type(my_file) -> <class '_io.TextIOWrapper'>\n              my_file.encoding -> 'UTF-8'\n           sys.stdout.isatty() -> False\n           sys.stdout.encoding -> 'UTF-8'\n            sys.stdin.isatty() -> False\n            sys.stdin.encoding -> 'utf-8'\n           sys.stderr.isatty() -> False\n           sys.stderr.encoding -> 'UTF-8'\n      sys.getdefaultencoding() -> 'utf-8'\n   sys.getfilesystemencoding() -> 'utf-8'\n"
     ]
    }
   ],
   "source": [
    "import sys\n",
    "import locale\n",
    "\n",
    "expressions = \"\"\"\n",
    "    locale.getpreferredencoding()\n",
    "    type(my_file)\n",
    "    my_file.encoding\n",
    "    sys.stdout.isatty()\n",
    "    sys.stdout.encoding\n",
    "    sys.stdin.isatty()\n",
    "    sys.stdin.encoding\n",
    "    sys.stderr.isatty()\n",
    "    sys.stderr.encoding\n",
    "    sys.getdefaultencoding()\n",
    "    sys.getfilesystemencoding()\n",
    "\"\"\"\n",
    "\n",
    "my_file = open('dummy', 'w')\n",
    "\n",
    "for expression in expressions.split():\n",
    "    value = eval(expression)\n",
    "    print(expression.rjust(30), '->', repr(value))\n",
    "\n",
    "os.remove('dummy')"
   ]
  },
  {
   "cell_type": "code",
   "execution_count": null,
   "metadata": {},
   "outputs": [],
   "source": []
  }
 ]
}