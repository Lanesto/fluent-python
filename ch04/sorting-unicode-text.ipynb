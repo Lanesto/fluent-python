{
 "metadata": {
  "language_info": {
   "codemirror_mode": {
    "name": "ipython",
    "version": 3
   },
   "file_extension": ".py",
   "mimetype": "text/x-python",
   "name": "python",
   "nbconvert_exporter": "python",
   "pygments_lexer": "ipython3",
   "version": "3.9.1-final"
  },
  "orig_nbformat": 2,
  "kernelspec": {
   "name": "python3",
   "display_name": "Python 3",
   "language": "python"
  }
 },
 "nbformat": 4,
 "nbformat_minor": 2,
 "cells": [
  {
   "cell_type": "code",
   "execution_count": 1,
   "metadata": {},
   "outputs": [
    {
     "output_type": "stream",
     "name": "stdout",
     "text": [
      "Requirement already satisfied: pyuca in /usr/local/lib/python3.9/site-packages (1.2)\n"
     ]
    }
   ],
   "source": [
    "!pip install pyuca\n",
    "\n",
    "%load_ext pycodestyle_magic\n",
    "%pycodestyle_on"
   ]
  },
  {
   "cell_type": "code",
   "execution_count": 2,
   "metadata": {},
   "outputs": [],
   "source": [
    "import doctest"
   ]
  },
  {
   "cell_type": "code",
   "execution_count": 3,
   "metadata": {},
   "outputs": [
    {
     "output_type": "stream",
     "name": "stdout",
     "text": [
      "**********************************************************************\nFile \"__main__\", line 7, in __main__\nFailed example:\n    locale.setlocale(locale.LC_COLLATE, 'pt_BR.UTF-8')\nException raised:\n    Traceback (most recent call last):\n      File \"/usr/local/lib/python3.9/doctest.py\", line 1336, in __run\n        exec(compile(example.source, filename, \"single\",\n      File \"<doctest __main__[2]>\", line 1, in <module>\n        locale.setlocale(locale.LC_COLLATE, 'pt_BR.UTF-8')\n      File \"/usr/local/lib/python3.9/locale.py\", line 610, in setlocale\n        return _setlocale(category, locale)\n    locale.Error: unsupported locale setting\n**********************************************************************\nFile \"__main__\", line 8, in __main__\nFailed example:\n    sorted(fruits, key=locale.strxfrm)\nExpected:\n    ['açai', 'acerola', 'atemoia', 'cajã', 'caju']\nGot:\n    ['acerola', 'atemoia', 'açai', 'caju', 'cajã']\n**********************************************************************\n1 items had failures:\n   2 of   4 in __main__\n***Test Failed*** 2 failures.\n"
     ]
    },
    {
     "output_type": "execute_result",
     "data": {
      "text/plain": [
       "TestResults(failed=2, attempted=4)"
      ]
     },
     "metadata": {},
     "execution_count": 3
    }
   ],
   "source": [
    "import locale\n",
    "\n",
    "\"\"\"\n",
    "\n",
    ">>> fruits = ['caju', 'atemoia', 'cajã', 'açai', 'acerola']\n",
    ">>> sorted(fruits)\n",
    "['acerola', 'atemoia', 'açai', 'caju', 'cajã']\n",
    ">>> locale.setlocale(locale.LC_COLLATE, 'pt_BR.UTF-8')\n",
    ">>> sorted(fruits, key=locale.strxfrm)\n",
    "['açai', 'acerola', 'atemoia', 'cajã', 'caju']\n",
    "\"\"\"\n",
    "\n",
    "doctest.testmod()"
   ]
  },
  {
   "cell_type": "code",
   "execution_count": 4,
   "metadata": {},
   "outputs": [
    {
     "output_type": "execute_result",
     "data": {
      "text/plain": [
       "TestResults(failed=0, attempted=3)"
      ]
     },
     "metadata": {},
     "execution_count": 4
    }
   ],
   "source": [
    "import pyuca\n",
    "\n",
    "\"\"\"\n",
    "\n",
    ">>> coll = pyuca.Collator()\n",
    ">>> fruits = ['caju', 'atemoia', 'cajã', 'açai', 'acerola']\n",
    ">>> sorted(fruits, key=coll.sort_key)\n",
    "['açai', 'acerola', 'atemoia', 'cajã', 'caju']\n",
    "\"\"\"\n",
    "\n",
    "doctest.testmod()"
   ]
  },
  {
   "cell_type": "code",
   "execution_count": null,
   "metadata": {},
   "outputs": [],
   "source": []
  }
 ]
}