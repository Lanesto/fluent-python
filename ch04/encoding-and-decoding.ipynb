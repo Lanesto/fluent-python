{
 "metadata": {
  "language_info": {
   "codemirror_mode": {
    "name": "ipython",
    "version": 3
   },
   "file_extension": ".py",
   "mimetype": "text/x-python",
   "name": "python",
   "nbconvert_exporter": "python",
   "pygments_lexer": "ipython3",
   "version": "3.9.1-final"
  },
  "orig_nbformat": 2,
  "kernelspec": {
   "name": "python3",
   "display_name": "Python 3",
   "language": "python"
  }
 },
 "nbformat": 4,
 "nbformat_minor": 2,
 "cells": [
  {
   "cell_type": "code",
   "execution_count": 1,
   "metadata": {},
   "outputs": [],
   "source": [
    "%load_ext pycodestyle_magic\n",
    "%pycodestyle_on"
   ]
  },
  {
   "cell_type": "code",
   "execution_count": 2,
   "metadata": {},
   "outputs": [],
   "source": [
    "import doctest"
   ]
  },
  {
   "cell_type": "code",
   "execution_count": 3,
   "metadata": {},
   "outputs": [
    {
     "output_type": "execute_result",
     "data": {
      "text/plain": [
       "TestResults(failed=0, attempted=6)"
      ]
     },
     "metadata": {},
     "execution_count": 3
    }
   ],
   "source": [
    "\"\"\"\n",
    "\n",
    ">>> s = 'café'\n",
    ">>> len(s)\n",
    "4\n",
    ">>> b = s.encode('utf-8')\n",
    ">>> b\n",
    "b'caf\\xc3\\xa9'\n",
    ">>> len(b)\n",
    "5\n",
    ">>> b.decode('utf-8')\n",
    "'café'\n",
    "\"\"\"\n",
    "\n",
    "doctest.testmod()"
   ]
  },
  {
   "cell_type": "code",
   "execution_count": 4,
   "metadata": {},
   "outputs": [
    {
     "output_type": "execute_result",
     "data": {
      "text/plain": [
       "TestResults(failed=0, attempted=8)"
      ]
     },
     "metadata": {},
     "execution_count": 4
    }
   ],
   "source": [
    "\"\"\"\n",
    "\n",
    ">>> cafe = bytes('café', encoding='utf-8')\n",
    ">>> cafe\n",
    "b'caf\\xc3\\xa9'\n",
    ">>> cafe[0]\n",
    "99\n",
    ">>> cafe[:1]\n",
    "b'c'\n",
    ">>> cafe_arr = bytearray(cafe)\n",
    ">>> cafe_arr\n",
    "bytearray(b'caf\\xc3\\xa9')\n",
    ">>> cafe_arr[-1:]\n",
    "bytearray(b'\\xa9')\n",
    "\n",
    ">>> bytes.fromhex('31 4B CE A9')\n",
    "b'1K\\xce\\xa9'\n",
    "\"\"\"\n",
    "\n",
    "doctest.testmod()"
   ]
  },
  {
   "cell_type": "code",
   "execution_count": 5,
   "metadata": {},
   "outputs": [
    {
     "output_type": "execute_result",
     "data": {
      "text/plain": [
       "b'\\xfe\\xff\\xff\\xff\\x00\\x00\\x01\\x00\\x02\\x00'"
      ]
     },
     "metadata": {},
     "execution_count": 5
    }
   ],
   "source": [
    "import array\n",
    "\n",
    "numbers = array.array('h', [-2, -1, 0, 1, 2])\n",
    "octets = bytes(numbers)\n",
    "octets"
   ]
  },
  {
   "cell_type": "code",
   "execution_count": 6,
   "metadata": {},
   "outputs": [
    {
     "output_type": "execute_result",
     "data": {
      "text/plain": [
       "TestResults(failed=0, attempted=7)"
      ]
     },
     "metadata": {},
     "execution_count": 6
    }
   ],
   "source": [
    "import struct\n",
    "\n",
    "\"\"\"\n",
    "\n",
    ">>> fmt = '<3s3sHH'\n",
    ">>> with open('sample.gif', 'rb') as fp:\n",
    "...     img = memoryview(fp.read())\n",
    "...\n",
    ">>> header = img[:10]\n",
    ">>> bytes(header)\n",
    "b'GIF89a\\\\xb3\\\\x01W\\\\x01'\n",
    ">>> struct.unpack(fmt, header)\n",
    "(b'GIF', b'89a', 435, 343)\n",
    ">>> del header\n",
    ">>> del img\n",
    "\"\"\"\n",
    "\n",
    "doctest.testmod()"
   ]
  },
  {
   "cell_type": "code",
   "execution_count": 7,
   "metadata": {},
   "outputs": [
    {
     "output_type": "stream",
     "name": "stdout",
     "text": [
      "latin_1\tb'El Ni\\xf1o'\nutf_8\tb'El Ni\\xc3\\xb1o'\nutf_16\tb'\\xff\\xfeE\\x00l\\x00 \\x00N\\x00i\\x00\\xf1\\x00o\\x00'\n"
     ]
    }
   ],
   "source": [
    "for codec in ['latin_1', 'utf_8', 'utf_16']:\n",
    "    print(codec, 'El Niño'.encode(codec), sep='\\t')"
   ]
  },
  {
   "cell_type": "code",
   "execution_count": 8,
   "metadata": {},
   "outputs": [
    {
     "output_type": "execute_result",
     "data": {
      "text/plain": [
       "TestResults(failed=0, attempted=8)"
      ]
     },
     "metadata": {},
     "execution_count": 8
    }
   ],
   "source": [
    "\"\"\"\n",
    "\n",
    ">>> city = 'São Paulo'\n",
    ">>> city.encode('utf_8')\n",
    "b'S\\xc3\\xa3o Paulo'\n",
    ">>> city.encode('utf_16')\n",
    "b'\\\\xff\\\\xfeS\\\\x00\\\\xe3\\\\x00o\\\\x00 \\\\x00P\\\\x00a\\\\x00u\\\\x00l\\\\x00o\\\\x00'\n",
    ">>> city.encode('iso8859_1')  # latin1\n",
    "b'S\\xe3o Paulo'\n",
    ">>> city.encode('cp437')\n",
    "Traceback (most recent call last):\n",
    "    ...\n",
    "UnicodeEncodeError: 'charmap' codec can't encode character '\\xe3' in position 1: character maps to <undefined>\n",
    ">>> city.encode('cp437', errors='ignore')\n",
    "b'So Paulo'\n",
    ">>> city.encode('cp437', errors='replace')\n",
    "b'S?o Paulo'\n",
    ">>> city.encode('cp437', errors='xmlcharrefreplace')\n",
    "b'S&#227;o Paulo'\n",
    "\"\"\"  # noqa: E501\n",
    "\n",
    "doctest.testmod()"
   ]
  },
  {
   "cell_type": "code",
   "execution_count": 9,
   "metadata": {},
   "outputs": [
    {
     "output_type": "execute_result",
     "data": {
      "text/plain": [
       "TestResults(failed=0, attempted=6)"
      ]
     },
     "metadata": {},
     "execution_count": 9
    }
   ],
   "source": [
    "\"\"\"\n",
    "\n",
    ">>> octets = b'Montr\\\\xe9al'\n",
    ">>> octets.decode('cp1252')\n",
    "'Montréal'\n",
    ">>> octets.decode('iso8859_7')\n",
    "'Montrιal'\n",
    ">>> octets.decode('koi8_r')\n",
    "'MontrИal'\n",
    ">>> octets.decode('utf_8')\n",
    "Traceback (most recent call last):\n",
    "    ...\n",
    "UnicodeDecodeError: 'utf-8' codec can't decode byte 0xe9 in position 5: invalid continuation byte\n",
    ">>> octets.decode('utf_8', errors='replace')\n",
    "'Montr�al'\n",
    "\"\"\"  # noqa: E501\n",
    "\n",
    "doctest.testmod()"
   ]
  },
  {
   "cell_type": "code",
   "execution_count": 10,
   "metadata": {},
   "outputs": [
    {
     "output_type": "execute_result",
     "data": {
      "text/plain": [
       "TestResults(failed=0, attempted=7)"
      ]
     },
     "metadata": {},
     "execution_count": 10
    }
   ],
   "source": [
    "\"\"\"\n",
    "\n",
    ">>> u16 = 'El Niño'.encode('utf_16')\n",
    ">>> u16\n",
    "b'\\\\xff\\\\xfeE\\\\x00l\\\\x00 \\\\x00N\\\\x00i\\\\x00\\\\xf1\\\\x00o\\\\x00'\n",
    ">>> list(u16)\n",
    "[255, 254, 69, 0, 108, 0, 32, 0, 78, 0, 105, 0, 241, 0, 111, 0]\n",
    ">>> u16le = 'El Niño'.encode('utf_16le')\n",
    ">>> list(u16le)\n",
    "[69, 0, 108, 0, 32, 0, 78, 0, 105, 0, 241, 0, 111, 0]\n",
    ">>> u16be = 'El Niño'.encode('utf_16be')\n",
    ">>> list(u16be)\n",
    "[0, 69, 0, 108, 0, 32, 0, 78, 0, 105, 0, 241, 0, 111]\n",
    "\"\"\"\n",
    "\n",
    "doctest.testmod()"
   ]
  },
  {
   "cell_type": "code",
   "execution_count": null,
   "metadata": {},
   "outputs": [],
   "source": []
  }
 ]
}