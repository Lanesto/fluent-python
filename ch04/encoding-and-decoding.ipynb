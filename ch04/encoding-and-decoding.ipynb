{
 "metadata": {
  "language_info": {
   "codemirror_mode": {
    "name": "ipython",
    "version": 3
   },
   "file_extension": ".py",
   "mimetype": "text/x-python",
   "name": "python",
   "nbconvert_exporter": "python",
   "pygments_lexer": "ipython3",
   "version": "3.9.1-final"
  },
  "orig_nbformat": 2,
  "kernelspec": {
   "name": "python3",
   "display_name": "Python 3",
   "language": "python"
  }
 },
 "nbformat": 4,
 "nbformat_minor": 2,
 "cells": [
  {
   "cell_type": "code",
   "execution_count": 1,
   "metadata": {},
   "outputs": [],
   "source": [
    "%load_ext pycodestyle_magic\n",
    "%pycodestyle_on"
   ]
  },
  {
   "cell_type": "code",
   "execution_count": 2,
   "metadata": {},
   "outputs": [],
   "source": [
    "import doctest"
   ]
  },
  {
   "cell_type": "code",
   "execution_count": 3,
   "metadata": {},
   "outputs": [
    {
     "output_type": "execute_result",
     "data": {
      "text/plain": [
       "TestResults(failed=0, attempted=6)"
      ]
     },
     "metadata": {},
     "execution_count": 3
    }
   ],
   "source": [
    "\"\"\"\n",
    "\n",
    ">>> s = 'café'\n",
    ">>> len(s)\n",
    "4\n",
    ">>> b = s.encode('utf-8')\n",
    ">>> b\n",
    "b'caf\\xc3\\xa9'\n",
    ">>> len(b)\n",
    "5\n",
    ">>> b.decode('utf-8')\n",
    "'café'\n",
    "\"\"\"\n",
    "\n",
    "doctest.testmod()"
   ]
  },
  {
   "cell_type": "code",
   "execution_count": 4,
   "metadata": {},
   "outputs": [
    {
     "output_type": "execute_result",
     "data": {
      "text/plain": [
       "TestResults(failed=0, attempted=8)"
      ]
     },
     "metadata": {},
     "execution_count": 4
    }
   ],
   "source": [
    "\"\"\"\n",
    "\n",
    ">>> cafe = bytes('café', encoding='utf-8')\n",
    ">>> cafe\n",
    "b'caf\\xc3\\xa9'\n",
    ">>> cafe[0]\n",
    "99\n",
    ">>> cafe[:1]\n",
    "b'c'\n",
    ">>> cafe_arr = bytearray(cafe)\n",
    ">>> cafe_arr\n",
    "bytearray(b'caf\\xc3\\xa9')\n",
    ">>> cafe_arr[-1:]\n",
    "bytearray(b'\\xa9')\n",
    "\n",
    ">>> bytes.fromhex('31 4B CE A9')\n",
    "b'1K\\xce\\xa9'\n",
    "\"\"\"\n",
    "\n",
    "doctest.testmod()"
   ]
  },
  {
   "cell_type": "code",
   "execution_count": 5,
   "metadata": {},
   "outputs": [
    {
     "output_type": "execute_result",
     "data": {
      "text/plain": [
       "b'\\xfe\\xff\\xff\\xff\\x00\\x00\\x01\\x00\\x02\\x00'"
      ]
     },
     "metadata": {},
     "execution_count": 5
    }
   ],
   "source": [
    "import array\n",
    "\n",
    "numbers = array.array('h', [-2, -1, 0, 1, 2])\n",
    "octets = bytes(numbers)\n",
    "octets"
   ]
  },
  {
   "cell_type": "code",
   "execution_count": 6,
   "metadata": {},
   "outputs": [
    {
     "output_type": "execute_result",
     "data": {
      "text/plain": [
       "TestResults(failed=0, attempted=7)"
      ]
     },
     "metadata": {},
     "execution_count": 6
    }
   ],
   "source": [
    "import struct\n",
    "\n",
    "\"\"\"\n",
    "\n",
    ">>> fmt = '<3s3sHH'\n",
    ">>> with open('sample.gif', 'rb') as fp:\n",
    "...     img = memoryview(fp.read())\n",
    "...\n",
    ">>> header = img[:10]\n",
    ">>> bytes(header)\n",
    "b'GIF89a\\\\xb3\\\\x01W\\\\x01'\n",
    ">>> struct.unpack(fmt, header)\n",
    "(b'GIF', b'89a', 435, 343)\n",
    ">>> del header\n",
    ">>> del img\n",
    "\"\"\"\n",
    "\n",
    "doctest.testmod()"
   ]
  },
  {
   "cell_type": "code",
   "execution_count": null,
   "metadata": {},
   "outputs": [],
   "source": []
  }
 ]
}