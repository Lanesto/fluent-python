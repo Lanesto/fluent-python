{
 "metadata": {
  "language_info": {
   "codemirror_mode": {
    "name": "ipython",
    "version": 3
   },
   "file_extension": ".py",
   "mimetype": "text/x-python",
   "name": "python",
   "nbconvert_exporter": "python",
   "pygments_lexer": "ipython3",
   "version": "3.9.1-final"
  },
  "orig_nbformat": 2,
  "kernelspec": {
   "name": "python3",
   "display_name": "Python 3",
   "language": "python"
  }
 },
 "nbformat": 4,
 "nbformat_minor": 2,
 "cells": [
  {
   "cell_type": "code",
   "execution_count": 1,
   "metadata": {},
   "outputs": [],
   "source": [
    "%load_ext pycodestyle_magic\n",
    "%pycodestyle_on"
   ]
  },
  {
   "cell_type": "code",
   "execution_count": 2,
   "metadata": {},
   "outputs": [],
   "source": [
    "import doctest"
   ]
  },
  {
   "cell_type": "code",
   "execution_count": 3,
   "metadata": {},
   "outputs": [
    {
     "output_type": "execute_result",
     "data": {
      "text/plain": [
       "TestResults(failed=0, attempted=3)"
      ]
     },
     "metadata": {},
     "execution_count": 3
    }
   ],
   "source": [
    "def quantity(name):\n",
    "\n",
    "    def getter(instance):\n",
    "        return instance.__dict__[name]\n",
    "\n",
    "    def setter(instance, value):\n",
    "        if value > 0:\n",
    "            instance.__dict__[name] = value\n",
    "        else:\n",
    "            raise ValueError('value must be > 0')\n",
    "\n",
    "    return property(getter, setter)\n",
    "\n",
    "\n",
    "class LineItem:\n",
    "    weight = quantity('weight')\n",
    "    price = quantity('price')\n",
    "\n",
    "    def __init__(self, description, weight, price):\n",
    "        self.description = description\n",
    "        self.weight = weight\n",
    "        self.price = price\n",
    "\n",
    "    def subtotal(self):\n",
    "        return self.weight * self.price\n",
    "\n",
    "\n",
    "\"\"\"\n",
    "\n",
    ">>> nutmeg = LineItem('Moluccan nutmeg', 8, 13.95)\n",
    ">>> nutmeg.weight, nutmeg.price\n",
    "(8, 13.95)\n",
    ">>> sorted(vars(nutmeg).items())\n",
    "[('description', 'Moluccan nutmeg'), ('price', 13.95), ('weight', 8)]\n",
    "\"\"\"\n",
    "\n",
    "doctest.testmod()"
   ]
  },
  {
   "cell_type": "code",
   "execution_count": 4,
   "metadata": {},
   "outputs": [
    {
     "output_type": "execute_result",
     "data": {
      "text/plain": [
       "TestResults(failed=0, attempted=3)"
      ]
     },
     "metadata": {},
     "execution_count": 4
    }
   ],
   "source": [
    "class BlackKnight:\n",
    "    def __init__(self):\n",
    "        self.members = ['an arm', 'another arm', 'a leg', 'another leg']\n",
    "        self.phrases = [\"'Tis but a scratch\", \"It's just a flesh wound\",\n",
    "                        \"I'm invincible!\", \"All right, we'll call it a draw.\"]\n",
    "\n",
    "    @property\n",
    "    def member(self):\n",
    "        print('next member is:')\n",
    "        return self.members[0]\n",
    "\n",
    "    # @member.deleter\n",
    "    # def member(self):\n",
    "    #     text = 'BLACK KNIGHT (loses {})\\n -- {}'\n",
    "    #     print(text.format(\n",
    "    #         self.members.pop(0), self.phrases.pop(0)\n",
    "    #     ))\n",
    "\n",
    "    def __delattr__(self, name):\n",
    "        if name == 'member':\n",
    "            text = 'BLACK KNIGHT (loses {})\\n -- {}'\n",
    "            print(text.format(\n",
    "                self.members.pop(0), self.phrases.pop(0)\n",
    "            ))\n",
    "        else:\n",
    "            super().__delattr__(name)\n",
    "\n",
    "\n",
    "\"\"\"\n",
    "\n",
    ">>> knight = BlackKnight()\n",
    ">>> knight.member\n",
    "next member is:\n",
    "'an arm'\n",
    ">>> del knight.member\n",
    "BLACK KNIGHT (loses an arm)\n",
    " -- 'Tis but a scratch\n",
    "\"\"\"\n",
    "\n",
    "doctest.testmod()"
   ]
  },
  {
   "cell_type": "code",
   "execution_count": 5,
   "metadata": {},
   "outputs": [
    {
     "output_type": "execute_result",
     "data": {
      "text/plain": [
       "TestResults(failed=0, attempted=6)"
      ]
     },
     "metadata": {},
     "execution_count": 5
    }
   ],
   "source": [
    "class Class:\n",
    "    def __str__(self):\n",
    "        return 'a Class'\n",
    "\n",
    "\n",
    "\"\"\"\n",
    "\n",
    ">>> c = Class()\n",
    ">>> str(c)\n",
    "'a Class'\n",
    ">>> c.__str__ = lambda self: 'b Class'\n",
    ">>> str(c)\n",
    "'a Class'\n",
    ">>> Class.__str__ = lambda self: 'b Class'\n",
    ">>> str(c)\n",
    "'b Class'\n",
    "\"\"\"\n",
    "\n",
    "doctest.testmod()"
   ]
  }
 ]
}