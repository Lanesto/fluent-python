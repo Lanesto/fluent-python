{
 "metadata": {
  "language_info": {
   "codemirror_mode": {
    "name": "ipython",
    "version": 3
   },
   "file_extension": ".py",
   "mimetype": "text/x-python",
   "name": "python",
   "nbconvert_exporter": "python",
   "pygments_lexer": "ipython3",
   "version": "3.9.1-final"
  },
  "orig_nbformat": 2,
  "kernelspec": {
   "name": "python3",
   "display_name": "Python 3",
   "language": "python"
  }
 },
 "nbformat": 4,
 "nbformat_minor": 2,
 "cells": [
  {
   "cell_type": "code",
   "execution_count": 1,
   "metadata": {},
   "outputs": [],
   "source": [
    "%load_ext pycodestyle_magic\n",
    "%pycodestyle_on"
   ]
  },
  {
   "cell_type": "code",
   "execution_count": 2,
   "metadata": {},
   "outputs": [],
   "source": [
    "import doctest"
   ]
  },
  {
   "cell_type": "code",
   "execution_count": 3,
   "metadata": {},
   "outputs": [
    {
     "output_type": "execute_result",
     "data": {
      "text/plain": [
       "TestResults(failed=0, attempted=3)"
      ]
     },
     "metadata": {},
     "execution_count": 3
    }
   ],
   "source": [
    "class LineItem:\n",
    "\n",
    "    def __init__(self, description, weight, price):\n",
    "        self.description = description\n",
    "        self.weight = weight\n",
    "        self.price = price\n",
    "\n",
    "    def subtotal(self):\n",
    "        return self.weight * self.price\n",
    "\n",
    "    @property\n",
    "    def weight(self):\n",
    "        return self.__weight\n",
    "\n",
    "    @weight.setter\n",
    "    def weight(self, value):\n",
    "        if value > 0:\n",
    "            self.__weight = value\n",
    "        else:\n",
    "            raise ValueError('value must be > 0')\n",
    "\n",
    "\n",
    "\"\"\"\n",
    "\n",
    ">>> raisins = LineItem('Golden raisins', 10, 6.95)\n",
    ">>> raisins.subtotal()\n",
    "69.5\n",
    ">>> raisins.weight = -20\n",
    "Traceback (most recent call last):\n",
    "    ...\n",
    "ValueError: value must be > 0\n",
    "\"\"\"\n",
    "\n",
    "doctest.testmod()"
   ]
  },
  {
   "cell_type": "code",
   "execution_count": 4,
   "metadata": {},
   "outputs": [
    {
     "output_type": "execute_result",
     "data": {
      "text/plain": [
       "TestResults(failed=0, attempted=20)"
      ]
     },
     "metadata": {},
     "execution_count": 4
    }
   ],
   "source": [
    "class Class:\n",
    "    data = 'the class data attr'\n",
    "\n",
    "    @property\n",
    "    def prop(self):\n",
    "        '''The prop attribute'''\n",
    "        return 'the prop value'\n",
    "\n",
    "\n",
    "\"\"\"\n",
    "\n",
    ">>> obj = Class()\n",
    ">>> vars(obj)\n",
    "{}\n",
    ">>> obj.data\n",
    "'the class data attr'\n",
    ">>> obj.data = 'bar'\n",
    ">>> vars(obj)\n",
    "{'data': 'bar'}\n",
    ">>> obj.data\n",
    "'bar'\n",
    ">>> Class.data\n",
    "'the class data attr'\n",
    ">>> Class.prop  # doctest: +ELLIPSIS\n",
    "<property object at ...>\n",
    ">>> obj.prop\n",
    "'the prop value'\n",
    ">>> obj.prop = 'foo'\n",
    "Traceback (most recent call last):\n",
    "    ...\n",
    "AttributeError: can't set attribute\n",
    ">>> obj.__dict__['prop'] = 'foo'\n",
    ">>> vars(obj)\n",
    "{'data': 'bar', 'prop': 'foo'}\n",
    ">>> obj.prop\n",
    "'the prop value'\n",
    ">>> Class.prop = 'baz'\n",
    ">>> obj.prop\n",
    "'foo'\n",
    ">>> obj.data\n",
    "'bar'\n",
    ">>> Class.data = property(lambda self: 'the data value')\n",
    ">>> obj.data\n",
    "'the data value'\n",
    ">>> del Class.data\n",
    ">>> obj.data\n",
    "'bar'\n",
    "\"\"\"\n",
    "\n",
    "doctest.testmod()"
   ]
  }
 ]
}