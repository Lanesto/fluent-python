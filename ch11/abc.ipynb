{
 "metadata": {
  "language_info": {
   "codemirror_mode": {
    "name": "ipython",
    "version": 3
   },
   "file_extension": ".py",
   "mimetype": "text/x-python",
   "name": "python",
   "nbconvert_exporter": "python",
   "pygments_lexer": "ipython3",
   "version": "3.9.1-final"
  },
  "orig_nbformat": 2,
  "kernelspec": {
   "name": "python3",
   "display_name": "Python 3.9.1 64-bit",
   "metadata": {
    "interpreter": {
     "hash": "4cd7ab41f5fca4b9b44701077e38c5ffd31fe66a6cab21e0214b68d958d0e462"
    }
   }
  }
 },
 "nbformat": 4,
 "nbformat_minor": 2,
 "cells": [
  {
   "cell_type": "code",
   "execution_count": 1,
   "metadata": {},
   "outputs": [],
   "source": [
    "%load_ext pycodestyle_magic\n",
    "%pycodestyle_on"
   ]
  },
  {
   "cell_type": "code",
   "execution_count": 2,
   "metadata": {},
   "outputs": [],
   "source": [
    "import doctest"
   ]
  },
  {
   "cell_type": "code",
   "execution_count": 3,
   "metadata": {},
   "outputs": [
    {
     "output_type": "execute_result",
     "data": {
      "text/plain": [
       "TestResults(failed=0, attempted=6)"
      ]
     },
     "metadata": {},
     "execution_count": 3
    }
   ],
   "source": [
    "import numbers\n",
    "\n",
    "\n",
    "\"\"\"\n",
    "\n",
    ">>> isinstance(True, int)\n",
    "True\n",
    ">>> isinstance(1, numbers.Integral)\n",
    "True\n",
    ">>> isinstance(5.3, numbers.Rational)\n",
    "False\n",
    ">>> x = int(1)\n",
    ">>> isinstance(x, numbers.Real)\n",
    "True\n",
    ">>> isinstance(x, numbers.Number)\n",
    "True\n",
    "\"\"\"\n",
    "\n",
    "doctest.testmod()"
   ]
  },
  {
   "cell_type": "code",
   "execution_count": 4,
   "metadata": {},
   "outputs": [],
   "source": [
    "import abc\n",
    "\n",
    "\n",
    "class Tombola(abc.ABC):\n",
    "\n",
    "    @abc.abstractmethod\n",
    "    def load(self, iterable):\n",
    "        pass\n",
    "\n",
    "    @abc.abstractmethod\n",
    "    def pick(self):\n",
    "        pass\n",
    "\n",
    "    def loaded(self):\n",
    "        return bool(self.inspect())\n",
    "\n",
    "    def inspect(self):\n",
    "        items = []\n",
    "        while True:\n",
    "            try:\n",
    "                items.append(self.pick())\n",
    "            except LookupError:\n",
    "                break\n",
    "\n",
    "        self.load(items)\n",
    "        return tuple(sorted(items))"
   ]
  },
  {
   "cell_type": "code",
   "execution_count": 5,
   "metadata": {},
   "outputs": [
    {
     "output_type": "error",
     "ename": "TypeError",
     "evalue": "Can't instantiate abstract class Fake with abstract method load",
     "traceback": [
      "\u001b[0;31m---------------------------------------------------------------------------\u001b[0m",
      "\u001b[0;31mTypeError\u001b[0m                                 Traceback (most recent call last)",
      "\u001b[0;32m<ipython-input-5-a41c2d630ed5>\u001b[0m in \u001b[0;36m<module>\u001b[0;34m\u001b[0m\n\u001b[1;32m      5\u001b[0m \u001b[0;34m\u001b[0m\u001b[0m\n\u001b[1;32m      6\u001b[0m \u001b[0;34m\u001b[0m\u001b[0m\n\u001b[0;32m----> 7\u001b[0;31m \u001b[0mf\u001b[0m \u001b[0;34m=\u001b[0m \u001b[0mFake\u001b[0m\u001b[0;34m(\u001b[0m\u001b[0;34m)\u001b[0m\u001b[0;34m\u001b[0m\u001b[0;34m\u001b[0m\u001b[0m\n\u001b[0m",
      "\u001b[0;31mTypeError\u001b[0m: Can't instantiate abstract class Fake with abstract method load"
     ]
    }
   ],
   "source": [
    "class Fake(Tombola):\n",
    "\n",
    "    def pick(self):\n",
    "        return 13\n",
    "\n",
    "\n",
    "f = Fake()"
   ]
  },
  {
   "cell_type": "code",
   "execution_count": 6,
   "metadata": {},
   "outputs": [
    {
     "output_type": "execute_result",
     "data": {
      "text/plain": [
       "TestResults(failed=0, attempted=2)"
      ]
     },
     "metadata": {},
     "execution_count": 6
    }
   ],
   "source": [
    "import random\n",
    "\n",
    "\n",
    "class BingoCage(Tombola):\n",
    "\n",
    "    def __init__(self, items):\n",
    "        self._randomizer = random.SystemRandom()\n",
    "        self._items = []\n",
    "        self.load(items)\n",
    "\n",
    "    def load(self, items):\n",
    "        self._items.extend(items)\n",
    "        self._randomizer.shuffle(self._items)\n",
    "\n",
    "    def pick(self):\n",
    "        cls = type(self)\n",
    "        try:\n",
    "            return self._items.pop()\n",
    "        except IndexError:\n",
    "            raise LookupError(f'pick from empty {cls.__name__}')\n",
    "\n",
    "    def __call__(self):\n",
    "        return self.pick()\n",
    "\n",
    "\n",
    "\"\"\"\n",
    "\n",
    ">>> b = BingoCage([1, 2, 3])\n",
    ">>> b.loaded()\n",
    "True\n",
    "\"\"\"\n",
    "\n",
    "doctest.testmod()"
   ]
  },
  {
   "cell_type": "code",
   "execution_count": 7,
   "metadata": {},
   "outputs": [
    {
     "output_type": "stream",
     "name": "stdout",
     "text": [
      "2\n5\n4\n1\n3\n"
     ]
    }
   ],
   "source": [
    "import random\n",
    "\n",
    "\n",
    "class LotteryBlower(Tombola):\n",
    "\n",
    "    def __init__(self, iterable):\n",
    "        self._balls = list(iterable)\n",
    "\n",
    "    def load(self, iterable):\n",
    "        self._balls.extend(iterable)\n",
    "\n",
    "    def pick(self):\n",
    "        cls = type(self)\n",
    "        try:\n",
    "            position = random.randrange(len(self._balls))\n",
    "        except ValueError:\n",
    "            raise LookupError(f'pick from empty {cls.__name__}')\n",
    "\n",
    "        return self._balls.pop(position)\n",
    "\n",
    "    def loaded(self):\n",
    "        return bool(self._balls)\n",
    "\n",
    "    def inspect(self):\n",
    "        return tuple(sorted(self._balls))\n",
    "\n",
    "\n",
    "lb = LotteryBlower([1, 2, 3, 4, 5])\n",
    "while True:\n",
    "    try:\n",
    "        ball = lb.pick()\n",
    "    except LookupError:\n",
    "        break\n",
    "\n",
    "    print(ball)"
   ]
  },
  {
   "cell_type": "code",
   "execution_count": 8,
   "metadata": {},
   "outputs": [
    {
     "output_type": "execute_result",
     "data": {
      "text/plain": [
       "(True, True)"
      ]
     },
     "metadata": {},
     "execution_count": 8
    }
   ],
   "source": [
    "from random import randrange\n",
    "\n",
    "\n",
    "@Tombola.register\n",
    "class TomboList(list):\n",
    "\n",
    "    def pick(self):\n",
    "        cls = type(self)\n",
    "        if self:\n",
    "            position = randrange(len(self))\n",
    "            return self.pop(position)\n",
    "        else:\n",
    "            raise LookupError(f'pop from empty {cls.__name__}')\n",
    "\n",
    "    load = list.extend\n",
    "\n",
    "    def loaded(self):\n",
    "        return bool(self)\n",
    "\n",
    "    def inspect(self):\n",
    "        return tuple(sorted(self))\n",
    "\n",
    "\n",
    "# Tombola.register(TomboList)\n",
    "tl = TomboList([1, 2, 3])\n",
    "issubclass(TomboList, Tombola), isinstance(tl, Tombola)"
   ]
  },
  {
   "cell_type": "code",
   "execution_count": 9,
   "metadata": {},
   "outputs": [
    {
     "output_type": "stream",
     "name": "stdout",
     "text": [
      "**********************************************************************\nFile \"tombola_tests.rst\", line 10, in None\nFailed example:\n    globe = ConcreteTombola(balls)\nException raised:\n    Traceback (most recent call last):\n      File \"/usr/local/lib/python3.9/doctest.py\", line 1336, in __run\n        exec(compile(example.source, filename, \"single\",\n      File \"<doctest None[1]>\", line 1, in <module>\n    TypeError: Fake() takes no arguments\n**********************************************************************\n1 items had failures:\n  18 of  24 in None\n***Test Failed*** 18 failures.\nFake             24 tests, 18 failed - FAIL\nBingoCage        24 tests,  0 failed - OK\nLotteryBlower    24 tests,  0 failed - OK\nTomboList        24 tests,  0 failed - OK\n"
     ]
    }
   ],
   "source": [
    "\n",
    "TEST_FILE = 'tombola_tests.rst'\n",
    "TEST_MSG = '{0:16} {1.attempted:2} tests, {1.failed:2} failed - {2}'\n",
    "\n",
    "VERBOSE = False\n",
    "\n",
    "doctest_tmpl = ''\n",
    "\n",
    "with open(TEST_FILE) as f:\n",
    "    doctest_tmpl = f.read()\n",
    "\n",
    "\n",
    "def test(cls, verbose=False):\n",
    "    parser = doctest.DocTestParser()\n",
    "    test = parser.get_doctest(\n",
    "        doctest_tmpl,\n",
    "        globs={'ConcreteTombola': cls},\n",
    "        name=None,\n",
    "        filename=TEST_FILE,\n",
    "        lineno=0,\n",
    "    )\n",
    "    runner = doctest.DocTestRunner(\n",
    "        optionflags=doctest.REPORT_ONLY_FIRST_FAILURE\n",
    "    )\n",
    "    runner.run(test)\n",
    "    res = runner.summarize(verbose=verbose)\n",
    "    tag = 'FAIL' if res.failed else 'OK'\n",
    "    print(TEST_MSG.format(cls.__name__, res, tag))\n",
    "\n",
    "\n",
    "# concrete subclasses\n",
    "subclasses = Tombola.__subclasses__()\n",
    "\n",
    "# virtual subclasses\n",
    "_abc_registry = abc._get_dump(Tombola)[0]\n",
    "subclasses += list(wref() for wref in _abc_registry)\n",
    "\n",
    "for cls in subclasses:\n",
    "    test(cls, VERBOSE)"
   ]
  },
  {
   "cell_type": "code",
   "execution_count": null,
   "metadata": {},
   "outputs": [],
   "source": []
  }
 ]
}