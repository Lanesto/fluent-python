{
 "metadata": {
  "language_info": {
   "codemirror_mode": {
    "name": "ipython",
    "version": 3
   },
   "file_extension": ".py",
   "mimetype": "text/x-python",
   "name": "python",
   "nbconvert_exporter": "python",
   "pygments_lexer": "ipython3",
   "version": "3.9.1-final"
  },
  "orig_nbformat": 2,
  "kernelspec": {
   "name": "python3",
   "display_name": "Python 3",
   "language": "python"
  }
 },
 "nbformat": 4,
 "nbformat_minor": 2,
 "cells": [
  {
   "cell_type": "code",
   "execution_count": 1,
   "metadata": {},
   "outputs": [],
   "source": [
    "%load_ext pycodestyle_magic\n",
    "%pycodestyle_on"
   ]
  },
  {
   "cell_type": "code",
   "execution_count": 2,
   "metadata": {},
   "outputs": [],
   "source": [
    "import doctest"
   ]
  },
  {
   "cell_type": "code",
   "execution_count": 3,
   "metadata": {},
   "outputs": [
    {
     "output_type": "execute_result",
     "data": {
      "text/plain": [
       "TestResults(failed=0, attempted=5)"
      ]
     },
     "metadata": {},
     "execution_count": 3
    }
   ],
   "source": [
    "import itertools\n",
    "\n",
    "\n",
    "def vowel(c):\n",
    "    return c.lower() in 'aeiou'\n",
    "\n",
    "\n",
    "\"\"\"\n",
    "\n",
    ">>> s = 'Aardvark'\n",
    ">>> list(itertools.filterfalse(vowel, s))\n",
    "['r', 'd', 'v', 'r', 'k']\n",
    ">>> list(itertools.dropwhile(vowel, s))\n",
    "['r', 'd', 'v', 'a', 'r', 'k']\n",
    ">>> list(itertools.takewhile(vowel, s))\n",
    "['A', 'a']\n",
    ">>> list(itertools.islice(s, 1, 7, 2))\n",
    "['a', 'd', 'a']\n",
    "\"\"\"\n",
    "\n",
    "doctest.testmod()"
   ]
  },
  {
   "cell_type": "code",
   "execution_count": 4,
   "metadata": {},
   "outputs": [
    {
     "output_type": "execute_result",
     "data": {
      "text/plain": [
       "TestResults(failed=0, attempted=12)"
      ]
     },
     "metadata": {},
     "execution_count": 4
    }
   ],
   "source": [
    "import itertools\n",
    "import operator\n",
    "\n",
    "\n",
    "\"\"\"\n",
    "\n",
    ">>> sample = [5, 4, 2, 8, 7, 6, 3, 0, 9, 1]\n",
    ">>> list(itertools.accumulate(sample))\n",
    "[5, 9, 11, 19, 26, 32, 35, 35, 44, 45]\n",
    ">>> list(itertools.accumulate(sample, operator.mul))\n",
    "[5, 20, 40, 320, 2240, 13440, 40320, 0, 0, 0]\n",
    ">>> list(itertools.accumulate(range(11), operator.or_))\n",
    "[0, 1, 3, 3, 7, 7, 7, 7, 15, 15, 15]\n",
    ">>> s = 'albatroz'\n",
    ">>> list(itertools.starmap(operator.mul, enumerate(s, 1)))\n",
    "['a', 'll', 'bbb', 'aaaa', 'ttttt', 'rrrrrr', 'ooooooo', 'zzzzzzzz']\n",
    ">>> list(itertools.chain(enumerate('ABC')))\n",
    "[(0, 'A'), (1, 'B'), (2, 'C')]\n",
    ">>> list(itertools.chain.from_iterable(enumerate('ABC')))\n",
    "[0, 'A', 1, 'B', 2, 'C']\n",
    ">>> animals = ['duck', 'eagle', 'bear', 'lion', 'eagle', 'shark', 'giraffe', 'dolphin']\n",
    ">>> animals.sort(key=len)\n",
    ">>> for key, group in itertools.groupby(animals, key=len):\n",
    "...     print(key, '->', ' '.join(group))\n",
    "4 -> duck bear lion\n",
    "5 -> eagle eagle shark\n",
    "7 -> giraffe dolphin\n",
    ">>> for c, g in zip('ABC', itertools.tee('ABC', 3)):\n",
    "...     print(c, list(g))\n",
    "A ['A', 'B', 'C']\n",
    "B ['A', 'B', 'C']\n",
    "C ['A', 'B', 'C']\n",
    "\"\"\"  # noqa: E501\n",
    "\n",
    "doctest.testmod()"
   ]
  }
 ]
}