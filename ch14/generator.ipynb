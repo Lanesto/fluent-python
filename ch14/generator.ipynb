{
 "metadata": {
  "language_info": {
   "codemirror_mode": {
    "name": "ipython",
    "version": 3
   },
   "file_extension": ".py",
   "mimetype": "text/x-python",
   "name": "python",
   "nbconvert_exporter": "python",
   "pygments_lexer": "ipython3",
   "version": "3.9.1-final"
  },
  "orig_nbformat": 2,
  "kernelspec": {
   "name": "python3",
   "display_name": "Python 3",
   "language": "python"
  }
 },
 "nbformat": 4,
 "nbformat_minor": 2,
 "cells": [
  {
   "cell_type": "code",
   "execution_count": 1,
   "metadata": {},
   "outputs": [],
   "source": [
    "%load_ext pycodestyle_magic\n",
    "%pycodestyle_on"
   ]
  },
  {
   "cell_type": "code",
   "execution_count": 2,
   "metadata": {},
   "outputs": [],
   "source": [
    "import doctest"
   ]
  },
  {
   "cell_type": "code",
   "execution_count": 3,
   "metadata": {},
   "outputs": [
    {
     "output_type": "execute_result",
     "data": {
      "text/plain": [
       "TestResults(failed=0, attempted=7)"
      ]
     },
     "metadata": {},
     "execution_count": 3
    }
   ],
   "source": [
    "\"\"\"\n",
    "\n",
    ">>> def gen_123():\n",
    "...    yield 1\n",
    "...    yield 2\n",
    "...    yield 3\n",
    ">>> for i in gen_123():\n",
    "...     print(i)\n",
    "1\n",
    "2\n",
    "3\n",
    ">>> g = gen_123()\n",
    ">>> next(g)\n",
    "1\n",
    ">>> next(g)\n",
    "2\n",
    ">>> next(g)\n",
    "3\n",
    ">>> next(g)\n",
    "Traceback (most recent call last):\n",
    "    ...\n",
    "StopIteration\n",
    "\"\"\"\n",
    "\n",
    "doctest.testmod()"
   ]
  },
  {
   "cell_type": "code",
   "execution_count": 4,
   "metadata": {},
   "outputs": [
    {
     "output_type": "execute_result",
     "data": {
      "text/plain": [
       "TestResults(failed=0, attempted=6)"
      ]
     },
     "metadata": {},
     "execution_count": 4
    }
   ],
   "source": [
    "\"\"\"\n",
    "\n",
    ">>> def gen_AB():\n",
    "...     print('start')\n",
    "...     yield 'A'\n",
    "...     print('continue')\n",
    "...     yield 'B'\n",
    "...     print('end')\n",
    ">>> gen = gen_AB()\n",
    ">>> next(gen)\n",
    "start\n",
    "'A'\n",
    ">>> next(gen)\n",
    "continue\n",
    "'B'\n",
    ">>> try:\n",
    "...     next(gen)\n",
    "... except StopIteration:\n",
    "...     pass\n",
    "end\n",
    ">>> for c in gen_AB():\n",
    "...     print('->', c)\n",
    "start\n",
    "-> A\n",
    "continue\n",
    "-> B\n",
    "end\n",
    "\"\"\"\n",
    "\n",
    "doctest.testmod()"
   ]
  },
  {
   "cell_type": "code",
   "execution_count": 5,
   "metadata": {},
   "outputs": [
    {
     "output_type": "execute_result",
     "data": {
      "text/plain": [
       "TestResults(failed=0, attempted=3)"
      ]
     },
     "metadata": {},
     "execution_count": 5
    }
   ],
   "source": [
    "import re\n",
    "import reprlib\n",
    "\n",
    "re_word = re.compile(r'\\w+')\n",
    "\n",
    "\n",
    "class Sentence:\n",
    "\n",
    "    def __init__(self, text):\n",
    "        self.text = text\n",
    "\n",
    "    def __repr__(self):\n",
    "        cls = type(self)\n",
    "        return f'{cls.__name__}({reprlib.repr(self.text)})'\n",
    "\n",
    "    def __iter__(self):\n",
    "        # for m in re_word.finditer(self.text):\n",
    "        #     yield m.group()\n",
    "        return (m.group() for m in re_word.finditer(self.text))\n",
    "\n",
    "\n",
    "\"\"\"\n",
    "\n",
    ">>> text = '\"<generator object <genexpr> at 0x10063c240>\"'\n",
    ">>> upper = (s.upper() for s in Sentence(text))\n",
    ">>> for s in upper:\n",
    "...     print(s)\n",
    "GENERATOR\n",
    "OBJECT\n",
    "GENEXPR\n",
    "AT\n",
    "0X10063C240\n",
    "\"\"\"\n",
    "\n",
    "doctest.testmod()"
   ]
  },
  {
   "cell_type": "code",
   "execution_count": 6,
   "metadata": {},
   "outputs": [
    {
     "output_type": "execute_result",
     "data": {
      "text/plain": [
       "TestResults(failed=0, attempted=12)"
      ]
     },
     "metadata": {},
     "execution_count": 6
    }
   ],
   "source": [
    "class ArithmeticProgression:\n",
    "\n",
    "    def __init__(self, begin, step, end=None):\n",
    "        self.begin = begin\n",
    "        self.step = step\n",
    "        self.end = end\n",
    "\n",
    "    def __iter__(self):\n",
    "        result = type(self.begin + self.step)(self.begin)\n",
    "        forever = self.end is None\n",
    "        # index = 0\n",
    "        while forever or result < self.end:\n",
    "            yield result\n",
    "            # index += 1\n",
    "            # result = self.begin + self.step * index\n",
    "            result += self.step\n",
    "\n",
    "\n",
    "\"\"\"\n",
    "\n",
    ">>> ap = ArithmeticProgression(0, 1, 3)\n",
    ">>> list(ap)\n",
    "[0, 1, 2]\n",
    ">>> ap = ArithmeticProgression(1, .5, 3)\n",
    ">>> list(ap)\n",
    "[1.0, 1.5, 2.0, 2.5]\n",
    ">>> ap = ArithmeticProgression(0, 1/3, 1)\n",
    ">>> list(ap)\n",
    "[0.0, 0.3333333333333333, 0.6666666666666666]\n",
    ">>> from fractions import Fraction\n",
    ">>> ap = ArithmeticProgression(0, Fraction(1, 3), 1)\n",
    ">>> list(ap)\n",
    "[Fraction(0, 1), Fraction(1, 3), Fraction(2, 3)]\n",
    ">>> from decimal import Decimal\n",
    ">>> ap = ArithmeticProgression(0, Decimal('0.1'), 1)\n",
    ">>> list(ap)  # doctest: +NORMALIZE_WHITESPACE\n",
    "[Decimal('0'), Decimal('0.1'), Decimal('0.2'), Decimal('0.3'),\n",
    " Decimal('0.4'), Decimal('0.5'), Decimal('0.6'), Decimal('0.7'),\n",
    " Decimal('0.8'), Decimal('0.9')]\n",
    "\"\"\"\n",
    "\n",
    "doctest.testmod()"
   ]
  },
  {
   "cell_type": "code",
   "execution_count": 7,
   "metadata": {},
   "outputs": [
    {
     "output_type": "execute_result",
     "data": {
      "text/plain": [
       "TestResults(failed=0, attempted=4)"
      ]
     },
     "metadata": {},
     "execution_count": 7
    }
   ],
   "source": [
    "import itertools\n",
    "\n",
    "\"\"\"\n",
    "\n",
    ">>> from fractions import Fraction\n",
    ">>> seq = itertools.count(1, Fraction(2, 3))\n",
    ">>> seq = itertools.takewhile(lambda x: x < 5, seq)\n",
    ">>> for e in seq:\n",
    "...     print(e)\n",
    "1\n",
    "5/3\n",
    "7/3\n",
    "3\n",
    "11/3\n",
    "13/3\n",
    "\"\"\"\n",
    "\n",
    "doctest.testmod()"
   ]
  },
  {
   "cell_type": "code",
   "execution_count": 8,
   "metadata": {},
   "outputs": [
    {
     "output_type": "execute_result",
     "data": {
      "text/plain": [
       "TestResults(failed=0, attempted=3)"
      ]
     },
     "metadata": {},
     "execution_count": 8
    }
   ],
   "source": [
    "import itertools\n",
    "\n",
    "\n",
    "def artiprog_gen(begin, step, end=None):\n",
    "    ap_gen = itertools.count(begin, step)\n",
    "    if end is not None:\n",
    "        ap_gen = itertools.takewhile(lambda x: x < end, ap_gen)\n",
    "\n",
    "    yield from ap_gen\n",
    "\n",
    "\n",
    "\"\"\"\n",
    "\n",
    ">>> from fractions import Fraction\n",
    ">>> seq = artiprog_gen(1, Fraction(2, 3), 5)\n",
    ">>> for e in seq:\n",
    "...     print(type(e), e)\n",
    "<class 'int'> 1\n",
    "<class 'fractions.Fraction'> 5/3\n",
    "<class 'fractions.Fraction'> 7/3\n",
    "<class 'fractions.Fraction'> 3\n",
    "<class 'fractions.Fraction'> 11/3\n",
    "<class 'fractions.Fraction'> 13/3\n",
    "\"\"\"\n",
    "\n",
    "doctest.testmod()"
   ]
  }
 ]
}