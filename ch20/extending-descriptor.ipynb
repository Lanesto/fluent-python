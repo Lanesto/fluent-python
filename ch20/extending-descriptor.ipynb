{
 "metadata": {
  "language_info": {
   "codemirror_mode": {
    "name": "ipython",
    "version": 3
   },
   "file_extension": ".py",
   "mimetype": "text/x-python",
   "name": "python",
   "nbconvert_exporter": "python",
   "pygments_lexer": "ipython3",
   "version": "3.9.1-final"
  },
  "orig_nbformat": 2,
  "kernelspec": {
   "name": "python3",
   "display_name": "Python 3",
   "language": "python"
  }
 },
 "nbformat": 4,
 "nbformat_minor": 2,
 "cells": [
  {
   "cell_type": "code",
   "execution_count": 1,
   "metadata": {},
   "outputs": [],
   "source": [
    "%load_ext pycodestyle_magic\n",
    "%pycodestyle_on"
   ]
  },
  {
   "cell_type": "code",
   "execution_count": 2,
   "metadata": {},
   "outputs": [],
   "source": [
    "import doctest"
   ]
  },
  {
   "cell_type": "code",
   "execution_count": 3,
   "metadata": {},
   "outputs": [
    {
     "output_type": "execute_result",
     "data": {
      "text/plain": [
       "TestResults(failed=0, attempted=6)"
      ]
     },
     "metadata": {},
     "execution_count": 3
    }
   ],
   "source": [
    "import abc\n",
    "\n",
    "\n",
    "class AutoStorage:\n",
    "    __counter = 0\n",
    "\n",
    "    def __init__(self):\n",
    "        cls = self.__class__\n",
    "        prefix = cls.__name__\n",
    "        index = cls.__counter\n",
    "        self.storage_name = f'_{prefix}#{index}'\n",
    "        cls.__counter += 1\n",
    "\n",
    "    def __get__(self, obj, objtype):\n",
    "        if obj is None:\n",
    "            return self\n",
    "        else:\n",
    "            return getattr(obj, self.storage_name)\n",
    "\n",
    "    def __set__(self, obj, value):\n",
    "        setattr(obj, self.storage_name, value)\n",
    "\n",
    "\n",
    "class Validated(AutoStorage):\n",
    "    def __set__(self, obj, value):\n",
    "        value = self.validate(obj, value)\n",
    "        super().__set__(obj, value)\n",
    "\n",
    "    @abc.abstractmethod\n",
    "    def validate(self, obj, value):\n",
    "        pass\n",
    "\n",
    "\n",
    "class Quantity(Validated):\n",
    "    def validate(self, obj, value):\n",
    "        if value > 0:\n",
    "            return value\n",
    "\n",
    "        raise ValueError('value must be > 0')\n",
    "\n",
    "\n",
    "class NonBlank(Validated):\n",
    "    def validate(self, obj, value):\n",
    "        value = value.strip()\n",
    "        if len(value) > 0:\n",
    "            return value\n",
    "\n",
    "        raise ValueError('value cannot be empty or blank')\n",
    "\n",
    "\n",
    "class LineItem:\n",
    "    description = NonBlank()\n",
    "    weight = Quantity()\n",
    "    price = Quantity()\n",
    "\n",
    "    def __init__(self, description, weight, price):\n",
    "        self.description = description\n",
    "        self.weight = weight\n",
    "        self.price = price\n",
    "\n",
    "    def subtotal(self):\n",
    "        return self.weight * self.price\n",
    "\n",
    "\n",
    "\"\"\"\n",
    "\n",
    ">>> br_nuts = LineItem('Brazil nuts', 10, 34.95)\n",
    ">>> br_nuts.subtotal()\n",
    "349.5\n",
    ">>> vars(br_nuts)\n",
    "{'_NonBlank#0': 'Brazil nuts', '_Quantity#0': 10, '_Quantity#1': 34.95}\n",
    ">>> LineItem.price  # doctest: +ELLIPSIS\n",
    "<__main__.Quantity object at ...>\n",
    ">>> br_nuts.price = -3\n",
    "Traceback (most recent call last):\n",
    "    ...\n",
    "ValueError: value must be > 0\n",
    ">>> br_nuts.description = '  '\n",
    "Traceback (most recent call last):\n",
    "    ...\n",
    "ValueError: value cannot be empty or blank\n",
    "\"\"\"\n",
    "\n",
    "doctest.testmod()"
   ]
  }
 ]
}