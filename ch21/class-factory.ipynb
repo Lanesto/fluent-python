{
 "metadata": {
  "language_info": {
   "codemirror_mode": {
    "name": "ipython",
    "version": 3
   },
   "file_extension": ".py",
   "mimetype": "text/x-python",
   "name": "python",
   "nbconvert_exporter": "python",
   "pygments_lexer": "ipython3",
   "version": "3.9.1-final"
  },
  "orig_nbformat": 2,
  "kernelspec": {
   "name": "python3",
   "display_name": "Python 3",
   "language": "python"
  }
 },
 "nbformat": 4,
 "nbformat_minor": 2,
 "cells": [
  {
   "cell_type": "code",
   "execution_count": 1,
   "metadata": {},
   "outputs": [],
   "source": [
    "%load_ext pycodestyle_magic\n",
    "%pycodestyle_on"
   ]
  },
  {
   "cell_type": "code",
   "execution_count": 2,
   "metadata": {},
   "outputs": [],
   "source": [
    "import doctest"
   ]
  },
  {
   "cell_type": "code",
   "execution_count": 3,
   "metadata": {},
   "outputs": [
    {
     "output_type": "execute_result",
     "data": {
      "text/plain": [
       "TestResults(failed=0, attempted=9)"
      ]
     },
     "metadata": {},
     "execution_count": 3
    }
   ],
   "source": [
    "def record_factory(cls_name, field_names):\n",
    "    try:\n",
    "        field_names = field_names.replace(',', ' ').split()\n",
    "    except AttributeError:\n",
    "        pass\n",
    "\n",
    "    field_names = tuple(field_names)\n",
    "\n",
    "    def __init__(self, *args, **kwargs):\n",
    "        attrs = dict(zip(self.__slots__, args))\n",
    "        attrs.update(kwargs)\n",
    "        for name, value in attrs.items():\n",
    "            setattr(self, name, value)\n",
    "\n",
    "    def __iter__(self):\n",
    "        for name in self.__slots__:\n",
    "            yield getattr(self, name)\n",
    "\n",
    "    def __repr__(self):\n",
    "        cls_name = self.__class__.__name__\n",
    "        values = ', '.join(f'{name}={value!r}' for name, value in\n",
    "                           zip(self.__slots__, self))\n",
    "        return f'{cls_name}({values})'\n",
    "\n",
    "    cls_attrs = {\n",
    "        '__slots__': field_names,\n",
    "        '__init__': __init__,\n",
    "        '__iter__': __iter__,\n",
    "        '__repr__': __repr__\n",
    "    }\n",
    "\n",
    "    return type(cls_name, (object, ), cls_attrs)\n",
    "\n",
    "\n",
    "\"\"\"\n",
    "\n",
    ">>> Dog = record_factory('Dog', 'name weight owner')\n",
    ">>> rex = Dog('Rex', 30, 'Bob')\n",
    ">>> rex\n",
    "Dog(name='Rex', weight=30, owner='Bob')\n",
    ">>> name, weight, _ = rex\n",
    ">>> name, weight\n",
    "('Rex', 30)\n",
    ">>> \"{2}'s dog weighs {1}kg\".format(*rex)\n",
    "\"Bob's dog weighs 30kg\"\n",
    ">>> rex.weight = 32\n",
    ">>> rex\n",
    "Dog(name='Rex', weight=32, owner='Bob')\n",
    ">>> Dog.__mro__\n",
    "(<class '__main__.Dog'>, <class 'object'>)\n",
    "\"\"\"\n",
    "\n",
    "doctest.testmod()"
   ]
  }
 ]
}