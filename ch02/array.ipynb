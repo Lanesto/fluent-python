{
 "metadata": {
  "language_info": {
   "codemirror_mode": {
    "name": "ipython",
    "version": 3
   },
   "file_extension": ".py",
   "mimetype": "text/x-python",
   "name": "python",
   "nbconvert_exporter": "python",
   "pygments_lexer": "ipython3",
   "version": "3.9.1-final"
  },
  "orig_nbformat": 2,
  "kernelspec": {
   "name": "python3",
   "display_name": "Python 3",
   "language": "python"
  }
 },
 "nbformat": 4,
 "nbformat_minor": 2,
 "cells": [
  {
   "cell_type": "code",
   "execution_count": 1,
   "metadata": {},
   "outputs": [
    {
     "output_type": "stream",
     "name": "stdout",
     "text": [
      "Requirement already satisfied: numpy in /usr/local/lib/python3.9/site-packages (1.19.4)\n"
     ]
    }
   ],
   "source": [
    "!pip install numpy\n",
    "\n",
    "%load_ext pycodestyle_magic\n",
    "%pycodestyle_on"
   ]
  },
  {
   "cell_type": "code",
   "execution_count": 2,
   "metadata": {},
   "outputs": [
    {
     "output_type": "stream",
     "name": "stdout",
     "text": [
      "0.09531075916147214\n0.09531075916147214\n"
     ]
    }
   ],
   "source": [
    "import os\n",
    "from array import array\n",
    "from random import random\n",
    "\n",
    "with open('floats.bin', 'wb') as fp:\n",
    "    floats = array('d', (random() for i in range(10 ** 7)))\n",
    "    floats.tofile(fp)\n",
    "\n",
    "with open('floats.bin', 'rb') as fp:\n",
    "    floats2 = array('d')\n",
    "    floats2.fromfile(fp, 10 ** 7)\n",
    "\n",
    "os.remove('floats.bin')\n",
    "\n",
    "print(floats[-1], floats2[-1], sep='\\n')"
   ]
  },
  {
   "cell_type": "code",
   "execution_count": 7,
   "metadata": {},
   "outputs": [],
   "source": []
  }
 ]
}