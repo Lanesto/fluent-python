{
 "metadata": {
  "language_info": {
   "codemirror_mode": {
    "name": "ipython",
    "version": 3
   },
   "file_extension": ".py",
   "mimetype": "text/x-python",
   "name": "python",
   "nbconvert_exporter": "python",
   "pygments_lexer": "ipython3",
   "version": "3.9.1-final"
  },
  "orig_nbformat": 2,
  "kernelspec": {
   "name": "python3",
   "display_name": "Python 3",
   "language": "python"
  }
 },
 "nbformat": 4,
 "nbformat_minor": 2,
 "cells": [
  {
   "cell_type": "code",
   "execution_count": 1,
   "metadata": {},
   "outputs": [],
   "source": [
    "%load_ext pycodestyle_magic\n",
    "%pycodestyle_on"
   ]
  },
  {
   "cell_type": "code",
   "execution_count": 2,
   "metadata": {},
   "outputs": [],
   "source": [
    "import doctest"
   ]
  },
  {
   "cell_type": "code",
   "execution_count": 3,
   "metadata": {},
   "outputs": [
    {
     "output_type": "stream",
     "name": "stdout",
     "text": [
      "**********************************************************************\nFile \"__main__\", line 5, in __main__\nFailed example:\n    id(l)\nExpected nothing\nGot:\n    139986717430592\n**********************************************************************\nFile \"__main__\", line 10, in __main__\nFailed example:\n    id(l)\nExpected nothing\nGot:\n    139986717430592\n**********************************************************************\nFile \"__main__\", line 13, in __main__\nFailed example:\n    id(t)\nExpected nothing\nGot:\n    139986446240064\n**********************************************************************\nFile \"__main__\", line 16, in __main__\nFailed example:\n    id(t)\nExpected nothing\nGot:\n    139986446825600\n**********************************************************************\n1 items had failures:\n   4 of   9 in __main__\n***Test Failed*** 4 failures.\n"
     ]
    },
    {
     "output_type": "execute_result",
     "data": {
      "text/plain": [
       "TestResults(failed=4, attempted=9)"
      ]
     },
     "metadata": {},
     "execution_count": 3
    }
   ],
   "source": [
    "\"\"\"\n",
    "\n",
    ">>> l = [1, 2, 3]\n",
    ">>> id(l)\n",
    "...\n",
    ">>> l *= 2\n",
    ">>> l\n",
    "[1, 2, 3, 1, 2, 3]\n",
    ">>> id(l)\n",
    "...\n",
    ">>> t = (1, 2, 3)\n",
    ">>> id(t)\n",
    "...\n",
    ">>> t *= 2\n",
    ">>> id(t)\n",
    "...\n",
    "\"\"\"\n",
    "\n",
    "doctest.testmod()"
   ]
  },
  {
   "cell_type": "code",
   "execution_count": 4,
   "metadata": {},
   "outputs": [
    {
     "output_type": "execute_result",
     "data": {
      "text/plain": [
       "TestResults(failed=0, attempted=3)"
      ]
     },
     "metadata": {},
     "execution_count": 4
    }
   ],
   "source": [
    "\"\"\"\n",
    "\n",
    ">>> t = (1, 2, [30, 40])\n",
    ">>> t[2] += [50, 60]\n",
    "Traceback (most recent call last):\n",
    "    ...\n",
    "TypeError: 'tuple' object does not support item assignment\n",
    ">>> t\n",
    "(1, 2, [30, 40, 50, 60])\n",
    "\"\"\"\n",
    "\n",
    "doctest.testmod()"
   ]
  },
  {
   "cell_type": "code",
   "execution_count": 5,
   "metadata": {},
   "outputs": [
    {
     "output_type": "stream",
     "name": "stdout",
     "text": [
      "  1           0 LOAD_NAME                0 (s)\n              2 LOAD_NAME                1 (a)\n              4 DUP_TOP_TWO\n              6 BINARY_SUBSCR\n              8 LOAD_NAME                2 (b)\n             10 INPLACE_ADD\n             12 ROT_THREE\n             14 STORE_SUBSCR\n             16 LOAD_CONST               0 (None)\n             18 RETURN_VALUE\n"
     ]
    }
   ],
   "source": [
    "import dis\n",
    "\n",
    "a = 0\n",
    "b = 3\n",
    "s = [1, 2]\n",
    "dis.dis('s[a] += b')"
   ]
  },
  {
   "cell_type": "code",
   "execution_count": null,
   "metadata": {},
   "outputs": [],
   "source": []
  }
 ]
}