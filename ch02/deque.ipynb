{
 "metadata": {
  "language_info": {
   "codemirror_mode": {
    "name": "ipython",
    "version": 3
   },
   "file_extension": ".py",
   "mimetype": "text/x-python",
   "name": "python",
   "nbconvert_exporter": "python",
   "pygments_lexer": "ipython3",
   "version": "3.9.1-final"
  },
  "orig_nbformat": 2,
  "kernelspec": {
   "name": "python3",
   "display_name": "Python 3",
   "language": "python"
  }
 },
 "nbformat": 4,
 "nbformat_minor": 2,
 "cells": [
  {
   "cell_type": "code",
   "execution_count": 1,
   "metadata": {},
   "outputs": [],
   "source": [
    "%load_ext pycodestyle_magic\n",
    "%pycodestyle_on"
   ]
  },
  {
   "cell_type": "code",
   "execution_count": 3,
   "metadata": {},
   "outputs": [
    {
     "output_type": "stream",
     "name": "stdout",
     "text": [
      "deque([0, 1, 2, 3, 4, 5, 6, 7, 8, 9], maxlen=10)\ndeque([7, 8, 9, 0, 1, 2, 3, 4, 5, 6], maxlen=10)\ndeque([1, 2, 3, 4, 5, 6, 7, 8, 9, 0], maxlen=10)\ndeque([-1, 1, 2, 3, 4, 5, 6, 7, 8, 9], maxlen=10)\ndeque([1, 2, 3, 4, 5, 6, 7, 8, 9, -2], maxlen=10)\ndeque([4, 5, 6, 7, 8, 9, -2, 11, 22, 33], maxlen=10)\ndeque([40, 30, 20, 10, 4, 5, 6, 7, 8, 9], maxlen=10)\n"
     ]
    }
   ],
   "source": [
    "from collections import deque\n",
    "\n",
    "dq = deque(range(10), maxlen=10)\n",
    "print(dq)\n",
    "\n",
    "dq.rotate(3)\n",
    "print(dq)\n",
    "\n",
    "dq.rotate(-4)\n",
    "print(dq)\n",
    "\n",
    "dq.appendleft(-1)\n",
    "print(dq)\n",
    "\n",
    "dq.append(-2)\n",
    "print(dq)\n",
    "\n",
    "dq.extend([11, 22, 33])\n",
    "print(dq)\n",
    "\n",
    "dq.extendleft([10, 20, 30, 40])\n",
    "print(dq)"
   ]
  },
  {
   "cell_type": "code",
   "execution_count": null,
   "metadata": {},
   "outputs": [],
   "source": []
  }
 ]
}