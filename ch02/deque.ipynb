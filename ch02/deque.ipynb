{
 "metadata": {
  "language_info": {
   "codemirror_mode": {
    "name": "ipython",
    "version": 3
   },
   "file_extension": ".py",
   "mimetype": "text/x-python",
   "name": "python",
   "nbconvert_exporter": "python",
   "pygments_lexer": "ipython3",
   "version": "3.9.1-final"
  },
  "orig_nbformat": 2,
  "kernelspec": {
   "name": "python3",
   "display_name": "Python 3",
   "language": "python"
  }
 },
 "nbformat": 4,
 "nbformat_minor": 2,
 "cells": [
  {
   "cell_type": "code",
   "execution_count": 1,
   "metadata": {},
   "outputs": [],
   "source": [
    "%load_ext pycodestyle_magic\n",
    "%pycodestyle_on"
   ]
  },
  {
   "cell_type": "code",
   "execution_count": 2,
   "metadata": {},
   "outputs": [],
   "source": [
    "import doctest"
   ]
  },
  {
   "cell_type": "code",
   "execution_count": 3,
   "metadata": {},
   "outputs": [
    {
     "output_type": "execute_result",
     "data": {
      "text/plain": [
       "TestResults(failed=0, attempted=14)"
      ]
     },
     "metadata": {},
     "execution_count": 3
    }
   ],
   "source": [
    "from collections import deque\n",
    "\n",
    "\"\"\"\n",
    "\n",
    ">>> dq = deque(range(10), maxlen=10)\n",
    ">>> dq\n",
    "deque([0, 1, 2, 3, 4, 5, 6, 7, 8, 9], maxlen=10)\n",
    ">>> dq.rotate(3)\n",
    ">>> dq\n",
    "deque([7, 8, 9, 0, 1, 2, 3, 4, 5, 6], maxlen=10)\n",
    ">>> dq.rotate(-4)\n",
    ">>> dq\n",
    "deque([1, 2, 3, 4, 5, 6, 7, 8, 9, 0], maxlen=10)\n",
    ">>> dq.appendleft(-1)\n",
    ">>> dq\n",
    "deque([-1, 1, 2, 3, 4, 5, 6, 7, 8, 9], maxlen=10)\n",
    ">>> dq.append(-2)\n",
    ">>> dq\n",
    "deque([1, 2, 3, 4, 5, 6, 7, 8, 9, -2], maxlen=10)\n",
    ">>> dq.extend([11, 22, 33])\n",
    ">>> dq\n",
    "deque([4, 5, 6, 7, 8, 9, -2, 11, 22, 33], maxlen=10)\n",
    ">>> dq.extendleft([10, 20, 30, 40])\n",
    ">>> dq\n",
    "deque([40, 30, 20, 10, 4, 5, 6, 7, 8, 9], maxlen=10)\n",
    "\"\"\"\n",
    "\n",
    "doctest.testmod()"
   ]
  },
  {
   "cell_type": "code",
   "execution_count": null,
   "metadata": {},
   "outputs": [],
   "source": []
  }
 ]
}