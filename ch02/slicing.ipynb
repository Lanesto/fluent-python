{
 "metadata": {
  "language_info": {
   "codemirror_mode": {
    "name": "ipython",
    "version": 3
   },
   "file_extension": ".py",
   "mimetype": "text/x-python",
   "name": "python",
   "nbconvert_exporter": "python",
   "pygments_lexer": "ipython3",
   "version": "3.9.1-final"
  },
  "orig_nbformat": 2,
  "kernelspec": {
   "name": "python3",
   "display_name": "Python 3",
   "language": "python"
  }
 },
 "nbformat": 4,
 "nbformat_minor": 2,
 "cells": [
  {
   "cell_type": "code",
   "execution_count": 1,
   "metadata": {},
   "outputs": [],
   "source": [
    "%load_ext pycodestyle_magic\n",
    "%pycodestyle_on"
   ]
  },
  {
   "cell_type": "code",
   "execution_count": 2,
   "metadata": {},
   "outputs": [],
   "source": [
    "import doctest"
   ]
  },
  {
   "cell_type": "code",
   "execution_count": 3,
   "metadata": {},
   "outputs": [
    {
     "output_type": "execute_result",
     "data": {
      "text/plain": [
       "TestResults(failed=0, attempted=9)"
      ]
     },
     "metadata": {},
     "execution_count": 3
    }
   ],
   "source": [
    "\"\"\"\n",
    "\n",
    ">>> l = [10, 20, 30, 40, 50, 60]\n",
    ">>> l[:2]\n",
    "[10, 20]\n",
    ">>> l[2:]\n",
    "[30, 40, 50, 60]\n",
    ">>> l[:3]\n",
    "[10, 20, 30]\n",
    ">>> l[3:]\n",
    "[40, 50, 60]\n",
    "\n",
    ">>> s = 'bicycle'\n",
    ">>> s[::3]\n",
    "'bye'\n",
    ">>> s[::-1]\n",
    "'elcycib'\n",
    ">>> s[::-2]\n",
    "'eccb'\n",
    "\"\"\"\n",
    "\n",
    "doctest.testmod()"
   ]
  },
  {
   "cell_type": "code",
   "execution_count": 4,
   "metadata": {},
   "outputs": [
    {
     "output_type": "stream",
     "name": "stdout",
     "text": [
      "1909 $52.50 ($17.50 * 3) Pimoroni PiBrella\n1489 $9.90 ($4.95 * 2) 6mm Tactile Switch x20\n1510 $28.00 ($28.00 * 1) Panavise Jr. - PV-201\n1601 $34.95 ($34.95 * 1) PiTFT Mini Kit 320x240\n"
     ]
    }
   ],
   "source": [
    "invoice = \"\"\"\n",
    "0.....6.................................40..........52...55........EOL\n",
    "1909  Pimoroni PiBrella                     $17.50    3    $52.50\n",
    "1489  6mm Tactile Switch x20                 $4.95    2     $9.90\n",
    "1510  Panavise Jr. - PV-201                 $28.00    1    $28.00\n",
    "1601  PiTFT Mini Kit 320x240                $34.95    1    $34.95\n",
    "\"\"\"\n",
    "\n",
    "SKU = slice(0, 6)\n",
    "DESCRIPTION = slice(6, 40)\n",
    "UNIT_PRICE = slice(40, 52)\n",
    "QUANTITY = slice(52, 55)\n",
    "ITEM_TOTAL = slice(55, None)\n",
    "\n",
    "line_items = invoice.split('\\n')[2:-1]\n",
    "for item in line_items:\n",
    "    print(f'{item[SKU].strip()} {item[ITEM_TOTAL].strip()} ({item[UNIT_PRICE].strip()} * {item[QUANTITY].strip()}) {item[DESCRIPTION].strip()}')  # noqa: E501"
   ]
  },
  {
   "cell_type": "code",
   "execution_count": 5,
   "metadata": {},
   "outputs": [
    {
     "output_type": "execute_result",
     "data": {
      "text/plain": [
       "TestResults(failed=0, attempted=11)"
      ]
     },
     "metadata": {},
     "execution_count": 5
    }
   ],
   "source": [
    "\"\"\"\n",
    "\n",
    ">>> l = list(range(10))\n",
    ">>> l\n",
    "[0, 1, 2, 3, 4, 5, 6, 7, 8, 9]\n",
    ">>> l[2:5] = (20, 30)\n",
    ">>> l\n",
    "[0, 1, 20, 30, 5, 6, 7, 8, 9]\n",
    ">>> del l[5:7]\n",
    ">>> l\n",
    "[0, 1, 20, 30, 5, 8, 9]\n",
    ">>> l[3::2] = [11, 22]\n",
    ">>> l\n",
    "[0, 1, 20, 11, 5, 22, 9]\n",
    ">>> l[2:5] = 100\n",
    "Traceback (most recent call last):\n",
    "    ...\n",
    "TypeError: can only assign an iterable\n",
    ">>> l[2:5] = [100]\n",
    ">>> l\n",
    "[0, 1, 100, 22, 9]\n",
    "\"\"\"\n",
    "\n",
    "doctest.testmod()"
   ]
  },
  {
   "cell_type": "code",
   "execution_count": 6,
   "metadata": {},
   "outputs": [
    {
     "output_type": "execute_result",
     "data": {
      "text/plain": [
       "TestResults(failed=0, attempted=3)"
      ]
     },
     "metadata": {},
     "execution_count": 6
    }
   ],
   "source": [
    "\"\"\"\n",
    "\n",
    ">>> l = [1, 2, 3]\n",
    ">>> l * 5\n",
    "[1, 2, 3, 1, 2, 3, 1, 2, 3, 1, 2, 3, 1, 2, 3]\n",
    ">>> 5 * 'abcd'\n",
    "'abcdabcdabcdabcdabcd'\n",
    "\"\"\"\n",
    "\n",
    "doctest.testmod()"
   ]
  },
  {
   "cell_type": "code",
   "execution_count": 7,
   "metadata": {},
   "outputs": [
    {
     "output_type": "execute_result",
     "data": {
      "text/plain": [
       "TestResults(failed=0, attempted=8)"
      ]
     },
     "metadata": {},
     "execution_count": 7
    }
   ],
   "source": [
    "\"\"\"\n",
    "\n",
    ">>> board = [['_'] * 3 for i in range(3)]\n",
    ">>> board\n",
    "[['_', '_', '_'], ['_', '_', '_'], ['_', '_', '_']]\n",
    ">>> board[1][2] = 'X'\n",
    ">>> board\n",
    "[['_', '_', '_'], ['_', '_', 'X'], ['_', '_', '_']]\n",
    ">>> weird_board = [['_'] * 3] * 3\n",
    ">>> weird_board\n",
    "[['_', '_', '_'], ['_', '_', '_'], ['_', '_', '_']]\n",
    ">>> weird_board[1][2] = 'O'\n",
    ">>> weird_board\n",
    "[['_', '_', 'O'], ['_', '_', 'O'], ['_', '_', 'O']]\n",
    "\"\"\"\n",
    "\n",
    "doctest.testmod()"
   ]
  },
  {
   "cell_type": "code",
   "execution_count": null,
   "metadata": {},
   "outputs": [],
   "source": []
  }
 ]
}