{
 "metadata": {
  "language_info": {
   "codemirror_mode": {
    "name": "ipython",
    "version": 3
   },
   "file_extension": ".py",
   "mimetype": "text/x-python",
   "name": "python",
   "nbconvert_exporter": "python",
   "pygments_lexer": "ipython3",
   "version": "3.9.1-final"
  },
  "orig_nbformat": 2,
  "kernelspec": {
   "name": "python3",
   "display_name": "Python 3",
   "language": "python"
  }
 },
 "nbformat": 4,
 "nbformat_minor": 2,
 "cells": [
  {
   "cell_type": "code",
   "execution_count": 1,
   "metadata": {},
   "outputs": [],
   "source": [
    "%load_ext pycodestyle_magic\n",
    "%pycodestyle_on"
   ]
  },
  {
   "cell_type": "code",
   "execution_count": 2,
   "metadata": {},
   "outputs": [
    {
     "output_type": "stream",
     "name": "stderr",
     "text": [
      "1:1: E741 ambiguous variable name 'l'\n",
      "[10, 20]\n",
      "[30, 40, 50, 60]\n",
      "[20, 40, 60]\n"
     ]
    }
   ],
   "source": [
    "l = [10, 20, 30, 40, 50, 60]\n",
    "print(\n",
    "    l[:2],\n",
    "    l[2:],\n",
    "    l[1::2],\n",
    "    sep='\\n'\n",
    ")"
   ]
  },
  {
   "cell_type": "code",
   "execution_count": 3,
   "metadata": {},
   "outputs": [
    {
     "output_type": "stream",
     "name": "stdout",
     "text": [
      "1909       $52.50 (    $17.50   *   3) Pimoroni PiBrella                 \n1489        $9.90 (     $4.95   *   2) 6mm Tactile Switch x20            \n1510       $28.00 (    $28.00   *   1) Panavise Jr. - PV-201             \n1601       $34.95 (    $34.95   *   1) PiTFT Mini Kit 320x240            \n"
     ]
    }
   ],
   "source": [
    "invoice = \"\"\"\n",
    "0.....6.................................40..........52...55........EOL\n",
    "1909  Pimoroni PiBrella                     $17.50    3    $52.50\n",
    "1489  6mm Tactile Switch x20                 $4.95    2     $9.90\n",
    "1510  Panavise Jr. - PV-201                 $28.00    1    $28.00\n",
    "1601  PiTFT Mini Kit 320x240                $34.95    1    $34.95\n",
    "\"\"\"\n",
    "\n",
    "SKU = slice(0, 6)\n",
    "DESCRIPTION = slice(6, 40)\n",
    "UNIT_PRICE = slice(40, 52)\n",
    "QUANTITY = slice(52, 55)\n",
    "ITEM_TOTAL = slice(55, None)\n",
    "\n",
    "line_items = invoice.split('\\n')[2:-1]\n",
    "for item in line_items:\n",
    "    print(f'{item[SKU]} {item[ITEM_TOTAL]} ({item[UNIT_PRICE]} * {item[QUANTITY]}) {item[DESCRIPTION]}')  # noqa: E501"
   ]
  },
  {
   "cell_type": "code",
   "execution_count": 4,
   "metadata": {},
   "outputs": [
    {
     "output_type": "stream",
     "name": "stderr",
     "text": [
      "1:1: E741 ambiguous variable name 'l'\n",
      "[0, 1, 20, 30, 4, 8, 9]\n"
     ]
    }
   ],
   "source": [
    "l = list(range(10))\n",
    "\n",
    "l[2:4] = (20, 30)\n",
    "del l[5:8]\n",
    "print(l)"
   ]
  },
  {
   "cell_type": "code",
   "execution_count": 5,
   "metadata": {},
   "outputs": [
    {
     "output_type": "stream",
     "name": "stdout",
     "text": [
      "['_', '_', '_']\n['_', '_', '_']\n['_', '_', '_']\n\n['_', '_', '_']\n['_', '_', 'X']\n['_', '_', '_']\n\n['_', '_', '_']\n['_', '_', '_']\n['_', '_', '_']\n\n['_', '_', 'O']\n['_', '_', 'O']\n['_', '_', 'O']\n"
     ]
    }
   ],
   "source": [
    "board = [['_'] * 3 for i in range(3)]\n",
    "print(*board, sep='\\n')\n",
    "\n",
    "print()\n",
    "\n",
    "board[1][2] = 'X'\n",
    "print(*board, sep='\\n')\n",
    "\n",
    "print()\n",
    "\n",
    "weird_board = [['_'] * 3] * 3\n",
    "print(*weird_board, sep='\\n')\n",
    "\n",
    "print()\n",
    "\n",
    "weird_board[1][2] = 'O'\n",
    "print(*weird_board, sep='\\n')"
   ]
  },
  {
   "cell_type": "code",
   "execution_count": 6,
   "metadata": {},
   "outputs": [
    {
     "output_type": "stream",
     "name": "stderr",
     "text": [
      "1:1: E741 ambiguous variable name 'l'\n",
      "4:1: E741 ambiguous variable name 'l'\n",
      "7:1: E741 ambiguous variable name 'l'\n",
      "140668031771904 [1, 2, 3]\n",
      "140668031771904 [1, 2, 3, 4, 5]\n",
      "140668031771904 [1, 2, 3, 4, 5, 1, 2, 3, 4, 5]\n",
      "140668031748416 (1, 2, 3)\n",
      "140668032114208 (1, 2, 3, 1, 2, 3)\n"
     ]
    }
   ],
   "source": [
    "l = [1, 2, 3]\n",
    "print(id(l), l)\n",
    "\n",
    "l += [4, 5]\n",
    "print(id(l), l)\n",
    "\n",
    "l *= 2\n",
    "print(id(l), l)\n",
    "\n",
    "t = (1, 2, 3)\n",
    "print(id(t), t)\n",
    "\n",
    "t *= 2\n",
    "print(id(t), t)"
   ]
  },
  {
   "cell_type": "code",
   "execution_count": 7,
   "metadata": {},
   "outputs": [
    {
     "output_type": "stream",
     "name": "stdout",
     "text": [
      "140668031748992 140668032165632\n140668031748992 (1, 2, [30, 40, 50, 60])\n140668032165632 [30, 40, 50, 60]\n"
     ]
    },
    {
     "output_type": "error",
     "ename": "TypeError",
     "evalue": "'tuple' object does not support item assignment",
     "traceback": [
      "\u001b[0;31m---------------------------------------------------------------------------\u001b[0m",
      "\u001b[0;31mTypeError\u001b[0m                                 Traceback (most recent call last)",
      "\u001b[0;32m<ipython-input-7-cfc46f4f9af6>\u001b[0m in \u001b[0;36m<module>\u001b[0;34m\u001b[0m\n\u001b[1;32m      3\u001b[0m \u001b[0;34m\u001b[0m\u001b[0m\n\u001b[1;32m      4\u001b[0m \u001b[0;32mtry\u001b[0m\u001b[0;34m:\u001b[0m\u001b[0;34m\u001b[0m\u001b[0;34m\u001b[0m\u001b[0m\n\u001b[0;32m----> 5\u001b[0;31m     \u001b[0mt\u001b[0m\u001b[0;34m[\u001b[0m\u001b[0;36m2\u001b[0m\u001b[0;34m]\u001b[0m \u001b[0;34m+=\u001b[0m \u001b[0;34m[\u001b[0m\u001b[0;36m50\u001b[0m\u001b[0;34m,\u001b[0m \u001b[0;36m60\u001b[0m\u001b[0;34m]\u001b[0m\u001b[0;34m\u001b[0m\u001b[0;34m\u001b[0m\u001b[0m\n\u001b[0m\u001b[1;32m      6\u001b[0m \u001b[0;32mfinally\u001b[0m\u001b[0;34m:\u001b[0m\u001b[0;34m\u001b[0m\u001b[0;34m\u001b[0m\u001b[0m\n\u001b[1;32m      7\u001b[0m     \u001b[0mprint\u001b[0m\u001b[0;34m(\u001b[0m\u001b[0mid\u001b[0m\u001b[0;34m(\u001b[0m\u001b[0mt\u001b[0m\u001b[0;34m)\u001b[0m\u001b[0;34m,\u001b[0m \u001b[0mt\u001b[0m\u001b[0;34m)\u001b[0m\u001b[0;34m\u001b[0m\u001b[0;34m\u001b[0m\u001b[0m\n",
      "\u001b[0;31mTypeError\u001b[0m: 'tuple' object does not support item assignment"
     ]
    }
   ],
   "source": [
    "t = (1, 2, [30, 40])\n",
    "print(id(t), id(t[2]))\n",
    "\n",
    "try:\n",
    "    t[2] += [50, 60]\n",
    "finally:\n",
    "    print(id(t), t)\n",
    "    print(id(t[2]), t[2])"
   ]
  },
  {
   "cell_type": "code",
   "execution_count": null,
   "metadata": {},
   "outputs": [],
   "source": []
  }
 ]
}