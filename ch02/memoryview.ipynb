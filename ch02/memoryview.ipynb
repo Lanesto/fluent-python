{
 "metadata": {
  "language_info": {
   "codemirror_mode": {
    "name": "ipython",
    "version": 3
   },
   "file_extension": ".py",
   "mimetype": "text/x-python",
   "name": "python",
   "nbconvert_exporter": "python",
   "pygments_lexer": "ipython3",
   "version": "3.9.1-final"
  },
  "orig_nbformat": 2,
  "kernelspec": {
   "name": "python3",
   "display_name": "Python 3",
   "language": "python"
  }
 },
 "nbformat": 4,
 "nbformat_minor": 2,
 "cells": [
  {
   "cell_type": "code",
   "execution_count": 1,
   "metadata": {},
   "outputs": [],
   "source": [
    "%load_ext pycodestyle_magic\n",
    "%pycodestyle_on"
   ]
  },
  {
   "cell_type": "code",
   "execution_count": 2,
   "metadata": {},
   "outputs": [],
   "source": [
    "import doctest"
   ]
  },
  {
   "cell_type": "code",
   "execution_count": 3,
   "metadata": {},
   "outputs": [
    {
     "output_type": "execute_result",
     "data": {
      "text/plain": [
       "TestResults(failed=0, attempted=9)"
      ]
     },
     "metadata": {},
     "execution_count": 3
    }
   ],
   "source": [
    "import array\n",
    "\n",
    "\"\"\"\n",
    "\n",
    ">>> numbers = array.array('h', [-2, -1, 0, 1, 2])\n",
    ">>> memv = memoryview(numbers)\n",
    ">>> len(memv)\n",
    "5\n",
    ">>> memv[0]\n",
    "-2\n",
    ">>> memv_oct = memv.cast('B')\n",
    ">>> memv_oct.tolist()\n",
    "[254, 255, 255, 255, 0, 0, 1, 0, 2, 0]\n",
    ">>> memv_oct[0] = 0  # little endian; (-2) 1111 1111 1111 1110 -> (-256) 1111 1111 0000 0000\n",
    ">>> memv_oct[5] = 4  # (0) 0000 0000 0000 0000 -> (1024) 0000 0100 0000 0000\n",
    ">>> numbers\n",
    "array('h', [-256, -1, 1024, 1, 2])\n",
    "\"\"\"  # noqa: E501\n",
    "\n",
    "doctest.testmod()"
   ]
  },
  {
   "cell_type": "code",
   "execution_count": 4,
   "metadata": {},
   "outputs": [
    {
     "output_type": "execute_result",
     "data": {
      "text/plain": [
       "TestResults(failed=0, attempted=9)"
      ]
     },
     "metadata": {},
     "execution_count": 4
    }
   ],
   "source": [
    "import numpy\n",
    "\n",
    "\"\"\"\n",
    "\n",
    ">>> a = numpy.arange(12)\n",
    ">>> type(a)\n",
    "<class 'numpy.ndarray'>\n",
    ">>> a.shape\n",
    "(12,)\n",
    ">>> a.shape = (3, 4)\n",
    ">>> a\n",
    "array([[ 0,  1,  2,  3],\n",
    "       [ 4,  5,  6,  7],\n",
    "       [ 8,  9, 10, 11]])\n",
    ">>> a[2]\n",
    "array([ 8,  9, 10, 11])\n",
    ">>> a[2, 1]\n",
    "9\n",
    ">>> a[:, 1]\n",
    "array([1, 5, 9])\n",
    ">>> a.transpose()\n",
    "array([[ 0,  4,  8],\n",
    "       [ 1,  5,  9],\n",
    "       [ 2,  6, 10],\n",
    "       [ 3,  7, 11]])\n",
    "\"\"\"\n",
    "\n",
    "doctest.testmod()"
   ]
  },
  {
   "cell_type": "code",
   "execution_count": 5,
   "metadata": {},
   "outputs": [
    {
     "output_type": "stream",
     "name": "stdout",
     "text": [
      "before: [2337861.565151 3841975.678164 6591189.075587]\n",
      "time: 0.014131700008874759\n",
      "after: [2337861.565151 3841975.678164 6591189.075587]\n"
     ]
    }
   ],
   "source": [
    "import os\n",
    "import random\n",
    "from time import perf_counter as pc\n",
    "import numpy\n",
    "\n",
    "TEXT_FILENAME = 'floats-10M-lines.txt'\n",
    "NPY_FILENAME = 'floats-10M.npy'\n",
    "\n",
    "# Create sample file\n",
    "with open(TEXT_FILENAME, 'w') as fp:\n",
    "    for _ in range(10**7):\n",
    "        fp.write('{:f}\\n'.format(random.uniform(0, 1e7)))\n",
    "\n",
    "# Create numpy array from text file\n",
    "floats = numpy.loadtxt(TEXT_FILENAME)\n",
    "print(\"before:\", floats[-3:])\n",
    "\n",
    "# Measure performance\n",
    "t0 = pc()\n",
    "floats *= 0.5\n",
    "floats /= 3\n",
    "t = pc() - t0\n",
    "\n",
    "print(\"time:\", t)\n",
    "\n",
    "# Load numpy array from npy file\n",
    "numpy.save(NPY_FILENAME, floats)\n",
    "floats2 = numpy.load(NPY_FILENAME, 'r+')\n",
    "floats2 *= 6\n",
    "print(\"after:\", floats2[-3:])\n",
    "\n",
    "# Remove create temporary files\n",
    "os.remove(TEXT_FILENAME)\n",
    "os.remove(NPY_FILENAME)"
   ]
  },
  {
   "cell_type": "code",
   "execution_count": null,
   "metadata": {},
   "outputs": [],
   "source": []
  }
 ]
}