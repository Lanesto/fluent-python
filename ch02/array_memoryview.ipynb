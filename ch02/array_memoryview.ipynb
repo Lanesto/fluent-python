{
 "metadata": {
  "language_info": {
   "codemirror_mode": {
    "name": "ipython",
    "version": 3
   },
   "file_extension": ".py",
   "mimetype": "text/x-python",
   "name": "python",
   "nbconvert_exporter": "python",
   "pygments_lexer": "ipython3",
   "version": "3.9.1-final"
  },
  "orig_nbformat": 2,
  "kernelspec": {
   "name": "python3",
   "display_name": "Python 3",
   "language": "python"
  }
 },
 "nbformat": 4,
 "nbformat_minor": 2,
 "cells": [
  {
   "cell_type": "code",
   "execution_count": 1,
   "metadata": {},
   "outputs": [
    {
     "output_type": "stream",
     "name": "stdout",
     "text": [
      "Requirement already satisfied: numpy in /usr/local/lib/python3.9/site-packages (1.19.4)\n"
     ]
    }
   ],
   "source": [
    "!pip install numpy\n",
    "\n",
    "%load_ext pycodestyle_magic\n",
    "%pycodestyle_on"
   ]
  },
  {
   "cell_type": "code",
   "execution_count": 2,
   "metadata": {},
   "outputs": [
    {
     "output_type": "stream",
     "name": "stdout",
     "text": [
      "os.stat_result(st_mode=33188, st_ino=11258999068607671, st_dev=49, st_nlink=1, st_uid=0, st_gid=0, st_size=80000000, st_atime=1608633065, st_mtime=1608633065, st_ctime=1608633065)\n",
      "5:80: E501 line too long (105 > 79 characters)\n",
      "0.940132586416398\n",
      "0.940132586416398\n",
      "True\n"
     ]
    }
   ],
   "source": [
    "import os\n",
    "from array import array\n",
    "from random import random\n",
    "\n",
    "floats = array('d', (random() for i in range(10 ** 7)))  # typecode 'd' - double precision floating point\n",
    "fp = open('floats.bin', 'wb')\n",
    "floats.tofile(fp)\n",
    "fp.close()\n",
    "\n",
    "floats2 = array('d')\n",
    "fp = open('floats.bin', 'rb')\n",
    "floats2.fromfile(fp, 10 ** 7)\n",
    "fp.close()\n",
    "\n",
    "print(os.stat('floats.bin'))\n",
    "os.remove('floats.bin')\n",
    "\n",
    "print(\n",
    "    floats[-1],\n",
    "    floats2[-1],\n",
    "    floats == floats2,\n",
    "    sep='\\n'\n",
    ")"
   ]
  },
  {
   "cell_type": "code",
   "execution_count": 3,
   "metadata": {},
   "outputs": [
    {
     "output_type": "stream",
     "name": "stderr",
     "text": [
      "3:80: E501 line too long (87 > 79 characters)\n",
      "13:80: E501 line too long (88 > 79 characters)\n",
      "5\n",
      "-2\n",
      "[254, 255, 255, 255, 0, 0, 1, 0, 2, 0]\n",
      "array('h', [-256, -1, 1024, 1, 2])\n"
     ]
    }
   ],
   "source": [
    "import array\n",
    "\n",
    "numbers = array.array('h', [-2, -1, 0, 1, 2])  # typecode 'h' - signed integer, 2 bytes\n",
    "memv = memoryview(numbers)\n",
    "print(\n",
    "    len(memv),\n",
    "    memv[0],\n",
    "    sep='\\n'\n",
    ")\n",
    "\n",
    "memv_oct = memv.cast('B')\n",
    "print(memv_oct.tolist())\n",
    "memv_oct[0] = 0  # little endian; (-2) 1111 1111 1111 1110 -> (-256) 1111 1111 0000 0000\n",
    "memv_oct[5] = 4  # (0) 0000 0000 0000 0000 -> (1024) 0000 0100 0000 0000\n",
    "print(numbers)"
   ]
  },
  {
   "cell_type": "code",
   "execution_count": 4,
   "metadata": {},
   "outputs": [
    {
     "output_type": "stream",
     "name": "stderr",
     "text": [
      "7:19: E231 missing whitespace after ','\n",
      "<class 'numpy.ndarray'> [ 0  1  2  3  4  5  6  7  8  9 10 11] (12,)\n",
      "[[ 0  1  2  3]\n",
      " [ 4  5  6  7]\n",
      " [ 8  9 10 11]]\n",
      "[ 8  9 10 11]\n",
      "9\n",
      "[1 5 9]\n",
      "[[ 0  4  8]\n",
      " [ 1  5  9]\n",
      " [ 2  6 10]\n",
      " [ 3  7 11]]\n"
     ]
    }
   ],
   "source": [
    "import numpy\n",
    "\n",
    "a = numpy.arange(12)\n",
    "print(type(a), a, a.shape)\n",
    "\n",
    "a.shape = 3, 4\n",
    "print(a, a[2], a[2,1], a[:, 1], sep='\\n')\n",
    "\n",
    "print(a.transpose())"
   ]
  },
  {
   "cell_type": "code",
   "execution_count": 5,
   "metadata": {},
   "outputs": [],
   "source": [
    "# Setup\n",
    "import os\n",
    "import random\n",
    "\n",
    "if os.path.isfile('floats-10M-lines.txt'):\n",
    "    os.remove('floats-10M-lines.txt')\n",
    "\n",
    "fp = open('floats-10M-lines.txt', 'w')\n",
    "for _ in range(10**7):\n",
    "    fp.write('{:f}\\n'.format(random.uniform(0, 1e7)))\n",
    "\n",
    "fp.close()"
   ]
  },
  {
   "cell_type": "code",
   "execution_count": 6,
   "metadata": {},
   "outputs": [
    {
     "output_type": "stream",
     "name": "stdout",
     "text": [
      "[2267764.225986 4689891.499853 5338974.647422]\n",
      "[1133882.112993  2344945.7499265 2669487.323711 ]\n",
      "0.007748799998807954\n",
      "[2267764.225986 4689891.499853 5338974.647422]\n"
     ]
    }
   ],
   "source": [
    "import os\n",
    "from time import perf_counter as pc\n",
    "import numpy\n",
    "\n",
    "floats = numpy.loadtxt('floats-10M-lines.txt')\n",
    "print(floats[-3:])\n",
    "floats *= 0.5\n",
    "print(floats[-3:])\n",
    "\n",
    "t0 = pc()\n",
    "floats /= 3\n",
    "t = pc() - t0\n",
    "print(t)\n",
    "\n",
    "numpy.save('floats-10M', floats)\n",
    "floats2 = numpy.load('floats-10M.npy', 'r+')\n",
    "floats2 *= 6\n",
    "print(floats2[-3:])\n",
    "\n",
    "os.remove('floats-10M.npy')"
   ]
  },
  {
   "cell_type": "code",
   "execution_count": 7,
   "metadata": {},
   "outputs": [],
   "source": [
    "# Teardown\n",
    "import os\n",
    "\n",
    "os.remove('floats-10M-lines.txt')"
   ]
  }
 ]
}