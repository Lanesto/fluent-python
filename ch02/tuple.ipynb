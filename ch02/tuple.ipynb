{
 "metadata": {
  "language_info": {
   "codemirror_mode": {
    "name": "ipython",
    "version": 3
   },
   "file_extension": ".py",
   "mimetype": "text/x-python",
   "name": "python",
   "nbconvert_exporter": "python",
   "pygments_lexer": "ipython3",
   "version": "3.9.1-final"
  },
  "orig_nbformat": 2,
  "kernelspec": {
   "name": "python3",
   "display_name": "Python 3.9.1 64-bit",
   "metadata": {
    "interpreter": {
     "hash": "4cd7ab41f5fca4b9b44701077e38c5ffd31fe66a6cab21e0214b68d958d0e462"
    }
   }
  }
 },
 "nbformat": 4,
 "nbformat_minor": 2,
 "cells": [
  {
   "cell_type": "code",
   "execution_count": 1,
   "metadata": {},
   "outputs": [],
   "source": [
    "%load_ext pycodestyle_magic\n",
    "%pycodestyle_on"
   ]
  },
  {
   "cell_type": "code",
   "execution_count": 2,
   "metadata": {},
   "outputs": [],
   "source": [
    "import doctest"
   ]
  },
  {
   "cell_type": "code",
   "execution_count": 3,
   "metadata": {},
   "outputs": [
    {
     "output_type": "execute_result",
     "data": {
      "text/plain": [
       "TestResults(failed=0, attempted=5)"
      ]
     },
     "metadata": {},
     "execution_count": 3
    }
   ],
   "source": [
    "\"\"\"\n",
    "\n",
    ">>> lax_coordinates = (33.9425, -118.408056)\n",
    ">>> city, year, pop, chg, area = ('Tokyo', 2003, 32450, 0.66, 8014)\n",
    ">>> traveler_ids = [('USA', 31195855), ('BRA', 'CE342567'), ('ESP', 'XDA205856')]\n",
    ">>> for passport in sorted(traveler_ids):\n",
    "...     print('{}/{}'.format(*passport))\n",
    "BRA/CE342567\n",
    "ESP/XDA205856\n",
    "USA/31195855\n",
    ">>> for country, _ in traveler_ids:\n",
    "...     print(country)\n",
    "USA\n",
    "BRA\n",
    "ESP\n",
    "\"\"\"  # noqa: E501\n",
    "\n",
    "doctest.testmod()"
   ]
  },
  {
   "cell_type": "code",
   "execution_count": 4,
   "metadata": {},
   "outputs": [
    {
     "output_type": "execute_result",
     "data": {
      "text/plain": [
       "TestResults(failed=0, attempted=17)"
      ]
     },
     "metadata": {},
     "execution_count": 4
    }
   ],
   "source": [
    "import os\n",
    "\n",
    "\"\"\"\n",
    ">>> lax_coordinates = (33.9425, -118.408056)\n",
    ">>> latitude, longitude = lax_coordinates\n",
    ">>> latitude\n",
    "33.9425\n",
    ">>> longitude\n",
    "-118.408056\n",
    "\n",
    ">>> divmod(20, 8)\n",
    "(2, 4)\n",
    ">>> t = (20, 8)\n",
    ">>> divmod(*t)\n",
    "(2, 4)\n",
    ">>> quotient, remainder = divmod(*t)\n",
    ">>> quotient, remainder\n",
    "(2, 4)\n",
    "\n",
    ">>> _, filename = os.path.split('/home/luciano/.ssh/idrsa.pub')\n",
    ">>> filename\n",
    "'idrsa.pub'\n",
    "\n",
    ">>> a, b, *rest = range(5)\n",
    ">>> a, b, rest\n",
    "(0, 1, [2, 3, 4])\n",
    ">>> a, b, *rest = range(3)\n",
    ">>> a, b, rest\n",
    "(0, 1, [2])\n",
    ">>> a, b, *rest = range(2)\n",
    ">>> a, b, rest\n",
    "(0, 1, [])\n",
    "\"\"\"\n",
    "\n",
    "doctest.testmod()"
   ]
  },
  {
   "cell_type": "code",
   "execution_count": 5,
   "metadata": {},
   "outputs": [
    {
     "output_type": "stream",
     "name": "stdout",
     "text": [
      "                |   lat.    |   long.  \nMexico City     |   19.4333 |  -99.1333\nNew York-Newark |   40.8086 |  -74.0204\nSao Paulo       |  -23.5478 |  -46.6358\n"
     ]
    }
   ],
   "source": [
    "metro_areas = [\n",
    "    ('Tokyo', 'JP', 36.933, (35.689722, 139.691667)),\n",
    "    ('Delhi NCR', 'IN', 21.935, (28.613889, 77.208889)),\n",
    "    ('Mexico City', 'MX', 20.104, (19.433333, -99.133333)),\n",
    "    ('New York-Newark', 'US', 20.104, (40.808611, -74.020386)),\n",
    "    ('Sao Paulo', 'BR', 19.649, (-23.547778, -46.635833)),\n",
    "]\n",
    "\n",
    "print('{:15} | {:^9} | {:^9}'.format('', 'lat.', 'long.'))\n",
    "fmt = '{:15} | {:9.4f} | {:9.4f}'\n",
    "for name, cc, pop, (latitude, longitude) in metro_areas:\n",
    "    if longitude <= 0:\n",
    "        print(fmt.format(name, latitude, longitude))"
   ]
  },
  {
   "cell_type": "code",
   "execution_count": 6,
   "metadata": {},
   "outputs": [
    {
     "output_type": "execute_result",
     "data": {
      "text/plain": [
       "TestResults(failed=0, attempted=12)"
      ]
     },
     "metadata": {},
     "execution_count": 6
    }
   ],
   "source": [
    "from collections import namedtuple\n",
    "\n",
    "\"\"\"\n",
    "\n",
    ">>> City = namedtuple('City', ('name', 'country', 'population', 'coordinates'))\n",
    ">>> tokyo = City('Tokyo', 'JP', 36.933, (35.689722, 139.691667))\n",
    ">>> tokyo\n",
    "City(name='Tokyo', country='JP', population=36.933, coordinates=(35.689722, 139.691667))\n",
    ">>> tokyo.population\n",
    "36.933\n",
    ">>> tokyo.coordinates\n",
    "(35.689722, 139.691667)\n",
    ">>> tokyo[1]\n",
    "'JP'\n",
    "\n",
    ">>> City._fields\n",
    "('name', 'country', 'population', 'coordinates')\n",
    ">>> Coordinate = namedtuple('Coordinate', ('latitude', 'longitude'))\n",
    ">>> delhi_data = ('Delhi NCR', 'IN', 21.935, Coordinate(28.613889, 77.208889))\n",
    ">>> delhi = City._make(delhi_data)\n",
    ">>> delhi._asdict()\n",
    "{'name': 'Delhi NCR', 'country': 'IN', 'population': 21.935, 'coordinates': Coordinate(latitude=28.613889, longitude=77.208889)}\n",
    ">>> for key, value in delhi._asdict().items():\n",
    "...    print(key + ':', value)\n",
    "name: Delhi NCR\n",
    "country: IN\n",
    "population: 21.935\n",
    "coordinates: Coordinate(latitude=28.613889, longitude=77.208889)\n",
    "\"\"\"  # noqa: E501\n",
    "\n",
    "doctest.testmod()"
   ]
  },
  {
   "cell_type": "code",
   "execution_count": null,
   "metadata": {},
   "outputs": [],
   "source": []
  }
 ]
}